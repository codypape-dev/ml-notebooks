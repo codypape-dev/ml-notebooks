{
  "nbformat": 4,
  "nbformat_minor": 0,
  "metadata": {
    "colab": {
      "provenance": [],
      "collapsed_sections": [
        "U8_rjW1kxQ_h"
      ],
      "authorship_tag": "ABX9TyNPSx6OUjMoUXdc2CMOIh8c",
      "include_colab_link": true
    },
    "kernelspec": {
      "name": "python3",
      "display_name": "Python 3"
    },
    "language_info": {
      "name": "python"
    }
  },
  "cells": [
    {
      "cell_type": "markdown",
      "metadata": {
        "id": "view-in-github",
        "colab_type": "text"
      },
      "source": [
        "<a href=\"https://colab.research.google.com/github/codypape-dev/ml-notebooks/blob/main/PML_Paula_Perdomo.ipynb\" target=\"_parent\"><img src=\"https://colab.research.google.com/assets/colab-badge.svg\" alt=\"Open In Colab\"/></a>"
      ]
    },
    {
      "cell_type": "markdown",
      "source": [
        "# **Creacion de modelo predictivo para determinar la demanda sobre el uso de un sistema de alquiler de bicicletas**\n",
        "\n",
        "\n",
        "\n",
        "---\n",
        "\n",
        "> ## Paula Perdomo\n",
        "> #### Asignatura: Principios de Machine Learning\n",
        "> #### Universidad de los Andes - Maestria en Inteligencia Artificial\n",
        "> ![Universidad de los Andes](https://uniandes.edu.co/sites/default/files/logo-header.png)\n",
        "\n",
        "---\n",
        "\n",
        "\n",
        "Este proyecto pretende crear un modelo predictivo que permita determinar la demanda sobre el uso de un sistema de alquiler de bicicletas. Este conocimiento puede dar soporte para mejorar el servicio y conocer los factores que inciden en su eficiencia. Fomentar planes de movilidad sostenible es una manera de reducir las emisiones de CO2, que afectan la temperatura del planeta y desequilibran el ciclo natural.\n",
        "\n",
        "El conjunto de datos recoge información sobre la cantidad de bicicletas rentadas en un período de tiempo, junto con información meteorológica y de temporalidad, entre otros\n",
        "\n",
        "### Objetivos\n",
        "\n",
        "- Aplicar técnicas de regresión para construir un modelo predictivo que permita estimar la demanda sobre el uso de un sistema de alquiler de bicicletas siguiendo el ciclo de machine learning.\n",
        "\n",
        "- Determinar cuáles son los factores que más inciden en la demanda con base en los datos."
      ],
      "metadata": {
        "id": "UEdytndbokyQ"
      }
    },
    {
      "cell_type": "markdown",
      "source": [
        "## 1. Exploración y perfilamiento de los datos\n",
        "\n"
      ],
      "metadata": {
        "id": "heBTdo_J1L9O"
      }
    },
    {
      "cell_type": "markdown",
      "source": [
        "### Importación de librerías requeridas\n",
        "\n",
        "Importaremos la librería Pandas, Seaborn  y, además, utilizaremos la librería scikit-learn."
      ],
      "metadata": {
        "id": "dsp3b-jzlNJu"
      }
    },
    {
      "cell_type": "code",
      "source": [
        "import pandas as pd\n",
        "import seaborn as sns\n",
        "\n",
        "from sklearn.model_selection import train_test_split, GridSearchCV, KFold\n",
        "from sklearn.linear_model import LinearRegression, Lasso\n",
        "from sklearn.metrics import mean_squared_error, mean_absolute_error, r2_score\n",
        "from sklearn.preprocessing import PolynomialFeatures, RobustScaler, StandardScaler, MinMaxScaler\n",
        "from sklearn.pipeline import make_pipeline"
      ],
      "metadata": {
        "id": "YeSK-6sGlwCZ"
      },
      "execution_count": null,
      "outputs": []
    },
    {
      "cell_type": "markdown",
      "source": [
        "### Carga de datos\n",
        "Realizaremos la carga de datos usando la función de Pandas read_csv(). En este caso agregaremos un nuevo parámetro para especificar el separador del archivo que, para nuestro conjunto de datos, es una coma:"
      ],
      "metadata": {
        "id": "-z1cyaPal-fJ"
      }
    },
    {
      "cell_type": "code",
      "source": [
        "data_raw = pd.read_csv('/content/Datos_Etapa-1.csv', sep=',')"
      ],
      "metadata": {
        "id": "rEoZMudmmSlB"
      },
      "execution_count": null,
      "outputs": []
    },
    {
      "cell_type": "markdown",
      "source": [
        "Veremos el tamaño de los datos usando shape:"
      ],
      "metadata": {
        "id": "gZm2x-ftoj9T"
      }
    },
    {
      "cell_type": "code",
      "source": [
        "data_raw.shape"
      ],
      "metadata": {
        "colab": {
          "base_uri": "https://localhost:8080/"
        },
        "id": "MGz8W2BFokyM",
        "outputId": "00f5a010-9b37-48c7-92c7-97b02be00221"
      },
      "execution_count": null,
      "outputs": [
        {
          "output_type": "execute_result",
          "data": {
            "text/plain": [
              "(17379, 9)"
            ]
          },
          "metadata": {},
          "execution_count": 3
        }
      ]
    },
    {
      "cell_type": "markdown",
      "source": [
        "Y los primeros datos del conjunto usando `head()`:"
      ],
      "metadata": {
        "id": "S3YuxRIsorW0"
      }
    },
    {
      "cell_type": "code",
      "source": [
        "data_raw.head()"
      ],
      "metadata": {
        "id": "fZVCixVHouZi",
        "colab": {
          "base_uri": "https://localhost:8080/",
          "height": 206
        },
        "outputId": "0eeae5be-4a8e-45d5-ee2c-22d3b236f4f4"
      },
      "execution_count": null,
      "outputs": [
        {
          "output_type": "execute_result",
          "data": {
            "text/plain": [
              "   season  weekday weathersit  temp   atemp   hum  windspeed  cnt time_of_day\n",
              "0  Winter        6      Clear  3.28  3.0014  0.81        0.0   16       Night\n",
              "1  Winter        6      Clear  2.34  1.9982  0.80        0.0   40       Night\n",
              "2  Winter        6      Clear  2.34  1.9982  0.80        0.0   32       Night\n",
              "3  Winter        6      Clear  3.28  3.0014  0.75        0.0   13       Night\n",
              "4  Winter        6      Clear  3.28  3.0014  0.75        0.0    1       Night"
            ],
            "text/html": [
              "\n",
              "  <div id=\"df-c7f5a461-b71d-42e2-81cb-cc51f65727f5\" class=\"colab-df-container\">\n",
              "    <div>\n",
              "<style scoped>\n",
              "    .dataframe tbody tr th:only-of-type {\n",
              "        vertical-align: middle;\n",
              "    }\n",
              "\n",
              "    .dataframe tbody tr th {\n",
              "        vertical-align: top;\n",
              "    }\n",
              "\n",
              "    .dataframe thead th {\n",
              "        text-align: right;\n",
              "    }\n",
              "</style>\n",
              "<table border=\"1\" class=\"dataframe\">\n",
              "  <thead>\n",
              "    <tr style=\"text-align: right;\">\n",
              "      <th></th>\n",
              "      <th>season</th>\n",
              "      <th>weekday</th>\n",
              "      <th>weathersit</th>\n",
              "      <th>temp</th>\n",
              "      <th>atemp</th>\n",
              "      <th>hum</th>\n",
              "      <th>windspeed</th>\n",
              "      <th>cnt</th>\n",
              "      <th>time_of_day</th>\n",
              "    </tr>\n",
              "  </thead>\n",
              "  <tbody>\n",
              "    <tr>\n",
              "      <th>0</th>\n",
              "      <td>Winter</td>\n",
              "      <td>6</td>\n",
              "      <td>Clear</td>\n",
              "      <td>3.28</td>\n",
              "      <td>3.0014</td>\n",
              "      <td>0.81</td>\n",
              "      <td>0.0</td>\n",
              "      <td>16</td>\n",
              "      <td>Night</td>\n",
              "    </tr>\n",
              "    <tr>\n",
              "      <th>1</th>\n",
              "      <td>Winter</td>\n",
              "      <td>6</td>\n",
              "      <td>Clear</td>\n",
              "      <td>2.34</td>\n",
              "      <td>1.9982</td>\n",
              "      <td>0.80</td>\n",
              "      <td>0.0</td>\n",
              "      <td>40</td>\n",
              "      <td>Night</td>\n",
              "    </tr>\n",
              "    <tr>\n",
              "      <th>2</th>\n",
              "      <td>Winter</td>\n",
              "      <td>6</td>\n",
              "      <td>Clear</td>\n",
              "      <td>2.34</td>\n",
              "      <td>1.9982</td>\n",
              "      <td>0.80</td>\n",
              "      <td>0.0</td>\n",
              "      <td>32</td>\n",
              "      <td>Night</td>\n",
              "    </tr>\n",
              "    <tr>\n",
              "      <th>3</th>\n",
              "      <td>Winter</td>\n",
              "      <td>6</td>\n",
              "      <td>Clear</td>\n",
              "      <td>3.28</td>\n",
              "      <td>3.0014</td>\n",
              "      <td>0.75</td>\n",
              "      <td>0.0</td>\n",
              "      <td>13</td>\n",
              "      <td>Night</td>\n",
              "    </tr>\n",
              "    <tr>\n",
              "      <th>4</th>\n",
              "      <td>Winter</td>\n",
              "      <td>6</td>\n",
              "      <td>Clear</td>\n",
              "      <td>3.28</td>\n",
              "      <td>3.0014</td>\n",
              "      <td>0.75</td>\n",
              "      <td>0.0</td>\n",
              "      <td>1</td>\n",
              "      <td>Night</td>\n",
              "    </tr>\n",
              "  </tbody>\n",
              "</table>\n",
              "</div>\n",
              "    <div class=\"colab-df-buttons\">\n",
              "\n",
              "  <div class=\"colab-df-container\">\n",
              "    <button class=\"colab-df-convert\" onclick=\"convertToInteractive('df-c7f5a461-b71d-42e2-81cb-cc51f65727f5')\"\n",
              "            title=\"Convert this dataframe to an interactive table.\"\n",
              "            style=\"display:none;\">\n",
              "\n",
              "  <svg xmlns=\"http://www.w3.org/2000/svg\" height=\"24px\" viewBox=\"0 -960 960 960\">\n",
              "    <path d=\"M120-120v-720h720v720H120Zm60-500h600v-160H180v160Zm220 220h160v-160H400v160Zm0 220h160v-160H400v160ZM180-400h160v-160H180v160Zm440 0h160v-160H620v160ZM180-180h160v-160H180v160Zm440 0h160v-160H620v160Z\"/>\n",
              "  </svg>\n",
              "    </button>\n",
              "\n",
              "  <style>\n",
              "    .colab-df-container {\n",
              "      display:flex;\n",
              "      gap: 12px;\n",
              "    }\n",
              "\n",
              "    .colab-df-convert {\n",
              "      background-color: #E8F0FE;\n",
              "      border: none;\n",
              "      border-radius: 50%;\n",
              "      cursor: pointer;\n",
              "      display: none;\n",
              "      fill: #1967D2;\n",
              "      height: 32px;\n",
              "      padding: 0 0 0 0;\n",
              "      width: 32px;\n",
              "    }\n",
              "\n",
              "    .colab-df-convert:hover {\n",
              "      background-color: #E2EBFA;\n",
              "      box-shadow: 0px 1px 2px rgba(60, 64, 67, 0.3), 0px 1px 3px 1px rgba(60, 64, 67, 0.15);\n",
              "      fill: #174EA6;\n",
              "    }\n",
              "\n",
              "    .colab-df-buttons div {\n",
              "      margin-bottom: 4px;\n",
              "    }\n",
              "\n",
              "    [theme=dark] .colab-df-convert {\n",
              "      background-color: #3B4455;\n",
              "      fill: #D2E3FC;\n",
              "    }\n",
              "\n",
              "    [theme=dark] .colab-df-convert:hover {\n",
              "      background-color: #434B5C;\n",
              "      box-shadow: 0px 1px 3px 1px rgba(0, 0, 0, 0.15);\n",
              "      filter: drop-shadow(0px 1px 2px rgba(0, 0, 0, 0.3));\n",
              "      fill: #FFFFFF;\n",
              "    }\n",
              "  </style>\n",
              "\n",
              "    <script>\n",
              "      const buttonEl =\n",
              "        document.querySelector('#df-c7f5a461-b71d-42e2-81cb-cc51f65727f5 button.colab-df-convert');\n",
              "      buttonEl.style.display =\n",
              "        google.colab.kernel.accessAllowed ? 'block' : 'none';\n",
              "\n",
              "      async function convertToInteractive(key) {\n",
              "        const element = document.querySelector('#df-c7f5a461-b71d-42e2-81cb-cc51f65727f5');\n",
              "        const dataTable =\n",
              "          await google.colab.kernel.invokeFunction('convertToInteractive',\n",
              "                                                    [key], {});\n",
              "        if (!dataTable) return;\n",
              "\n",
              "        const docLinkHtml = 'Like what you see? Visit the ' +\n",
              "          '<a target=\"_blank\" href=https://colab.research.google.com/notebooks/data_table.ipynb>data table notebook</a>'\n",
              "          + ' to learn more about interactive tables.';\n",
              "        element.innerHTML = '';\n",
              "        dataTable['output_type'] = 'display_data';\n",
              "        await google.colab.output.renderOutput(dataTable, element);\n",
              "        const docLink = document.createElement('div');\n",
              "        docLink.innerHTML = docLinkHtml;\n",
              "        element.appendChild(docLink);\n",
              "      }\n",
              "    </script>\n",
              "  </div>\n",
              "\n",
              "\n",
              "<div id=\"df-e3a66b50-3167-40f1-b740-0ac64a4d40e5\">\n",
              "  <button class=\"colab-df-quickchart\" onclick=\"quickchart('df-e3a66b50-3167-40f1-b740-0ac64a4d40e5')\"\n",
              "            title=\"Suggest charts\"\n",
              "            style=\"display:none;\">\n",
              "\n",
              "<svg xmlns=\"http://www.w3.org/2000/svg\" height=\"24px\"viewBox=\"0 0 24 24\"\n",
              "     width=\"24px\">\n",
              "    <g>\n",
              "        <path d=\"M19 3H5c-1.1 0-2 .9-2 2v14c0 1.1.9 2 2 2h14c1.1 0 2-.9 2-2V5c0-1.1-.9-2-2-2zM9 17H7v-7h2v7zm4 0h-2V7h2v10zm4 0h-2v-4h2v4z\"/>\n",
              "    </g>\n",
              "</svg>\n",
              "  </button>\n",
              "\n",
              "<style>\n",
              "  .colab-df-quickchart {\n",
              "      --bg-color: #E8F0FE;\n",
              "      --fill-color: #1967D2;\n",
              "      --hover-bg-color: #E2EBFA;\n",
              "      --hover-fill-color: #174EA6;\n",
              "      --disabled-fill-color: #AAA;\n",
              "      --disabled-bg-color: #DDD;\n",
              "  }\n",
              "\n",
              "  [theme=dark] .colab-df-quickchart {\n",
              "      --bg-color: #3B4455;\n",
              "      --fill-color: #D2E3FC;\n",
              "      --hover-bg-color: #434B5C;\n",
              "      --hover-fill-color: #FFFFFF;\n",
              "      --disabled-bg-color: #3B4455;\n",
              "      --disabled-fill-color: #666;\n",
              "  }\n",
              "\n",
              "  .colab-df-quickchart {\n",
              "    background-color: var(--bg-color);\n",
              "    border: none;\n",
              "    border-radius: 50%;\n",
              "    cursor: pointer;\n",
              "    display: none;\n",
              "    fill: var(--fill-color);\n",
              "    height: 32px;\n",
              "    padding: 0;\n",
              "    width: 32px;\n",
              "  }\n",
              "\n",
              "  .colab-df-quickchart:hover {\n",
              "    background-color: var(--hover-bg-color);\n",
              "    box-shadow: 0 1px 2px rgba(60, 64, 67, 0.3), 0 1px 3px 1px rgba(60, 64, 67, 0.15);\n",
              "    fill: var(--button-hover-fill-color);\n",
              "  }\n",
              "\n",
              "  .colab-df-quickchart-complete:disabled,\n",
              "  .colab-df-quickchart-complete:disabled:hover {\n",
              "    background-color: var(--disabled-bg-color);\n",
              "    fill: var(--disabled-fill-color);\n",
              "    box-shadow: none;\n",
              "  }\n",
              "\n",
              "  .colab-df-spinner {\n",
              "    border: 2px solid var(--fill-color);\n",
              "    border-color: transparent;\n",
              "    border-bottom-color: var(--fill-color);\n",
              "    animation:\n",
              "      spin 1s steps(1) infinite;\n",
              "  }\n",
              "\n",
              "  @keyframes spin {\n",
              "    0% {\n",
              "      border-color: transparent;\n",
              "      border-bottom-color: var(--fill-color);\n",
              "      border-left-color: var(--fill-color);\n",
              "    }\n",
              "    20% {\n",
              "      border-color: transparent;\n",
              "      border-left-color: var(--fill-color);\n",
              "      border-top-color: var(--fill-color);\n",
              "    }\n",
              "    30% {\n",
              "      border-color: transparent;\n",
              "      border-left-color: var(--fill-color);\n",
              "      border-top-color: var(--fill-color);\n",
              "      border-right-color: var(--fill-color);\n",
              "    }\n",
              "    40% {\n",
              "      border-color: transparent;\n",
              "      border-right-color: var(--fill-color);\n",
              "      border-top-color: var(--fill-color);\n",
              "    }\n",
              "    60% {\n",
              "      border-color: transparent;\n",
              "      border-right-color: var(--fill-color);\n",
              "    }\n",
              "    80% {\n",
              "      border-color: transparent;\n",
              "      border-right-color: var(--fill-color);\n",
              "      border-bottom-color: var(--fill-color);\n",
              "    }\n",
              "    90% {\n",
              "      border-color: transparent;\n",
              "      border-bottom-color: var(--fill-color);\n",
              "    }\n",
              "  }\n",
              "</style>\n",
              "\n",
              "  <script>\n",
              "    async function quickchart(key) {\n",
              "      const quickchartButtonEl =\n",
              "        document.querySelector('#' + key + ' button');\n",
              "      quickchartButtonEl.disabled = true;  // To prevent multiple clicks.\n",
              "      quickchartButtonEl.classList.add('colab-df-spinner');\n",
              "      try {\n",
              "        const charts = await google.colab.kernel.invokeFunction(\n",
              "            'suggestCharts', [key], {});\n",
              "      } catch (error) {\n",
              "        console.error('Error during call to suggestCharts:', error);\n",
              "      }\n",
              "      quickchartButtonEl.classList.remove('colab-df-spinner');\n",
              "      quickchartButtonEl.classList.add('colab-df-quickchart-complete');\n",
              "    }\n",
              "    (() => {\n",
              "      let quickchartButtonEl =\n",
              "        document.querySelector('#df-e3a66b50-3167-40f1-b740-0ac64a4d40e5 button');\n",
              "      quickchartButtonEl.style.display =\n",
              "        google.colab.kernel.accessAllowed ? 'block' : 'none';\n",
              "    })();\n",
              "  </script>\n",
              "</div>\n",
              "\n",
              "    </div>\n",
              "  </div>\n"
            ],
            "application/vnd.google.colaboratory.intrinsic+json": {
              "type": "dataframe",
              "variable_name": "data_raw",
              "summary": "{\n  \"name\": \"data_raw\",\n  \"rows\": 17379,\n  \"fields\": [\n    {\n      \"column\": \"season\",\n      \"properties\": {\n        \"dtype\": \"category\",\n        \"samples\": [\n          \"Spring\",\n          \"Fall\",\n          \"Winter\"\n        ],\n        \"num_unique_values\": 4,\n        \"semantic_type\": \"\",\n        \"description\": \"\"\n      }\n    },\n    {\n      \"column\": \"weekday\",\n      \"properties\": {\n        \"dtype\": \"number\",\n        \"std\": 2,\n        \"min\": 0,\n        \"max\": 6,\n        \"samples\": [\n          6,\n          0,\n          4\n        ],\n        \"num_unique_values\": 7,\n        \"semantic_type\": \"\",\n        \"description\": \"\"\n      }\n    },\n    {\n      \"column\": \"weathersit\",\n      \"properties\": {\n        \"dtype\": \"category\",\n        \"samples\": [\n          \"Mist\",\n          \"Heavy Rain\",\n          \"Clear\"\n        ],\n        \"num_unique_values\": 4,\n        \"semantic_type\": \"\",\n        \"description\": \"\"\n      }\n    },\n    {\n      \"column\": \"temp\",\n      \"properties\": {\n        \"dtype\": \"number\",\n        \"std\": 9.050137698736929,\n        \"min\": -7.06,\n        \"max\": 39.0,\n        \"samples\": [\n          -0.48,\n          30.54,\n          23.02\n        ],\n        \"num_unique_values\": 50,\n        \"semantic_type\": \"\",\n        \"description\": \"\"\n      }\n    },\n    {\n      \"column\": \"atemp\",\n      \"properties\": {\n        \"dtype\": \"number\",\n        \"std\": 11.342114231933724,\n        \"min\": -16.0,\n        \"max\": 50.0,\n        \"samples\": [\n          36.0014,\n          44.9972,\n          3.0014\n        ],\n        \"num_unique_values\": 65,\n        \"semantic_type\": \"\",\n        \"description\": \"\"\n      }\n    },\n    {\n      \"column\": \"hum\",\n      \"properties\": {\n        \"dtype\": \"number\",\n        \"std\": 0.19292983406291508,\n        \"min\": 0.0,\n        \"max\": 1.0,\n        \"samples\": [\n          0.29,\n          0.61,\n          0.63\n        ],\n        \"num_unique_values\": 89,\n        \"semantic_type\": \"\",\n        \"description\": \"\"\n      }\n    },\n    {\n      \"column\": \"windspeed\",\n      \"properties\": {\n        \"dtype\": \"number\",\n        \"std\": 8.196795314376963,\n        \"min\": 0.0,\n        \"max\": 56.9969,\n        \"samples\": [\n          56.9969,\n          32.9975,\n          46.0022\n        ],\n        \"num_unique_values\": 30,\n        \"semantic_type\": \"\",\n        \"description\": \"\"\n      }\n    },\n    {\n      \"column\": \"cnt\",\n      \"properties\": {\n        \"dtype\": \"number\",\n        \"std\": 181,\n        \"min\": 1,\n        \"max\": 977,\n        \"samples\": [\n          594,\n          46,\n          352\n        ],\n        \"num_unique_values\": 869,\n        \"semantic_type\": \"\",\n        \"description\": \"\"\n      }\n    },\n    {\n      \"column\": \"time_of_day\",\n      \"properties\": {\n        \"dtype\": \"category\",\n        \"samples\": [\n          \"Night\",\n          \"Morning\",\n          \"Evening\"\n        ],\n        \"num_unique_values\": 3,\n        \"semantic_type\": \"\",\n        \"description\": \"\"\n      }\n    }\n  ]\n}"
            }
          },
          "metadata": {},
          "execution_count": 4
        }
      ]
    },
    {
      "cell_type": "markdown",
      "source": [
        "La informacion contenida en la base de datos se puede interpretar segun este diccionario de datos:\n",
        "\n",
        "\n",
        "---\n",
        "| **Columna** | **Tipo**   | **Descripción**                                 |\n",
        "|-------------|------------|-------------------------------------------------|\n",
        "| season      | categórica | Estación del año (Winter, Spring, Summer, Fall) |\n",
        "| weekday     | numérico   | Día de la semana (de 1 a 7)                     |\n",
        "| weathersit  | categórica | Clima (Clear, Mist, Light Rain, Heavy Rain)     |\n",
        "| temp        | numérico   | Temperatura                                     |\n",
        "| atemp       | numérico   | Sensación de temperatura                        |\n",
        "| hum         | numérico   | Humedad                                         |\n",
        "| windspeed   | numérico   | Velocidad del viento                            |\n",
        "| cnt         | numérico   | Cantidad de bicicletas rentadas                 |\n",
        "| time_of_day | categórica | Parte del día (Morning, Evening, Night)         |\n"
      ],
      "metadata": {
        "id": "rrahQBrXtnMV"
      }
    },
    {
      "cell_type": "markdown",
      "source": [
        "## 2. Limpieza y preparación de los datos\n",
        "\n",
        "Antes de entrenar cualquier modelo de aprendizaje automático, es importante asegurar que los datos utilizados no contienen errores, como datos faltantes o duplicados. Para esto es recomendable usar una nueva variable, en este caso `data`, que usaremos para almacenar un conjunto de datos modificado:\n",
        "\n"
      ],
      "metadata": {
        "id": "Z2Hp0eXapHoc"
      }
    },
    {
      "cell_type": "code",
      "source": [
        "data = data_raw.copy()"
      ],
      "metadata": {
        "id": "7Q1Y_cXfpKVX"
      },
      "execution_count": null,
      "outputs": []
    },
    {
      "cell_type": "markdown",
      "source": [
        "### Eliminación de datos faltantes\n",
        "\n",
        "A traves de las funciones `isna()` verificamos si hay celdas vacias:"
      ],
      "metadata": {
        "id": "2tM26Qf8pQy6"
      }
    },
    {
      "cell_type": "code",
      "source": [
        "data.isna()"
      ],
      "metadata": {
        "colab": {
          "base_uri": "https://localhost:8080/",
          "height": 423
        },
        "id": "OAQiWZOnryGz",
        "outputId": "e97c6318-f191-4b5f-e59a-9781b29067f6"
      },
      "execution_count": null,
      "outputs": [
        {
          "output_type": "execute_result",
          "data": {
            "text/plain": [
              "       season  weekday  weathersit   temp  atemp    hum  windspeed    cnt  \\\n",
              "0       False    False       False  False  False  False      False  False   \n",
              "1       False    False       False  False  False  False      False  False   \n",
              "2       False    False       False  False  False  False      False  False   \n",
              "3       False    False       False  False  False  False      False  False   \n",
              "4       False    False       False  False  False  False      False  False   \n",
              "...       ...      ...         ...    ...    ...    ...        ...    ...   \n",
              "17374   False    False       False  False  False  False      False  False   \n",
              "17375   False    False       False  False  False  False      False  False   \n",
              "17376   False    False       False  False  False  False      False  False   \n",
              "17377   False    False       False  False  False  False      False  False   \n",
              "17378   False    False       False  False  False  False      False  False   \n",
              "\n",
              "       time_of_day  \n",
              "0            False  \n",
              "1            False  \n",
              "2            False  \n",
              "3            False  \n",
              "4            False  \n",
              "...            ...  \n",
              "17374        False  \n",
              "17375        False  \n",
              "17376        False  \n",
              "17377        False  \n",
              "17378        False  \n",
              "\n",
              "[17379 rows x 9 columns]"
            ],
            "text/html": [
              "\n",
              "  <div id=\"df-ef934d80-dc36-402e-a6e9-b6a5810eea03\" class=\"colab-df-container\">\n",
              "    <div>\n",
              "<style scoped>\n",
              "    .dataframe tbody tr th:only-of-type {\n",
              "        vertical-align: middle;\n",
              "    }\n",
              "\n",
              "    .dataframe tbody tr th {\n",
              "        vertical-align: top;\n",
              "    }\n",
              "\n",
              "    .dataframe thead th {\n",
              "        text-align: right;\n",
              "    }\n",
              "</style>\n",
              "<table border=\"1\" class=\"dataframe\">\n",
              "  <thead>\n",
              "    <tr style=\"text-align: right;\">\n",
              "      <th></th>\n",
              "      <th>season</th>\n",
              "      <th>weekday</th>\n",
              "      <th>weathersit</th>\n",
              "      <th>temp</th>\n",
              "      <th>atemp</th>\n",
              "      <th>hum</th>\n",
              "      <th>windspeed</th>\n",
              "      <th>cnt</th>\n",
              "      <th>time_of_day</th>\n",
              "    </tr>\n",
              "  </thead>\n",
              "  <tbody>\n",
              "    <tr>\n",
              "      <th>0</th>\n",
              "      <td>False</td>\n",
              "      <td>False</td>\n",
              "      <td>False</td>\n",
              "      <td>False</td>\n",
              "      <td>False</td>\n",
              "      <td>False</td>\n",
              "      <td>False</td>\n",
              "      <td>False</td>\n",
              "      <td>False</td>\n",
              "    </tr>\n",
              "    <tr>\n",
              "      <th>1</th>\n",
              "      <td>False</td>\n",
              "      <td>False</td>\n",
              "      <td>False</td>\n",
              "      <td>False</td>\n",
              "      <td>False</td>\n",
              "      <td>False</td>\n",
              "      <td>False</td>\n",
              "      <td>False</td>\n",
              "      <td>False</td>\n",
              "    </tr>\n",
              "    <tr>\n",
              "      <th>2</th>\n",
              "      <td>False</td>\n",
              "      <td>False</td>\n",
              "      <td>False</td>\n",
              "      <td>False</td>\n",
              "      <td>False</td>\n",
              "      <td>False</td>\n",
              "      <td>False</td>\n",
              "      <td>False</td>\n",
              "      <td>False</td>\n",
              "    </tr>\n",
              "    <tr>\n",
              "      <th>3</th>\n",
              "      <td>False</td>\n",
              "      <td>False</td>\n",
              "      <td>False</td>\n",
              "      <td>False</td>\n",
              "      <td>False</td>\n",
              "      <td>False</td>\n",
              "      <td>False</td>\n",
              "      <td>False</td>\n",
              "      <td>False</td>\n",
              "    </tr>\n",
              "    <tr>\n",
              "      <th>4</th>\n",
              "      <td>False</td>\n",
              "      <td>False</td>\n",
              "      <td>False</td>\n",
              "      <td>False</td>\n",
              "      <td>False</td>\n",
              "      <td>False</td>\n",
              "      <td>False</td>\n",
              "      <td>False</td>\n",
              "      <td>False</td>\n",
              "    </tr>\n",
              "    <tr>\n",
              "      <th>...</th>\n",
              "      <td>...</td>\n",
              "      <td>...</td>\n",
              "      <td>...</td>\n",
              "      <td>...</td>\n",
              "      <td>...</td>\n",
              "      <td>...</td>\n",
              "      <td>...</td>\n",
              "      <td>...</td>\n",
              "      <td>...</td>\n",
              "    </tr>\n",
              "    <tr>\n",
              "      <th>17374</th>\n",
              "      <td>False</td>\n",
              "      <td>False</td>\n",
              "      <td>False</td>\n",
              "      <td>False</td>\n",
              "      <td>False</td>\n",
              "      <td>False</td>\n",
              "      <td>False</td>\n",
              "      <td>False</td>\n",
              "      <td>False</td>\n",
              "    </tr>\n",
              "    <tr>\n",
              "      <th>17375</th>\n",
              "      <td>False</td>\n",
              "      <td>False</td>\n",
              "      <td>False</td>\n",
              "      <td>False</td>\n",
              "      <td>False</td>\n",
              "      <td>False</td>\n",
              "      <td>False</td>\n",
              "      <td>False</td>\n",
              "      <td>False</td>\n",
              "    </tr>\n",
              "    <tr>\n",
              "      <th>17376</th>\n",
              "      <td>False</td>\n",
              "      <td>False</td>\n",
              "      <td>False</td>\n",
              "      <td>False</td>\n",
              "      <td>False</td>\n",
              "      <td>False</td>\n",
              "      <td>False</td>\n",
              "      <td>False</td>\n",
              "      <td>False</td>\n",
              "    </tr>\n",
              "    <tr>\n",
              "      <th>17377</th>\n",
              "      <td>False</td>\n",
              "      <td>False</td>\n",
              "      <td>False</td>\n",
              "      <td>False</td>\n",
              "      <td>False</td>\n",
              "      <td>False</td>\n",
              "      <td>False</td>\n",
              "      <td>False</td>\n",
              "      <td>False</td>\n",
              "    </tr>\n",
              "    <tr>\n",
              "      <th>17378</th>\n",
              "      <td>False</td>\n",
              "      <td>False</td>\n",
              "      <td>False</td>\n",
              "      <td>False</td>\n",
              "      <td>False</td>\n",
              "      <td>False</td>\n",
              "      <td>False</td>\n",
              "      <td>False</td>\n",
              "      <td>False</td>\n",
              "    </tr>\n",
              "  </tbody>\n",
              "</table>\n",
              "<p>17379 rows × 9 columns</p>\n",
              "</div>\n",
              "    <div class=\"colab-df-buttons\">\n",
              "\n",
              "  <div class=\"colab-df-container\">\n",
              "    <button class=\"colab-df-convert\" onclick=\"convertToInteractive('df-ef934d80-dc36-402e-a6e9-b6a5810eea03')\"\n",
              "            title=\"Convert this dataframe to an interactive table.\"\n",
              "            style=\"display:none;\">\n",
              "\n",
              "  <svg xmlns=\"http://www.w3.org/2000/svg\" height=\"24px\" viewBox=\"0 -960 960 960\">\n",
              "    <path d=\"M120-120v-720h720v720H120Zm60-500h600v-160H180v160Zm220 220h160v-160H400v160Zm0 220h160v-160H400v160ZM180-400h160v-160H180v160Zm440 0h160v-160H620v160ZM180-180h160v-160H180v160Zm440 0h160v-160H620v160Z\"/>\n",
              "  </svg>\n",
              "    </button>\n",
              "\n",
              "  <style>\n",
              "    .colab-df-container {\n",
              "      display:flex;\n",
              "      gap: 12px;\n",
              "    }\n",
              "\n",
              "    .colab-df-convert {\n",
              "      background-color: #E8F0FE;\n",
              "      border: none;\n",
              "      border-radius: 50%;\n",
              "      cursor: pointer;\n",
              "      display: none;\n",
              "      fill: #1967D2;\n",
              "      height: 32px;\n",
              "      padding: 0 0 0 0;\n",
              "      width: 32px;\n",
              "    }\n",
              "\n",
              "    .colab-df-convert:hover {\n",
              "      background-color: #E2EBFA;\n",
              "      box-shadow: 0px 1px 2px rgba(60, 64, 67, 0.3), 0px 1px 3px 1px rgba(60, 64, 67, 0.15);\n",
              "      fill: #174EA6;\n",
              "    }\n",
              "\n",
              "    .colab-df-buttons div {\n",
              "      margin-bottom: 4px;\n",
              "    }\n",
              "\n",
              "    [theme=dark] .colab-df-convert {\n",
              "      background-color: #3B4455;\n",
              "      fill: #D2E3FC;\n",
              "    }\n",
              "\n",
              "    [theme=dark] .colab-df-convert:hover {\n",
              "      background-color: #434B5C;\n",
              "      box-shadow: 0px 1px 3px 1px rgba(0, 0, 0, 0.15);\n",
              "      filter: drop-shadow(0px 1px 2px rgba(0, 0, 0, 0.3));\n",
              "      fill: #FFFFFF;\n",
              "    }\n",
              "  </style>\n",
              "\n",
              "    <script>\n",
              "      const buttonEl =\n",
              "        document.querySelector('#df-ef934d80-dc36-402e-a6e9-b6a5810eea03 button.colab-df-convert');\n",
              "      buttonEl.style.display =\n",
              "        google.colab.kernel.accessAllowed ? 'block' : 'none';\n",
              "\n",
              "      async function convertToInteractive(key) {\n",
              "        const element = document.querySelector('#df-ef934d80-dc36-402e-a6e9-b6a5810eea03');\n",
              "        const dataTable =\n",
              "          await google.colab.kernel.invokeFunction('convertToInteractive',\n",
              "                                                    [key], {});\n",
              "        if (!dataTable) return;\n",
              "\n",
              "        const docLinkHtml = 'Like what you see? Visit the ' +\n",
              "          '<a target=\"_blank\" href=https://colab.research.google.com/notebooks/data_table.ipynb>data table notebook</a>'\n",
              "          + ' to learn more about interactive tables.';\n",
              "        element.innerHTML = '';\n",
              "        dataTable['output_type'] = 'display_data';\n",
              "        await google.colab.output.renderOutput(dataTable, element);\n",
              "        const docLink = document.createElement('div');\n",
              "        docLink.innerHTML = docLinkHtml;\n",
              "        element.appendChild(docLink);\n",
              "      }\n",
              "    </script>\n",
              "  </div>\n",
              "\n",
              "\n",
              "<div id=\"df-67e9e7bf-a597-4744-8623-7724756c8938\">\n",
              "  <button class=\"colab-df-quickchart\" onclick=\"quickchart('df-67e9e7bf-a597-4744-8623-7724756c8938')\"\n",
              "            title=\"Suggest charts\"\n",
              "            style=\"display:none;\">\n",
              "\n",
              "<svg xmlns=\"http://www.w3.org/2000/svg\" height=\"24px\"viewBox=\"0 0 24 24\"\n",
              "     width=\"24px\">\n",
              "    <g>\n",
              "        <path d=\"M19 3H5c-1.1 0-2 .9-2 2v14c0 1.1.9 2 2 2h14c1.1 0 2-.9 2-2V5c0-1.1-.9-2-2-2zM9 17H7v-7h2v7zm4 0h-2V7h2v10zm4 0h-2v-4h2v4z\"/>\n",
              "    </g>\n",
              "</svg>\n",
              "  </button>\n",
              "\n",
              "<style>\n",
              "  .colab-df-quickchart {\n",
              "      --bg-color: #E8F0FE;\n",
              "      --fill-color: #1967D2;\n",
              "      --hover-bg-color: #E2EBFA;\n",
              "      --hover-fill-color: #174EA6;\n",
              "      --disabled-fill-color: #AAA;\n",
              "      --disabled-bg-color: #DDD;\n",
              "  }\n",
              "\n",
              "  [theme=dark] .colab-df-quickchart {\n",
              "      --bg-color: #3B4455;\n",
              "      --fill-color: #D2E3FC;\n",
              "      --hover-bg-color: #434B5C;\n",
              "      --hover-fill-color: #FFFFFF;\n",
              "      --disabled-bg-color: #3B4455;\n",
              "      --disabled-fill-color: #666;\n",
              "  }\n",
              "\n",
              "  .colab-df-quickchart {\n",
              "    background-color: var(--bg-color);\n",
              "    border: none;\n",
              "    border-radius: 50%;\n",
              "    cursor: pointer;\n",
              "    display: none;\n",
              "    fill: var(--fill-color);\n",
              "    height: 32px;\n",
              "    padding: 0;\n",
              "    width: 32px;\n",
              "  }\n",
              "\n",
              "  .colab-df-quickchart:hover {\n",
              "    background-color: var(--hover-bg-color);\n",
              "    box-shadow: 0 1px 2px rgba(60, 64, 67, 0.3), 0 1px 3px 1px rgba(60, 64, 67, 0.15);\n",
              "    fill: var(--button-hover-fill-color);\n",
              "  }\n",
              "\n",
              "  .colab-df-quickchart-complete:disabled,\n",
              "  .colab-df-quickchart-complete:disabled:hover {\n",
              "    background-color: var(--disabled-bg-color);\n",
              "    fill: var(--disabled-fill-color);\n",
              "    box-shadow: none;\n",
              "  }\n",
              "\n",
              "  .colab-df-spinner {\n",
              "    border: 2px solid var(--fill-color);\n",
              "    border-color: transparent;\n",
              "    border-bottom-color: var(--fill-color);\n",
              "    animation:\n",
              "      spin 1s steps(1) infinite;\n",
              "  }\n",
              "\n",
              "  @keyframes spin {\n",
              "    0% {\n",
              "      border-color: transparent;\n",
              "      border-bottom-color: var(--fill-color);\n",
              "      border-left-color: var(--fill-color);\n",
              "    }\n",
              "    20% {\n",
              "      border-color: transparent;\n",
              "      border-left-color: var(--fill-color);\n",
              "      border-top-color: var(--fill-color);\n",
              "    }\n",
              "    30% {\n",
              "      border-color: transparent;\n",
              "      border-left-color: var(--fill-color);\n",
              "      border-top-color: var(--fill-color);\n",
              "      border-right-color: var(--fill-color);\n",
              "    }\n",
              "    40% {\n",
              "      border-color: transparent;\n",
              "      border-right-color: var(--fill-color);\n",
              "      border-top-color: var(--fill-color);\n",
              "    }\n",
              "    60% {\n",
              "      border-color: transparent;\n",
              "      border-right-color: var(--fill-color);\n",
              "    }\n",
              "    80% {\n",
              "      border-color: transparent;\n",
              "      border-right-color: var(--fill-color);\n",
              "      border-bottom-color: var(--fill-color);\n",
              "    }\n",
              "    90% {\n",
              "      border-color: transparent;\n",
              "      border-bottom-color: var(--fill-color);\n",
              "    }\n",
              "  }\n",
              "</style>\n",
              "\n",
              "  <script>\n",
              "    async function quickchart(key) {\n",
              "      const quickchartButtonEl =\n",
              "        document.querySelector('#' + key + ' button');\n",
              "      quickchartButtonEl.disabled = true;  // To prevent multiple clicks.\n",
              "      quickchartButtonEl.classList.add('colab-df-spinner');\n",
              "      try {\n",
              "        const charts = await google.colab.kernel.invokeFunction(\n",
              "            'suggestCharts', [key], {});\n",
              "      } catch (error) {\n",
              "        console.error('Error during call to suggestCharts:', error);\n",
              "      }\n",
              "      quickchartButtonEl.classList.remove('colab-df-spinner');\n",
              "      quickchartButtonEl.classList.add('colab-df-quickchart-complete');\n",
              "    }\n",
              "    (() => {\n",
              "      let quickchartButtonEl =\n",
              "        document.querySelector('#df-67e9e7bf-a597-4744-8623-7724756c8938 button');\n",
              "      quickchartButtonEl.style.display =\n",
              "        google.colab.kernel.accessAllowed ? 'block' : 'none';\n",
              "    })();\n",
              "  </script>\n",
              "</div>\n",
              "\n",
              "    </div>\n",
              "  </div>\n"
            ],
            "application/vnd.google.colaboratory.intrinsic+json": {
              "type": "dataframe",
              "summary": "{\n  \"name\": \"data\",\n  \"rows\": 17379,\n  \"fields\": [\n    {\n      \"column\": \"season\",\n      \"properties\": {\n        \"dtype\": \"boolean\",\n        \"samples\": [\n          false\n        ],\n        \"num_unique_values\": 1,\n        \"semantic_type\": \"\",\n        \"description\": \"\"\n      }\n    },\n    {\n      \"column\": \"weekday\",\n      \"properties\": {\n        \"dtype\": \"boolean\",\n        \"samples\": [\n          false\n        ],\n        \"num_unique_values\": 1,\n        \"semantic_type\": \"\",\n        \"description\": \"\"\n      }\n    },\n    {\n      \"column\": \"weathersit\",\n      \"properties\": {\n        \"dtype\": \"boolean\",\n        \"samples\": [\n          false\n        ],\n        \"num_unique_values\": 1,\n        \"semantic_type\": \"\",\n        \"description\": \"\"\n      }\n    },\n    {\n      \"column\": \"temp\",\n      \"properties\": {\n        \"dtype\": \"boolean\",\n        \"samples\": [\n          false\n        ],\n        \"num_unique_values\": 1,\n        \"semantic_type\": \"\",\n        \"description\": \"\"\n      }\n    },\n    {\n      \"column\": \"atemp\",\n      \"properties\": {\n        \"dtype\": \"boolean\",\n        \"samples\": [\n          false\n        ],\n        \"num_unique_values\": 1,\n        \"semantic_type\": \"\",\n        \"description\": \"\"\n      }\n    },\n    {\n      \"column\": \"hum\",\n      \"properties\": {\n        \"dtype\": \"boolean\",\n        \"samples\": [\n          false\n        ],\n        \"num_unique_values\": 1,\n        \"semantic_type\": \"\",\n        \"description\": \"\"\n      }\n    },\n    {\n      \"column\": \"windspeed\",\n      \"properties\": {\n        \"dtype\": \"boolean\",\n        \"samples\": [\n          false\n        ],\n        \"num_unique_values\": 1,\n        \"semantic_type\": \"\",\n        \"description\": \"\"\n      }\n    },\n    {\n      \"column\": \"cnt\",\n      \"properties\": {\n        \"dtype\": \"boolean\",\n        \"samples\": [\n          false\n        ],\n        \"num_unique_values\": 1,\n        \"semantic_type\": \"\",\n        \"description\": \"\"\n      }\n    },\n    {\n      \"column\": \"time_of_day\",\n      \"properties\": {\n        \"dtype\": \"boolean\",\n        \"samples\": [\n          false\n        ],\n        \"num_unique_values\": 1,\n        \"semantic_type\": \"\",\n        \"description\": \"\"\n      }\n    }\n  ]\n}"
            }
          },
          "metadata": {},
          "execution_count": 6
        }
      ]
    },
    {
      "cell_type": "markdown",
      "source": [
        "Si adicionamos la función `sum()`, obtendremos la cantidad de datos faltantes por variable:"
      ],
      "metadata": {
        "id": "6uRFexvcr0Zv"
      }
    },
    {
      "cell_type": "code",
      "source": [
        "data.isna().sum()"
      ],
      "metadata": {
        "colab": {
          "base_uri": "https://localhost:8080/"
        },
        "id": "MwJWKSozr1zV",
        "outputId": "d68684b9-f649-4158-fa14-fea6bef09260"
      },
      "execution_count": null,
      "outputs": [
        {
          "output_type": "execute_result",
          "data": {
            "text/plain": [
              "season         0\n",
              "weekday        0\n",
              "weathersit     0\n",
              "temp           0\n",
              "atemp          0\n",
              "hum            0\n",
              "windspeed      0\n",
              "cnt            0\n",
              "time_of_day    0\n",
              "dtype: int64"
            ]
          },
          "metadata": {},
          "execution_count": 7
        }
      ]
    },
    {
      "cell_type": "markdown",
      "source": [
        "Asi podemos verificar que no hay datos vacios"
      ],
      "metadata": {
        "id": "p6XhXnHSvHPz"
      }
    },
    {
      "cell_type": "markdown",
      "source": [
        "### Eliminacion de duplicados\n",
        "\n",
        "Usar la función duplicated() para verificar si hay filas duplicadas en la base de datos:"
      ],
      "metadata": {
        "id": "Cd4B_x9R1PuT"
      }
    },
    {
      "cell_type": "code",
      "source": [
        "data.duplicated()"
      ],
      "metadata": {
        "colab": {
          "base_uri": "https://localhost:8080/"
        },
        "id": "0HPcI7ap1kxS",
        "outputId": "9f40a01e-dab1-4a89-baad-d99080f4eedd"
      },
      "execution_count": null,
      "outputs": [
        {
          "output_type": "execute_result",
          "data": {
            "text/plain": [
              "0        False\n",
              "1        False\n",
              "2        False\n",
              "3        False\n",
              "4        False\n",
              "         ...  \n",
              "17374    False\n",
              "17375    False\n",
              "17376    False\n",
              "17377    False\n",
              "17378    False\n",
              "Length: 17379, dtype: bool"
            ]
          },
          "metadata": {},
          "execution_count": 8
        }
      ]
    },
    {
      "cell_type": "markdown",
      "source": [
        "Agregamos `sum()` para obtener el número de filas duplicadas:"
      ],
      "metadata": {
        "id": "6XqIpzS61xne"
      }
    },
    {
      "cell_type": "code",
      "source": [
        "data.duplicated().sum()"
      ],
      "metadata": {
        "colab": {
          "base_uri": "https://localhost:8080/"
        },
        "id": "YA8Yzm5A2AOJ",
        "outputId": "01619229-107f-4129-a65e-3a6a7ea359f1"
      },
      "execution_count": null,
      "outputs": [
        {
          "output_type": "execute_result",
          "data": {
            "text/plain": [
              "42"
            ]
          },
          "metadata": {},
          "execution_count": 9
        }
      ]
    },
    {
      "cell_type": "markdown",
      "source": [
        "Ya que encontramos que existen filas duplicadas, las eliminamos con el metodo `drop_duplicates()`"
      ],
      "metadata": {
        "id": "5d77jfzO2H8R"
      }
    },
    {
      "cell_type": "code",
      "source": [
        "data = data.drop_duplicates()"
      ],
      "metadata": {
        "id": "mA4mxDUL2U52"
      },
      "execution_count": null,
      "outputs": []
    },
    {
      "cell_type": "markdown",
      "source": [
        "### Eliminacion de variables poco relevantes\n",
        "\n",
        " Para preparar los datos para este paso, se realizara un la transformación de las variables categóricas `season`, `weathersit` y `time_of_day`"
      ],
      "metadata": {
        "id": "6DSo1D3U24op"
      }
    },
    {
      "cell_type": "code",
      "source": [
        "data = pd.get_dummies(data, columns= ['weekday', 'season', 'weathersit', 'time_of_day'])\n",
        "\n",
        "data.head()"
      ],
      "metadata": {
        "colab": {
          "base_uri": "https://localhost:8080/",
          "height": 272
        },
        "id": "TgVYKydrAMSC",
        "outputId": "b9a908c8-4b58-4235-d2d1-125d210a44ca"
      },
      "execution_count": null,
      "outputs": [
        {
          "output_type": "execute_result",
          "data": {
            "text/plain": [
              "   temp   atemp   hum  windspeed  cnt  weekday_0  weekday_1  weekday_2  \\\n",
              "0  3.28  3.0014  0.81        0.0   16          0          0          0   \n",
              "1  2.34  1.9982  0.80        0.0   40          0          0          0   \n",
              "2  2.34  1.9982  0.80        0.0   32          0          0          0   \n",
              "3  3.28  3.0014  0.75        0.0   13          0          0          0   \n",
              "4  3.28  3.0014  0.75        0.0    1          0          0          0   \n",
              "\n",
              "   weekday_3  weekday_4  ...  season_Spring  season_Summer  season_Winter  \\\n",
              "0          0          0  ...              0              0              1   \n",
              "1          0          0  ...              0              0              1   \n",
              "2          0          0  ...              0              0              1   \n",
              "3          0          0  ...              0              0              1   \n",
              "4          0          0  ...              0              0              1   \n",
              "\n",
              "   weathersit_Clear  weathersit_Heavy Rain  weathersit_Light Rain  \\\n",
              "0                 1                      0                      0   \n",
              "1                 1                      0                      0   \n",
              "2                 1                      0                      0   \n",
              "3                 1                      0                      0   \n",
              "4                 1                      0                      0   \n",
              "\n",
              "   weathersit_Mist  time_of_day_Evening  time_of_day_Morning  \\\n",
              "0                0                    0                    0   \n",
              "1                0                    0                    0   \n",
              "2                0                    0                    0   \n",
              "3                0                    0                    0   \n",
              "4                0                    0                    0   \n",
              "\n",
              "   time_of_day_Night  \n",
              "0                  1  \n",
              "1                  1  \n",
              "2                  1  \n",
              "3                  1  \n",
              "4                  1  \n",
              "\n",
              "[5 rows x 23 columns]"
            ],
            "text/html": [
              "\n",
              "  <div id=\"df-b2c385a9-a025-4104-b8e3-3cb8a0358dcf\" class=\"colab-df-container\">\n",
              "    <div>\n",
              "<style scoped>\n",
              "    .dataframe tbody tr th:only-of-type {\n",
              "        vertical-align: middle;\n",
              "    }\n",
              "\n",
              "    .dataframe tbody tr th {\n",
              "        vertical-align: top;\n",
              "    }\n",
              "\n",
              "    .dataframe thead th {\n",
              "        text-align: right;\n",
              "    }\n",
              "</style>\n",
              "<table border=\"1\" class=\"dataframe\">\n",
              "  <thead>\n",
              "    <tr style=\"text-align: right;\">\n",
              "      <th></th>\n",
              "      <th>temp</th>\n",
              "      <th>atemp</th>\n",
              "      <th>hum</th>\n",
              "      <th>windspeed</th>\n",
              "      <th>cnt</th>\n",
              "      <th>weekday_0</th>\n",
              "      <th>weekday_1</th>\n",
              "      <th>weekday_2</th>\n",
              "      <th>weekday_3</th>\n",
              "      <th>weekday_4</th>\n",
              "      <th>...</th>\n",
              "      <th>season_Spring</th>\n",
              "      <th>season_Summer</th>\n",
              "      <th>season_Winter</th>\n",
              "      <th>weathersit_Clear</th>\n",
              "      <th>weathersit_Heavy Rain</th>\n",
              "      <th>weathersit_Light Rain</th>\n",
              "      <th>weathersit_Mist</th>\n",
              "      <th>time_of_day_Evening</th>\n",
              "      <th>time_of_day_Morning</th>\n",
              "      <th>time_of_day_Night</th>\n",
              "    </tr>\n",
              "  </thead>\n",
              "  <tbody>\n",
              "    <tr>\n",
              "      <th>0</th>\n",
              "      <td>3.28</td>\n",
              "      <td>3.0014</td>\n",
              "      <td>0.81</td>\n",
              "      <td>0.0</td>\n",
              "      <td>16</td>\n",
              "      <td>0</td>\n",
              "      <td>0</td>\n",
              "      <td>0</td>\n",
              "      <td>0</td>\n",
              "      <td>0</td>\n",
              "      <td>...</td>\n",
              "      <td>0</td>\n",
              "      <td>0</td>\n",
              "      <td>1</td>\n",
              "      <td>1</td>\n",
              "      <td>0</td>\n",
              "      <td>0</td>\n",
              "      <td>0</td>\n",
              "      <td>0</td>\n",
              "      <td>0</td>\n",
              "      <td>1</td>\n",
              "    </tr>\n",
              "    <tr>\n",
              "      <th>1</th>\n",
              "      <td>2.34</td>\n",
              "      <td>1.9982</td>\n",
              "      <td>0.80</td>\n",
              "      <td>0.0</td>\n",
              "      <td>40</td>\n",
              "      <td>0</td>\n",
              "      <td>0</td>\n",
              "      <td>0</td>\n",
              "      <td>0</td>\n",
              "      <td>0</td>\n",
              "      <td>...</td>\n",
              "      <td>0</td>\n",
              "      <td>0</td>\n",
              "      <td>1</td>\n",
              "      <td>1</td>\n",
              "      <td>0</td>\n",
              "      <td>0</td>\n",
              "      <td>0</td>\n",
              "      <td>0</td>\n",
              "      <td>0</td>\n",
              "      <td>1</td>\n",
              "    </tr>\n",
              "    <tr>\n",
              "      <th>2</th>\n",
              "      <td>2.34</td>\n",
              "      <td>1.9982</td>\n",
              "      <td>0.80</td>\n",
              "      <td>0.0</td>\n",
              "      <td>32</td>\n",
              "      <td>0</td>\n",
              "      <td>0</td>\n",
              "      <td>0</td>\n",
              "      <td>0</td>\n",
              "      <td>0</td>\n",
              "      <td>...</td>\n",
              "      <td>0</td>\n",
              "      <td>0</td>\n",
              "      <td>1</td>\n",
              "      <td>1</td>\n",
              "      <td>0</td>\n",
              "      <td>0</td>\n",
              "      <td>0</td>\n",
              "      <td>0</td>\n",
              "      <td>0</td>\n",
              "      <td>1</td>\n",
              "    </tr>\n",
              "    <tr>\n",
              "      <th>3</th>\n",
              "      <td>3.28</td>\n",
              "      <td>3.0014</td>\n",
              "      <td>0.75</td>\n",
              "      <td>0.0</td>\n",
              "      <td>13</td>\n",
              "      <td>0</td>\n",
              "      <td>0</td>\n",
              "      <td>0</td>\n",
              "      <td>0</td>\n",
              "      <td>0</td>\n",
              "      <td>...</td>\n",
              "      <td>0</td>\n",
              "      <td>0</td>\n",
              "      <td>1</td>\n",
              "      <td>1</td>\n",
              "      <td>0</td>\n",
              "      <td>0</td>\n",
              "      <td>0</td>\n",
              "      <td>0</td>\n",
              "      <td>0</td>\n",
              "      <td>1</td>\n",
              "    </tr>\n",
              "    <tr>\n",
              "      <th>4</th>\n",
              "      <td>3.28</td>\n",
              "      <td>3.0014</td>\n",
              "      <td>0.75</td>\n",
              "      <td>0.0</td>\n",
              "      <td>1</td>\n",
              "      <td>0</td>\n",
              "      <td>0</td>\n",
              "      <td>0</td>\n",
              "      <td>0</td>\n",
              "      <td>0</td>\n",
              "      <td>...</td>\n",
              "      <td>0</td>\n",
              "      <td>0</td>\n",
              "      <td>1</td>\n",
              "      <td>1</td>\n",
              "      <td>0</td>\n",
              "      <td>0</td>\n",
              "      <td>0</td>\n",
              "      <td>0</td>\n",
              "      <td>0</td>\n",
              "      <td>1</td>\n",
              "    </tr>\n",
              "  </tbody>\n",
              "</table>\n",
              "<p>5 rows × 23 columns</p>\n",
              "</div>\n",
              "    <div class=\"colab-df-buttons\">\n",
              "\n",
              "  <div class=\"colab-df-container\">\n",
              "    <button class=\"colab-df-convert\" onclick=\"convertToInteractive('df-b2c385a9-a025-4104-b8e3-3cb8a0358dcf')\"\n",
              "            title=\"Convert this dataframe to an interactive table.\"\n",
              "            style=\"display:none;\">\n",
              "\n",
              "  <svg xmlns=\"http://www.w3.org/2000/svg\" height=\"24px\" viewBox=\"0 -960 960 960\">\n",
              "    <path d=\"M120-120v-720h720v720H120Zm60-500h600v-160H180v160Zm220 220h160v-160H400v160Zm0 220h160v-160H400v160ZM180-400h160v-160H180v160Zm440 0h160v-160H620v160ZM180-180h160v-160H180v160Zm440 0h160v-160H620v160Z\"/>\n",
              "  </svg>\n",
              "    </button>\n",
              "\n",
              "  <style>\n",
              "    .colab-df-container {\n",
              "      display:flex;\n",
              "      gap: 12px;\n",
              "    }\n",
              "\n",
              "    .colab-df-convert {\n",
              "      background-color: #E8F0FE;\n",
              "      border: none;\n",
              "      border-radius: 50%;\n",
              "      cursor: pointer;\n",
              "      display: none;\n",
              "      fill: #1967D2;\n",
              "      height: 32px;\n",
              "      padding: 0 0 0 0;\n",
              "      width: 32px;\n",
              "    }\n",
              "\n",
              "    .colab-df-convert:hover {\n",
              "      background-color: #E2EBFA;\n",
              "      box-shadow: 0px 1px 2px rgba(60, 64, 67, 0.3), 0px 1px 3px 1px rgba(60, 64, 67, 0.15);\n",
              "      fill: #174EA6;\n",
              "    }\n",
              "\n",
              "    .colab-df-buttons div {\n",
              "      margin-bottom: 4px;\n",
              "    }\n",
              "\n",
              "    [theme=dark] .colab-df-convert {\n",
              "      background-color: #3B4455;\n",
              "      fill: #D2E3FC;\n",
              "    }\n",
              "\n",
              "    [theme=dark] .colab-df-convert:hover {\n",
              "      background-color: #434B5C;\n",
              "      box-shadow: 0px 1px 3px 1px rgba(0, 0, 0, 0.15);\n",
              "      filter: drop-shadow(0px 1px 2px rgba(0, 0, 0, 0.3));\n",
              "      fill: #FFFFFF;\n",
              "    }\n",
              "  </style>\n",
              "\n",
              "    <script>\n",
              "      const buttonEl =\n",
              "        document.querySelector('#df-b2c385a9-a025-4104-b8e3-3cb8a0358dcf button.colab-df-convert');\n",
              "      buttonEl.style.display =\n",
              "        google.colab.kernel.accessAllowed ? 'block' : 'none';\n",
              "\n",
              "      async function convertToInteractive(key) {\n",
              "        const element = document.querySelector('#df-b2c385a9-a025-4104-b8e3-3cb8a0358dcf');\n",
              "        const dataTable =\n",
              "          await google.colab.kernel.invokeFunction('convertToInteractive',\n",
              "                                                    [key], {});\n",
              "        if (!dataTable) return;\n",
              "\n",
              "        const docLinkHtml = 'Like what you see? Visit the ' +\n",
              "          '<a target=\"_blank\" href=https://colab.research.google.com/notebooks/data_table.ipynb>data table notebook</a>'\n",
              "          + ' to learn more about interactive tables.';\n",
              "        element.innerHTML = '';\n",
              "        dataTable['output_type'] = 'display_data';\n",
              "        await google.colab.output.renderOutput(dataTable, element);\n",
              "        const docLink = document.createElement('div');\n",
              "        docLink.innerHTML = docLinkHtml;\n",
              "        element.appendChild(docLink);\n",
              "      }\n",
              "    </script>\n",
              "  </div>\n",
              "\n",
              "\n",
              "<div id=\"df-fe820a45-b8c1-4964-9760-1574e5097a0f\">\n",
              "  <button class=\"colab-df-quickchart\" onclick=\"quickchart('df-fe820a45-b8c1-4964-9760-1574e5097a0f')\"\n",
              "            title=\"Suggest charts\"\n",
              "            style=\"display:none;\">\n",
              "\n",
              "<svg xmlns=\"http://www.w3.org/2000/svg\" height=\"24px\"viewBox=\"0 0 24 24\"\n",
              "     width=\"24px\">\n",
              "    <g>\n",
              "        <path d=\"M19 3H5c-1.1 0-2 .9-2 2v14c0 1.1.9 2 2 2h14c1.1 0 2-.9 2-2V5c0-1.1-.9-2-2-2zM9 17H7v-7h2v7zm4 0h-2V7h2v10zm4 0h-2v-4h2v4z\"/>\n",
              "    </g>\n",
              "</svg>\n",
              "  </button>\n",
              "\n",
              "<style>\n",
              "  .colab-df-quickchart {\n",
              "      --bg-color: #E8F0FE;\n",
              "      --fill-color: #1967D2;\n",
              "      --hover-bg-color: #E2EBFA;\n",
              "      --hover-fill-color: #174EA6;\n",
              "      --disabled-fill-color: #AAA;\n",
              "      --disabled-bg-color: #DDD;\n",
              "  }\n",
              "\n",
              "  [theme=dark] .colab-df-quickchart {\n",
              "      --bg-color: #3B4455;\n",
              "      --fill-color: #D2E3FC;\n",
              "      --hover-bg-color: #434B5C;\n",
              "      --hover-fill-color: #FFFFFF;\n",
              "      --disabled-bg-color: #3B4455;\n",
              "      --disabled-fill-color: #666;\n",
              "  }\n",
              "\n",
              "  .colab-df-quickchart {\n",
              "    background-color: var(--bg-color);\n",
              "    border: none;\n",
              "    border-radius: 50%;\n",
              "    cursor: pointer;\n",
              "    display: none;\n",
              "    fill: var(--fill-color);\n",
              "    height: 32px;\n",
              "    padding: 0;\n",
              "    width: 32px;\n",
              "  }\n",
              "\n",
              "  .colab-df-quickchart:hover {\n",
              "    background-color: var(--hover-bg-color);\n",
              "    box-shadow: 0 1px 2px rgba(60, 64, 67, 0.3), 0 1px 3px 1px rgba(60, 64, 67, 0.15);\n",
              "    fill: var(--button-hover-fill-color);\n",
              "  }\n",
              "\n",
              "  .colab-df-quickchart-complete:disabled,\n",
              "  .colab-df-quickchart-complete:disabled:hover {\n",
              "    background-color: var(--disabled-bg-color);\n",
              "    fill: var(--disabled-fill-color);\n",
              "    box-shadow: none;\n",
              "  }\n",
              "\n",
              "  .colab-df-spinner {\n",
              "    border: 2px solid var(--fill-color);\n",
              "    border-color: transparent;\n",
              "    border-bottom-color: var(--fill-color);\n",
              "    animation:\n",
              "      spin 1s steps(1) infinite;\n",
              "  }\n",
              "\n",
              "  @keyframes spin {\n",
              "    0% {\n",
              "      border-color: transparent;\n",
              "      border-bottom-color: var(--fill-color);\n",
              "      border-left-color: var(--fill-color);\n",
              "    }\n",
              "    20% {\n",
              "      border-color: transparent;\n",
              "      border-left-color: var(--fill-color);\n",
              "      border-top-color: var(--fill-color);\n",
              "    }\n",
              "    30% {\n",
              "      border-color: transparent;\n",
              "      border-left-color: var(--fill-color);\n",
              "      border-top-color: var(--fill-color);\n",
              "      border-right-color: var(--fill-color);\n",
              "    }\n",
              "    40% {\n",
              "      border-color: transparent;\n",
              "      border-right-color: var(--fill-color);\n",
              "      border-top-color: var(--fill-color);\n",
              "    }\n",
              "    60% {\n",
              "      border-color: transparent;\n",
              "      border-right-color: var(--fill-color);\n",
              "    }\n",
              "    80% {\n",
              "      border-color: transparent;\n",
              "      border-right-color: var(--fill-color);\n",
              "      border-bottom-color: var(--fill-color);\n",
              "    }\n",
              "    90% {\n",
              "      border-color: transparent;\n",
              "      border-bottom-color: var(--fill-color);\n",
              "    }\n",
              "  }\n",
              "</style>\n",
              "\n",
              "  <script>\n",
              "    async function quickchart(key) {\n",
              "      const quickchartButtonEl =\n",
              "        document.querySelector('#' + key + ' button');\n",
              "      quickchartButtonEl.disabled = true;  // To prevent multiple clicks.\n",
              "      quickchartButtonEl.classList.add('colab-df-spinner');\n",
              "      try {\n",
              "        const charts = await google.colab.kernel.invokeFunction(\n",
              "            'suggestCharts', [key], {});\n",
              "      } catch (error) {\n",
              "        console.error('Error during call to suggestCharts:', error);\n",
              "      }\n",
              "      quickchartButtonEl.classList.remove('colab-df-spinner');\n",
              "      quickchartButtonEl.classList.add('colab-df-quickchart-complete');\n",
              "    }\n",
              "    (() => {\n",
              "      let quickchartButtonEl =\n",
              "        document.querySelector('#df-fe820a45-b8c1-4964-9760-1574e5097a0f button');\n",
              "      quickchartButtonEl.style.display =\n",
              "        google.colab.kernel.accessAllowed ? 'block' : 'none';\n",
              "    })();\n",
              "  </script>\n",
              "</div>\n",
              "\n",
              "    </div>\n",
              "  </div>\n"
            ],
            "application/vnd.google.colaboratory.intrinsic+json": {
              "type": "dataframe",
              "variable_name": "data"
            }
          },
          "metadata": {},
          "execution_count": 11
        }
      ]
    },
    {
      "cell_type": "code",
      "source": [
        "data.describe()"
      ],
      "metadata": {
        "colab": {
          "base_uri": "https://localhost:8080/",
          "height": 367
        },
        "id": "2cf-8hi1OOME",
        "outputId": "24ff13bf-c2a0-48fb-ea9c-8a53021e9d27"
      },
      "execution_count": null,
      "outputs": [
        {
          "output_type": "execute_result",
          "data": {
            "text/plain": [
              "               temp         atemp           hum     windspeed           cnt  \\\n",
              "count  17337.000000  17337.000000  17337.000000  17337.000000  17337.000000   \n",
              "mean      15.373723     15.419489      0.626924     12.744552    189.865836   \n",
              "std        9.046797     11.338895      0.192857      8.196736    181.400275   \n",
              "min       -7.060000    -16.000000      0.000000      0.000000      1.000000   \n",
              "25%        7.980000      5.997800      0.480000      7.001500     40.000000   \n",
              "50%       15.500000     15.996800      0.630000     12.998000    143.000000   \n",
              "75%       23.020000     24.999200      0.780000     16.997900    281.000000   \n",
              "max       39.000000     50.000000      1.000000     56.996900    977.000000   \n",
              "\n",
              "          weekday_0     weekday_1     weekday_2     weekday_3     weekday_4  \\\n",
              "count  17337.000000  17337.000000  17337.000000  17337.000000  17337.000000   \n",
              "mean       0.143912      0.142643      0.140855      0.142355      0.142239   \n",
              "std        0.351010      0.349718      0.347882      0.349423      0.349305   \n",
              "min        0.000000      0.000000      0.000000      0.000000      0.000000   \n",
              "25%        0.000000      0.000000      0.000000      0.000000      0.000000   \n",
              "50%        0.000000      0.000000      0.000000      0.000000      0.000000   \n",
              "75%        0.000000      0.000000      0.000000      0.000000      0.000000   \n",
              "max        1.000000      1.000000      1.000000      1.000000      1.000000   \n",
              "\n",
              "       ...  season_Spring  season_Summer  season_Winter  weathersit_Clear  \\\n",
              "count  ...   17337.000000   17337.000000   17337.000000      17337.000000   \n",
              "mean   ...       0.253792       0.258984       0.243756          0.656919   \n",
              "std    ...       0.435193       0.438089       0.429360          0.474752   \n",
              "min    ...       0.000000       0.000000       0.000000          0.000000   \n",
              "25%    ...       0.000000       0.000000       0.000000          0.000000   \n",
              "50%    ...       0.000000       0.000000       0.000000          1.000000   \n",
              "75%    ...       1.000000       1.000000       0.000000          1.000000   \n",
              "max    ...       1.000000       1.000000       1.000000          1.000000   \n",
              "\n",
              "       weathersit_Heavy Rain  weathersit_Light Rain  weathersit_Mist  \\\n",
              "count           17337.000000           17337.000000     17337.000000   \n",
              "mean                0.000173               0.081329         0.261579   \n",
              "std                 0.013154               0.273348         0.439507   \n",
              "min                 0.000000               0.000000         0.000000   \n",
              "25%                 0.000000               0.000000         0.000000   \n",
              "50%                 0.000000               0.000000         0.000000   \n",
              "75%                 0.000000               0.000000         1.000000   \n",
              "max                 1.000000               1.000000         1.000000   \n",
              "\n",
              "       time_of_day_Evening  time_of_day_Morning  time_of_day_Night  \n",
              "count         17337.000000         17337.000000       17337.000000  \n",
              "mean              0.294053             0.334372           0.371575  \n",
              "std               0.455629             0.471784           0.483240  \n",
              "min               0.000000             0.000000           0.000000  \n",
              "25%               0.000000             0.000000           0.000000  \n",
              "50%               0.000000             0.000000           0.000000  \n",
              "75%               1.000000             1.000000           1.000000  \n",
              "max               1.000000             1.000000           1.000000  \n",
              "\n",
              "[8 rows x 23 columns]"
            ],
            "text/html": [
              "\n",
              "  <div id=\"df-7b37f7e7-a75b-4418-b76f-3e40c519b4d8\" class=\"colab-df-container\">\n",
              "    <div>\n",
              "<style scoped>\n",
              "    .dataframe tbody tr th:only-of-type {\n",
              "        vertical-align: middle;\n",
              "    }\n",
              "\n",
              "    .dataframe tbody tr th {\n",
              "        vertical-align: top;\n",
              "    }\n",
              "\n",
              "    .dataframe thead th {\n",
              "        text-align: right;\n",
              "    }\n",
              "</style>\n",
              "<table border=\"1\" class=\"dataframe\">\n",
              "  <thead>\n",
              "    <tr style=\"text-align: right;\">\n",
              "      <th></th>\n",
              "      <th>temp</th>\n",
              "      <th>atemp</th>\n",
              "      <th>hum</th>\n",
              "      <th>windspeed</th>\n",
              "      <th>cnt</th>\n",
              "      <th>weekday_0</th>\n",
              "      <th>weekday_1</th>\n",
              "      <th>weekday_2</th>\n",
              "      <th>weekday_3</th>\n",
              "      <th>weekday_4</th>\n",
              "      <th>...</th>\n",
              "      <th>season_Spring</th>\n",
              "      <th>season_Summer</th>\n",
              "      <th>season_Winter</th>\n",
              "      <th>weathersit_Clear</th>\n",
              "      <th>weathersit_Heavy Rain</th>\n",
              "      <th>weathersit_Light Rain</th>\n",
              "      <th>weathersit_Mist</th>\n",
              "      <th>time_of_day_Evening</th>\n",
              "      <th>time_of_day_Morning</th>\n",
              "      <th>time_of_day_Night</th>\n",
              "    </tr>\n",
              "  </thead>\n",
              "  <tbody>\n",
              "    <tr>\n",
              "      <th>count</th>\n",
              "      <td>17337.000000</td>\n",
              "      <td>17337.000000</td>\n",
              "      <td>17337.000000</td>\n",
              "      <td>17337.000000</td>\n",
              "      <td>17337.000000</td>\n",
              "      <td>17337.000000</td>\n",
              "      <td>17337.000000</td>\n",
              "      <td>17337.000000</td>\n",
              "      <td>17337.000000</td>\n",
              "      <td>17337.000000</td>\n",
              "      <td>...</td>\n",
              "      <td>17337.000000</td>\n",
              "      <td>17337.000000</td>\n",
              "      <td>17337.000000</td>\n",
              "      <td>17337.000000</td>\n",
              "      <td>17337.000000</td>\n",
              "      <td>17337.000000</td>\n",
              "      <td>17337.000000</td>\n",
              "      <td>17337.000000</td>\n",
              "      <td>17337.000000</td>\n",
              "      <td>17337.000000</td>\n",
              "    </tr>\n",
              "    <tr>\n",
              "      <th>mean</th>\n",
              "      <td>15.373723</td>\n",
              "      <td>15.419489</td>\n",
              "      <td>0.626924</td>\n",
              "      <td>12.744552</td>\n",
              "      <td>189.865836</td>\n",
              "      <td>0.143912</td>\n",
              "      <td>0.142643</td>\n",
              "      <td>0.140855</td>\n",
              "      <td>0.142355</td>\n",
              "      <td>0.142239</td>\n",
              "      <td>...</td>\n",
              "      <td>0.253792</td>\n",
              "      <td>0.258984</td>\n",
              "      <td>0.243756</td>\n",
              "      <td>0.656919</td>\n",
              "      <td>0.000173</td>\n",
              "      <td>0.081329</td>\n",
              "      <td>0.261579</td>\n",
              "      <td>0.294053</td>\n",
              "      <td>0.334372</td>\n",
              "      <td>0.371575</td>\n",
              "    </tr>\n",
              "    <tr>\n",
              "      <th>std</th>\n",
              "      <td>9.046797</td>\n",
              "      <td>11.338895</td>\n",
              "      <td>0.192857</td>\n",
              "      <td>8.196736</td>\n",
              "      <td>181.400275</td>\n",
              "      <td>0.351010</td>\n",
              "      <td>0.349718</td>\n",
              "      <td>0.347882</td>\n",
              "      <td>0.349423</td>\n",
              "      <td>0.349305</td>\n",
              "      <td>...</td>\n",
              "      <td>0.435193</td>\n",
              "      <td>0.438089</td>\n",
              "      <td>0.429360</td>\n",
              "      <td>0.474752</td>\n",
              "      <td>0.013154</td>\n",
              "      <td>0.273348</td>\n",
              "      <td>0.439507</td>\n",
              "      <td>0.455629</td>\n",
              "      <td>0.471784</td>\n",
              "      <td>0.483240</td>\n",
              "    </tr>\n",
              "    <tr>\n",
              "      <th>min</th>\n",
              "      <td>-7.060000</td>\n",
              "      <td>-16.000000</td>\n",
              "      <td>0.000000</td>\n",
              "      <td>0.000000</td>\n",
              "      <td>1.000000</td>\n",
              "      <td>0.000000</td>\n",
              "      <td>0.000000</td>\n",
              "      <td>0.000000</td>\n",
              "      <td>0.000000</td>\n",
              "      <td>0.000000</td>\n",
              "      <td>...</td>\n",
              "      <td>0.000000</td>\n",
              "      <td>0.000000</td>\n",
              "      <td>0.000000</td>\n",
              "      <td>0.000000</td>\n",
              "      <td>0.000000</td>\n",
              "      <td>0.000000</td>\n",
              "      <td>0.000000</td>\n",
              "      <td>0.000000</td>\n",
              "      <td>0.000000</td>\n",
              "      <td>0.000000</td>\n",
              "    </tr>\n",
              "    <tr>\n",
              "      <th>25%</th>\n",
              "      <td>7.980000</td>\n",
              "      <td>5.997800</td>\n",
              "      <td>0.480000</td>\n",
              "      <td>7.001500</td>\n",
              "      <td>40.000000</td>\n",
              "      <td>0.000000</td>\n",
              "      <td>0.000000</td>\n",
              "      <td>0.000000</td>\n",
              "      <td>0.000000</td>\n",
              "      <td>0.000000</td>\n",
              "      <td>...</td>\n",
              "      <td>0.000000</td>\n",
              "      <td>0.000000</td>\n",
              "      <td>0.000000</td>\n",
              "      <td>0.000000</td>\n",
              "      <td>0.000000</td>\n",
              "      <td>0.000000</td>\n",
              "      <td>0.000000</td>\n",
              "      <td>0.000000</td>\n",
              "      <td>0.000000</td>\n",
              "      <td>0.000000</td>\n",
              "    </tr>\n",
              "    <tr>\n",
              "      <th>50%</th>\n",
              "      <td>15.500000</td>\n",
              "      <td>15.996800</td>\n",
              "      <td>0.630000</td>\n",
              "      <td>12.998000</td>\n",
              "      <td>143.000000</td>\n",
              "      <td>0.000000</td>\n",
              "      <td>0.000000</td>\n",
              "      <td>0.000000</td>\n",
              "      <td>0.000000</td>\n",
              "      <td>0.000000</td>\n",
              "      <td>...</td>\n",
              "      <td>0.000000</td>\n",
              "      <td>0.000000</td>\n",
              "      <td>0.000000</td>\n",
              "      <td>1.000000</td>\n",
              "      <td>0.000000</td>\n",
              "      <td>0.000000</td>\n",
              "      <td>0.000000</td>\n",
              "      <td>0.000000</td>\n",
              "      <td>0.000000</td>\n",
              "      <td>0.000000</td>\n",
              "    </tr>\n",
              "    <tr>\n",
              "      <th>75%</th>\n",
              "      <td>23.020000</td>\n",
              "      <td>24.999200</td>\n",
              "      <td>0.780000</td>\n",
              "      <td>16.997900</td>\n",
              "      <td>281.000000</td>\n",
              "      <td>0.000000</td>\n",
              "      <td>0.000000</td>\n",
              "      <td>0.000000</td>\n",
              "      <td>0.000000</td>\n",
              "      <td>0.000000</td>\n",
              "      <td>...</td>\n",
              "      <td>1.000000</td>\n",
              "      <td>1.000000</td>\n",
              "      <td>0.000000</td>\n",
              "      <td>1.000000</td>\n",
              "      <td>0.000000</td>\n",
              "      <td>0.000000</td>\n",
              "      <td>1.000000</td>\n",
              "      <td>1.000000</td>\n",
              "      <td>1.000000</td>\n",
              "      <td>1.000000</td>\n",
              "    </tr>\n",
              "    <tr>\n",
              "      <th>max</th>\n",
              "      <td>39.000000</td>\n",
              "      <td>50.000000</td>\n",
              "      <td>1.000000</td>\n",
              "      <td>56.996900</td>\n",
              "      <td>977.000000</td>\n",
              "      <td>1.000000</td>\n",
              "      <td>1.000000</td>\n",
              "      <td>1.000000</td>\n",
              "      <td>1.000000</td>\n",
              "      <td>1.000000</td>\n",
              "      <td>...</td>\n",
              "      <td>1.000000</td>\n",
              "      <td>1.000000</td>\n",
              "      <td>1.000000</td>\n",
              "      <td>1.000000</td>\n",
              "      <td>1.000000</td>\n",
              "      <td>1.000000</td>\n",
              "      <td>1.000000</td>\n",
              "      <td>1.000000</td>\n",
              "      <td>1.000000</td>\n",
              "      <td>1.000000</td>\n",
              "    </tr>\n",
              "  </tbody>\n",
              "</table>\n",
              "<p>8 rows × 23 columns</p>\n",
              "</div>\n",
              "    <div class=\"colab-df-buttons\">\n",
              "\n",
              "  <div class=\"colab-df-container\">\n",
              "    <button class=\"colab-df-convert\" onclick=\"convertToInteractive('df-7b37f7e7-a75b-4418-b76f-3e40c519b4d8')\"\n",
              "            title=\"Convert this dataframe to an interactive table.\"\n",
              "            style=\"display:none;\">\n",
              "\n",
              "  <svg xmlns=\"http://www.w3.org/2000/svg\" height=\"24px\" viewBox=\"0 -960 960 960\">\n",
              "    <path d=\"M120-120v-720h720v720H120Zm60-500h600v-160H180v160Zm220 220h160v-160H400v160Zm0 220h160v-160H400v160ZM180-400h160v-160H180v160Zm440 0h160v-160H620v160ZM180-180h160v-160H180v160Zm440 0h160v-160H620v160Z\"/>\n",
              "  </svg>\n",
              "    </button>\n",
              "\n",
              "  <style>\n",
              "    .colab-df-container {\n",
              "      display:flex;\n",
              "      gap: 12px;\n",
              "    }\n",
              "\n",
              "    .colab-df-convert {\n",
              "      background-color: #E8F0FE;\n",
              "      border: none;\n",
              "      border-radius: 50%;\n",
              "      cursor: pointer;\n",
              "      display: none;\n",
              "      fill: #1967D2;\n",
              "      height: 32px;\n",
              "      padding: 0 0 0 0;\n",
              "      width: 32px;\n",
              "    }\n",
              "\n",
              "    .colab-df-convert:hover {\n",
              "      background-color: #E2EBFA;\n",
              "      box-shadow: 0px 1px 2px rgba(60, 64, 67, 0.3), 0px 1px 3px 1px rgba(60, 64, 67, 0.15);\n",
              "      fill: #174EA6;\n",
              "    }\n",
              "\n",
              "    .colab-df-buttons div {\n",
              "      margin-bottom: 4px;\n",
              "    }\n",
              "\n",
              "    [theme=dark] .colab-df-convert {\n",
              "      background-color: #3B4455;\n",
              "      fill: #D2E3FC;\n",
              "    }\n",
              "\n",
              "    [theme=dark] .colab-df-convert:hover {\n",
              "      background-color: #434B5C;\n",
              "      box-shadow: 0px 1px 3px 1px rgba(0, 0, 0, 0.15);\n",
              "      filter: drop-shadow(0px 1px 2px rgba(0, 0, 0, 0.3));\n",
              "      fill: #FFFFFF;\n",
              "    }\n",
              "  </style>\n",
              "\n",
              "    <script>\n",
              "      const buttonEl =\n",
              "        document.querySelector('#df-7b37f7e7-a75b-4418-b76f-3e40c519b4d8 button.colab-df-convert');\n",
              "      buttonEl.style.display =\n",
              "        google.colab.kernel.accessAllowed ? 'block' : 'none';\n",
              "\n",
              "      async function convertToInteractive(key) {\n",
              "        const element = document.querySelector('#df-7b37f7e7-a75b-4418-b76f-3e40c519b4d8');\n",
              "        const dataTable =\n",
              "          await google.colab.kernel.invokeFunction('convertToInteractive',\n",
              "                                                    [key], {});\n",
              "        if (!dataTable) return;\n",
              "\n",
              "        const docLinkHtml = 'Like what you see? Visit the ' +\n",
              "          '<a target=\"_blank\" href=https://colab.research.google.com/notebooks/data_table.ipynb>data table notebook</a>'\n",
              "          + ' to learn more about interactive tables.';\n",
              "        element.innerHTML = '';\n",
              "        dataTable['output_type'] = 'display_data';\n",
              "        await google.colab.output.renderOutput(dataTable, element);\n",
              "        const docLink = document.createElement('div');\n",
              "        docLink.innerHTML = docLinkHtml;\n",
              "        element.appendChild(docLink);\n",
              "      }\n",
              "    </script>\n",
              "  </div>\n",
              "\n",
              "\n",
              "<div id=\"df-25ef77a9-4c56-4314-ac10-4c39cee0f2dc\">\n",
              "  <button class=\"colab-df-quickchart\" onclick=\"quickchart('df-25ef77a9-4c56-4314-ac10-4c39cee0f2dc')\"\n",
              "            title=\"Suggest charts\"\n",
              "            style=\"display:none;\">\n",
              "\n",
              "<svg xmlns=\"http://www.w3.org/2000/svg\" height=\"24px\"viewBox=\"0 0 24 24\"\n",
              "     width=\"24px\">\n",
              "    <g>\n",
              "        <path d=\"M19 3H5c-1.1 0-2 .9-2 2v14c0 1.1.9 2 2 2h14c1.1 0 2-.9 2-2V5c0-1.1-.9-2-2-2zM9 17H7v-7h2v7zm4 0h-2V7h2v10zm4 0h-2v-4h2v4z\"/>\n",
              "    </g>\n",
              "</svg>\n",
              "  </button>\n",
              "\n",
              "<style>\n",
              "  .colab-df-quickchart {\n",
              "      --bg-color: #E8F0FE;\n",
              "      --fill-color: #1967D2;\n",
              "      --hover-bg-color: #E2EBFA;\n",
              "      --hover-fill-color: #174EA6;\n",
              "      --disabled-fill-color: #AAA;\n",
              "      --disabled-bg-color: #DDD;\n",
              "  }\n",
              "\n",
              "  [theme=dark] .colab-df-quickchart {\n",
              "      --bg-color: #3B4455;\n",
              "      --fill-color: #D2E3FC;\n",
              "      --hover-bg-color: #434B5C;\n",
              "      --hover-fill-color: #FFFFFF;\n",
              "      --disabled-bg-color: #3B4455;\n",
              "      --disabled-fill-color: #666;\n",
              "  }\n",
              "\n",
              "  .colab-df-quickchart {\n",
              "    background-color: var(--bg-color);\n",
              "    border: none;\n",
              "    border-radius: 50%;\n",
              "    cursor: pointer;\n",
              "    display: none;\n",
              "    fill: var(--fill-color);\n",
              "    height: 32px;\n",
              "    padding: 0;\n",
              "    width: 32px;\n",
              "  }\n",
              "\n",
              "  .colab-df-quickchart:hover {\n",
              "    background-color: var(--hover-bg-color);\n",
              "    box-shadow: 0 1px 2px rgba(60, 64, 67, 0.3), 0 1px 3px 1px rgba(60, 64, 67, 0.15);\n",
              "    fill: var(--button-hover-fill-color);\n",
              "  }\n",
              "\n",
              "  .colab-df-quickchart-complete:disabled,\n",
              "  .colab-df-quickchart-complete:disabled:hover {\n",
              "    background-color: var(--disabled-bg-color);\n",
              "    fill: var(--disabled-fill-color);\n",
              "    box-shadow: none;\n",
              "  }\n",
              "\n",
              "  .colab-df-spinner {\n",
              "    border: 2px solid var(--fill-color);\n",
              "    border-color: transparent;\n",
              "    border-bottom-color: var(--fill-color);\n",
              "    animation:\n",
              "      spin 1s steps(1) infinite;\n",
              "  }\n",
              "\n",
              "  @keyframes spin {\n",
              "    0% {\n",
              "      border-color: transparent;\n",
              "      border-bottom-color: var(--fill-color);\n",
              "      border-left-color: var(--fill-color);\n",
              "    }\n",
              "    20% {\n",
              "      border-color: transparent;\n",
              "      border-left-color: var(--fill-color);\n",
              "      border-top-color: var(--fill-color);\n",
              "    }\n",
              "    30% {\n",
              "      border-color: transparent;\n",
              "      border-left-color: var(--fill-color);\n",
              "      border-top-color: var(--fill-color);\n",
              "      border-right-color: var(--fill-color);\n",
              "    }\n",
              "    40% {\n",
              "      border-color: transparent;\n",
              "      border-right-color: var(--fill-color);\n",
              "      border-top-color: var(--fill-color);\n",
              "    }\n",
              "    60% {\n",
              "      border-color: transparent;\n",
              "      border-right-color: var(--fill-color);\n",
              "    }\n",
              "    80% {\n",
              "      border-color: transparent;\n",
              "      border-right-color: var(--fill-color);\n",
              "      border-bottom-color: var(--fill-color);\n",
              "    }\n",
              "    90% {\n",
              "      border-color: transparent;\n",
              "      border-bottom-color: var(--fill-color);\n",
              "    }\n",
              "  }\n",
              "</style>\n",
              "\n",
              "  <script>\n",
              "    async function quickchart(key) {\n",
              "      const quickchartButtonEl =\n",
              "        document.querySelector('#' + key + ' button');\n",
              "      quickchartButtonEl.disabled = true;  // To prevent multiple clicks.\n",
              "      quickchartButtonEl.classList.add('colab-df-spinner');\n",
              "      try {\n",
              "        const charts = await google.colab.kernel.invokeFunction(\n",
              "            'suggestCharts', [key], {});\n",
              "      } catch (error) {\n",
              "        console.error('Error during call to suggestCharts:', error);\n",
              "      }\n",
              "      quickchartButtonEl.classList.remove('colab-df-spinner');\n",
              "      quickchartButtonEl.classList.add('colab-df-quickchart-complete');\n",
              "    }\n",
              "    (() => {\n",
              "      let quickchartButtonEl =\n",
              "        document.querySelector('#df-25ef77a9-4c56-4314-ac10-4c39cee0f2dc button');\n",
              "      quickchartButtonEl.style.display =\n",
              "        google.colab.kernel.accessAllowed ? 'block' : 'none';\n",
              "    })();\n",
              "  </script>\n",
              "</div>\n",
              "\n",
              "    </div>\n",
              "  </div>\n"
            ],
            "application/vnd.google.colaboratory.intrinsic+json": {
              "type": "dataframe"
            }
          },
          "metadata": {},
          "execution_count": 12
        }
      ]
    },
    {
      "cell_type": "markdown",
      "source": [
        "### División de datos\n",
        "\n",
        "Vamos a separar la variable objetivo y las variables independientes para, posteriormente, crear los conjuntos de entrenamiento y pruebas:"
      ],
      "metadata": {
        "id": "SNImSeJkyT-c"
      }
    },
    {
      "cell_type": "code",
      "source": [
        "train, test = train_test_split(data, test_size=0.2, random_state=77)"
      ],
      "metadata": {
        "id": "ddBv1X8KydQk"
      },
      "execution_count": null,
      "outputs": []
    },
    {
      "cell_type": "markdown",
      "source": [
        "# 3. Construcción del modelo de regresión polinomial"
      ],
      "metadata": {
        "id": "U8_rjW1kxQ_h"
      }
    },
    {
      "cell_type": "markdown",
      "source": [
        "Definiremos los conjuntos de entrenamiento y se escalan con RobustScaler"
      ],
      "metadata": {
        "id": "58_Ikynyywd6"
      }
    },
    {
      "cell_type": "code",
      "source": [
        "x_train = train.drop(['cnt'],axis=1)\n",
        "y_train = train['cnt']\n",
        "columns = x_train.columns\n",
        "scaler = RobustScaler()\n",
        "x_train = scaler.fit_transform(x_train)\n",
        "x_train = pd.DataFrame(x_train, columns=columns)"
      ],
      "metadata": {
        "id": "xFD-aS6Cyz0o"
      },
      "execution_count": null,
      "outputs": []
    },
    {
      "cell_type": "markdown",
      "source": [
        "Primero vamos a definir una variable con el nombre `polynomial_regression`, que se utilizara para realizar la búsqueda de hiperparámetros:"
      ],
      "metadata": {
        "id": "zwSZkDGZzFVV"
      }
    },
    {
      "cell_type": "code",
      "source": [
        "polynomial_regression = make_pipeline(\n",
        "    PolynomialFeatures(),\n",
        "    LinearRegression()\n",
        ")"
      ],
      "metadata": {
        "id": "zYdi7PXBz59U"
      },
      "execution_count": null,
      "outputs": []
    },
    {
      "cell_type": "markdown",
      "source": [
        "Utilizaremos un objeto de la clase `KFold`, con el que definiremos 10 subconjuntos sobre el conjunto de entrenamiento:"
      ],
      "metadata": {
        "id": "hE9WGNEn0kJt"
      }
    },
    {
      "cell_type": "code",
      "source": [
        "kfold = KFold(n_splits=10, shuffle=True, random_state = 0)"
      ],
      "metadata": {
        "id": "wItlBL3o0oOh"
      },
      "execution_count": null,
      "outputs": []
    },
    {
      "cell_type": "markdown",
      "source": [
        "El siguiente paso es definir el espacio de búsqueda del hiperparámetro."
      ],
      "metadata": {
        "id": "WOWRbfj00wwc"
      }
    },
    {
      "cell_type": "code",
      "source": [
        "valores = [2, 3]\n",
        "param_grid = {'polynomialfeatures__degree': valores}"
      ],
      "metadata": {
        "id": "HnBz-AJG0xTp"
      },
      "execution_count": null,
      "outputs": []
    },
    {
      "cell_type": "markdown",
      "source": [
        "Finalmente, el último paso antes de realizar la búsqueda de hiperparámetros es crear el objeto de tipo GridSearchCV."
      ],
      "metadata": {
        "id": "9JhV8d8a1ffT"
      }
    },
    {
      "cell_type": "code",
      "source": [
        "grid = GridSearchCV(polynomial_regression, param_grid, scoring='neg_root_mean_squared_error', cv=kfold, n_jobs=-1)"
      ],
      "metadata": {
        "id": "VzpLsfRV1jc_"
      },
      "execution_count": null,
      "outputs": []
    },
    {
      "cell_type": "markdown",
      "source": [
        "A continuación, realiza la búsqueda de hiperparámetros utilizando el conjunto de entrenamiento, compuesto por las variables x_train y y_train.\n",
        "\n"
      ],
      "metadata": {
        "id": "2hF-N9H-1ir9"
      }
    },
    {
      "cell_type": "code",
      "source": [
        "grid.fit(x_train, y_train)\n",
        "print(\"Mejor parámetro: \", grid.best_params_)\n",
        "\n",
        "mejor_modelo = grid.best_estimator_"
      ],
      "metadata": {
        "colab": {
          "base_uri": "https://localhost:8080/"
        },
        "id": "Uhr15wsy2N0A",
        "outputId": "4c074e55-dfec-4729-9f1e-839a1f47b104"
      },
      "execution_count": null,
      "outputs": [
        {
          "output_type": "stream",
          "name": "stdout",
          "text": [
            "Mejor parámetro:  {'polynomialfeatures__degree': 3}\n"
          ]
        }
      ]
    },
    {
      "cell_type": "code",
      "source": [
        "x_test = test.drop(['cnt'],axis=1)\n",
        "y_test = test['cnt']\n",
        "x_test = scaler.transform(x_test)\n",
        "x_test = pd.DataFrame(x_test, columns=columns)"
      ],
      "metadata": {
        "id": "3vyia5KROIcv"
      },
      "execution_count": null,
      "outputs": []
    },
    {
      "cell_type": "markdown",
      "source": [
        "Realiza predicciones con el fin de compararlas con los valores reales almacenados en `y_test`.\n"
      ],
      "metadata": {
        "id": "Ari27moX2LjF"
      }
    },
    {
      "cell_type": "code",
      "source": [
        "y_pred = mejor_modelo.predict(x_test)"
      ],
      "metadata": {
        "id": "jlTqIkoN2Q5U"
      },
      "execution_count": null,
      "outputs": []
    },
    {
      "cell_type": "markdown",
      "source": [
        "Evaluacion del modelo"
      ],
      "metadata": {
        "id": "a0HMdyCg5Dqt"
      }
    },
    {
      "cell_type": "code",
      "source": [
        "rmse_pr = mean_squared_error(y_test, y_pred, squared=False)\n",
        "print(\"RMSE: \", rmse_pr)"
      ],
      "metadata": {
        "colab": {
          "base_uri": "https://localhost:8080/"
        },
        "id": "8r7SNj8_2U1K",
        "outputId": "5a426b47-d988-4cbb-d1cd-ec17079e9a11"
      },
      "execution_count": null,
      "outputs": [
        {
          "output_type": "stream",
          "name": "stdout",
          "text": [
            "RMSE:  130.59121868780232\n"
          ]
        }
      ]
    },
    {
      "cell_type": "code",
      "source": [
        "mae_pr = mean_absolute_error(y_test, y_pred)\n",
        "print(\"MAE: \", mae_pr)"
      ],
      "metadata": {
        "colab": {
          "base_uri": "https://localhost:8080/"
        },
        "id": "BNrdbRlh0QxX",
        "outputId": "ea9314b2-dc24-427e-d801-7f0e6da3634a"
      },
      "execution_count": null,
      "outputs": [
        {
          "output_type": "stream",
          "name": "stdout",
          "text": [
            "MAE:  94.63842632641291\n"
          ]
        }
      ]
    },
    {
      "cell_type": "code",
      "source": [
        "r2_pr = r2_score(y_test, y_pred)\n",
        "print('R²: ', r2_pr)"
      ],
      "metadata": {
        "colab": {
          "base_uri": "https://localhost:8080/"
        },
        "id": "CUSlbq0d0bHA",
        "outputId": "cdd66864-207c-48cd-f156-deeb73cecf1f"
      },
      "execution_count": null,
      "outputs": [
        {
          "output_type": "stream",
          "name": "stdout",
          "text": [
            "R²:  0.4926797460135195\n"
          ]
        }
      ]
    },
    {
      "cell_type": "markdown",
      "source": [
        "# 4. Construcción del modelo de regresión regularizada Lasso"
      ],
      "metadata": {
        "id": "xJKGGXod1fKK"
      }
    },
    {
      "cell_type": "markdown",
      "source": [
        "Definiremos los conjuntos de entrenamiento y se escalan con StandardScaler\n",
        "\n"
      ],
      "metadata": {
        "id": "Q4uITx14H37G"
      }
    },
    {
      "cell_type": "code",
      "source": [
        "x_train = train.drop(['cnt'],axis=1)\n",
        "y_train = train['cnt']\n",
        "columns = x_train.columns\n",
        "scaler = StandardScaler()\n",
        "x_train = scaler.fit_transform(x_train)\n",
        "x_train = pd.DataFrame(x_train, columns=columns)"
      ],
      "metadata": {
        "id": "v10nozwyH9dg"
      },
      "execution_count": null,
      "outputs": []
    },
    {
      "cell_type": "markdown",
      "source": [
        "Utilizaremos un objeto de la clase `KFold`, con el que definiremos 10 subconjuntos sobre el conjunto de entrenamiento:"
      ],
      "metadata": {
        "id": "zruD-X9eARcq"
      }
    },
    {
      "cell_type": "code",
      "source": [
        "kfold = KFold(n_splits=10, shuffle=True, random_state = 0)"
      ],
      "metadata": {
        "id": "BjK6Hk-vAQ4V"
      },
      "execution_count": null,
      "outputs": []
    },
    {
      "cell_type": "markdown",
      "source": [
        "El siguiente paso es definir el espacio de búsqueda del hiperparámetro."
      ],
      "metadata": {
        "id": "m0_il5NBA3g_"
      }
    },
    {
      "cell_type": "code",
      "source": [
        "valores = [1, 2, 3, 4, 5]\n",
        "param_grid = {'alpha': valores}"
      ],
      "metadata": {
        "id": "qjggScJpA207"
      },
      "execution_count": null,
      "outputs": []
    },
    {
      "cell_type": "markdown",
      "source": [
        "Finalmente, el último paso antes de realizar la búsqueda de hiperparámetros es crear el objeto de tipo GridSearchCV."
      ],
      "metadata": {
        "id": "awGQis4bCr6j"
      }
    },
    {
      "cell_type": "code",
      "source": [
        "lasso = Lasso(max_iter=2000)\n",
        "grid = GridSearchCV(lasso, param_grid, scoring='neg_root_mean_squared_error', cv=kfold, n_jobs=-1, refit=True)"
      ],
      "metadata": {
        "id": "OD9TmS3WCs14"
      },
      "execution_count": null,
      "outputs": []
    },
    {
      "cell_type": "markdown",
      "source": [
        "A continuación, realiza la búsqueda de hiperparámetros utilizando el conjunto de entrenamiento, compuesto por las variables x_train y y_train."
      ],
      "metadata": {
        "id": "f8NnYvCBDEVO"
      }
    },
    {
      "cell_type": "code",
      "source": [
        "grid.fit(x_train, y_train)\n",
        "print(\"Mejor parámetro: \", grid.best_params_)\n",
        "\n",
        "mejor_modelo = grid.best_estimator_"
      ],
      "metadata": {
        "colab": {
          "base_uri": "https://localhost:8080/"
        },
        "id": "7q7dY4ASDNfn",
        "outputId": "42b5e254-4a53-4c93-f2bf-1deba83c444a"
      },
      "execution_count": null,
      "outputs": [
        {
          "output_type": "stream",
          "name": "stdout",
          "text": [
            "Mejor parámetro:  {'alpha': 1}\n"
          ]
        }
      ]
    },
    {
      "cell_type": "code",
      "source": [
        "list(zip(x_train.columns, grid.best_estimator_.coef_))"
      ],
      "metadata": {
        "colab": {
          "base_uri": "https://localhost:8080/"
        },
        "id": "F-e_nHvp8rmC",
        "outputId": "8a51da6f-32ba-4670-970b-44075a45a502"
      },
      "execution_count": null,
      "outputs": [
        {
          "output_type": "execute_result",
          "data": {
            "text/plain": [
              "[('temp', 39.19198103839863),\n",
              " ('atemp', 21.842442433534824),\n",
              " ('hum', -27.646109700166683),\n",
              " ('windspeed', -0.0),\n",
              " ('weekday_0', -2.426884847183268),\n",
              " ('weekday_1', -0.5682387396568973),\n",
              " ('weekday_2', -0.0),\n",
              " ('weekday_3', 0.0),\n",
              " ('weekday_4', 0.0),\n",
              " ('weekday_5', 0.5062339724906546),\n",
              " ('weekday_6', 0.6723201777679971),\n",
              " ('season_Fall', 22.548732507426372),\n",
              " ('season_Spring', 8.413040807874985),\n",
              " ('season_Summer', -2.3028523693715317),\n",
              " ('season_Winter', -2.3308152040123638),\n",
              " ('weathersit_Clear', 1.1937844567950469),\n",
              " ('weathersit_Heavy Rain', 0.0),\n",
              " ('weathersit_Light Rain', -10.596877373349308),\n",
              " ('weathersit_Mist', -0.0),\n",
              " ('time_of_day_Evening', 39.645655203382525),\n",
              " ('time_of_day_Morning', 0.0),\n",
              " ('time_of_day_Night', -48.6539913410163)]"
            ]
          },
          "metadata": {},
          "execution_count": 31
        }
      ]
    },
    {
      "cell_type": "code",
      "source": [
        "x_test = test.drop(['cnt'],axis=1)\n",
        "y_test = test['cnt']\n",
        "x_test = scaler.transform(x_test)\n",
        "x_test = pd.DataFrame(x_test, columns=columns)"
      ],
      "metadata": {
        "id": "M6BOw2-xMvps"
      },
      "execution_count": null,
      "outputs": []
    },
    {
      "cell_type": "markdown",
      "source": [
        "Realiza predicciones con el fin de compararlas con los valores reales almacenados en `y_test`."
      ],
      "metadata": {
        "id": "TJOG1WCGDPoD"
      }
    },
    {
      "cell_type": "code",
      "source": [
        "y_pred_lr = mejor_modelo.predict(x_test)"
      ],
      "metadata": {
        "id": "0uprP-gZDkJ5"
      },
      "execution_count": null,
      "outputs": []
    },
    {
      "cell_type": "markdown",
      "source": [
        "Evaluacion del modelo"
      ],
      "metadata": {
        "id": "-EOAOrSPDwL_"
      }
    },
    {
      "cell_type": "code",
      "source": [
        "rmse_lr = mean_squared_error(y_test, y_pred_lr, squared=False)\n",
        "print(\"RMSE: \", rmse_lr)"
      ],
      "metadata": {
        "colab": {
          "base_uri": "https://localhost:8080/"
        },
        "id": "5AuZlXByDyrJ",
        "outputId": "12c83eda-59a8-4a36-a20b-e38cbfa9cbe1"
      },
      "execution_count": null,
      "outputs": [
        {
          "output_type": "stream",
          "name": "stdout",
          "text": [
            "RMSE:  139.73457240621644\n"
          ]
        }
      ]
    },
    {
      "cell_type": "code",
      "source": [
        "mae_lr = mean_absolute_error(y_test, y_pred_lr)\n",
        "print(\"MAE: \", mae_lr)"
      ],
      "metadata": {
        "colab": {
          "base_uri": "https://localhost:8080/"
        },
        "id": "k0DBUXMdD3ei",
        "outputId": "5ebc9b8f-424e-4e38-873f-1c7256916489"
      },
      "execution_count": null,
      "outputs": [
        {
          "output_type": "stream",
          "name": "stdout",
          "text": [
            "MAE:  103.60265964565383\n"
          ]
        }
      ]
    },
    {
      "cell_type": "code",
      "source": [
        "r2_lr = r2_score(y_test, y_pred_lr)\n",
        "print('R²: ', r2_lr)"
      ],
      "metadata": {
        "colab": {
          "base_uri": "https://localhost:8080/"
        },
        "id": "UQW7qmZwD8CC",
        "outputId": "93cea2e0-d5fa-4536-a71d-1e7fd7a9072b"
      },
      "execution_count": null,
      "outputs": [
        {
          "output_type": "stream",
          "name": "stdout",
          "text": [
            "R²:  0.41915267678849677\n"
          ]
        }
      ]
    },
    {
      "cell_type": "markdown",
      "source": [
        "Construccion de modelo para seleccion de variables considerando alpha=5, el numero mas grande de la lista de valores establecidos para este taller"
      ],
      "metadata": {
        "id": "lNhoU-oeurep"
      }
    },
    {
      "cell_type": "code",
      "source": [
        "lasso_sv = Lasso(alpha=5)\n",
        "lasso_sv.fit(x_train, y_train)\n",
        "list(zip(x_train.columns, lasso_sv.coef_))"
      ],
      "metadata": {
        "colab": {
          "base_uri": "https://localhost:8080/"
        },
        "id": "MaXcOdUOTA0I",
        "outputId": "569acf7d-93e9-4506-9834-723dd49174ce"
      },
      "execution_count": null,
      "outputs": [
        {
          "output_type": "execute_result",
          "data": {
            "text/plain": [
              "[('temp', 24.59974638862015),\n",
              " ('atemp', 26.813435119766734),\n",
              " ('hum', -26.32779252106779),\n",
              " ('windspeed', 0.0),\n",
              " ('weekday_0', -0.0),\n",
              " ('weekday_1', -0.0),\n",
              " ('weekday_2', -0.0),\n",
              " ('weekday_3', 0.0),\n",
              " ('weekday_4', 0.0),\n",
              " ('weekday_5', 0.0),\n",
              " ('weekday_6', 0.0),\n",
              " ('season_Fall', 12.238926532557342),\n",
              " ('season_Spring', 0.819234343469567),\n",
              " ('season_Summer', -0.0),\n",
              " ('season_Winter', -8.897543541009995),\n",
              " ('weathersit_Clear', 0.0),\n",
              " ('weathersit_Heavy Rain', -0.0),\n",
              " ('weathersit_Light Rain', -7.47172606297155),\n",
              " ('weathersit_Mist', -0.0),\n",
              " ('time_of_day_Evening', 39.27664685085888),\n",
              " ('time_of_day_Morning', 0.0),\n",
              " ('time_of_day_Night', -46.10338277889293)]"
            ]
          },
          "metadata": {},
          "execution_count": 46
        }
      ]
    },
    {
      "cell_type": "markdown",
      "source": [
        "#5. Tabla comparativa del rendimiento de los modelos de regresion"
      ],
      "metadata": {
        "id": "l2WrqUnjraeh"
      }
    },
    {
      "cell_type": "code",
      "source": [
        "from prettytable import PrettyTable\n",
        "t = PrettyTable(['Modelo', 'R²', 'MAE', 'RMSE'])\n",
        "t.add_row(['Polinomial', '{0:.2f}'.format(r2_pr), '{0:.2f}'.format(mae_pr), '{0:.2f}'.format(rmse_pr)])\n",
        "t.add_row(['Lasso', '{0:.2f}'.format(r2_lr), '{0:.2f}'.format(mae_lr), '{0:.2f}'.format(rmse_lr)])\n",
        "print(t)"
      ],
      "metadata": {
        "colab": {
          "base_uri": "https://localhost:8080/"
        },
        "id": "4cD-4cEzqGvh",
        "outputId": "17755331-44a7-43ae-ad8d-8bd80145d666"
      },
      "execution_count": null,
      "outputs": [
        {
          "output_type": "stream",
          "name": "stdout",
          "text": [
            "+------------+------+--------+--------+\n",
            "|   Modelo   |  R²  |  MAE   |  RMSE  |\n",
            "+------------+------+--------+--------+\n",
            "| Polinomial | 0.49 | 94.64  | 130.59 |\n",
            "|   Lasso    | 0.42 | 103.60 | 139.73 |\n",
            "+------------+------+--------+--------+\n"
          ]
        }
      ]
    },
    {
      "cell_type": "markdown",
      "source": [
        "\n",
        "\n",
        "# Análisis de resultados\n",
        "\n",
        "\n",
        "\n",
        "---\n",
        "\n",
        "\n",
        ">\n",
        "1. ¿Cuál es el grado de la transformación polinomial que fue seleccionado utilizando la técnica de validación?\n",
        "\n",
        "> Mejor parámetro para regresión polinomial:  `{'polynomialfeatures__degree': 3}`\n",
        "\n",
        "\n",
        "2. ¿Cuál fue el valor de α que fue seleccionado utilizando la técnica de validación para la regresión Lasso?\n",
        "\n",
        "> Mejor parámetro para regresión Lasso `{'alpha': 1}`\n",
        "\n",
        "3. A partir de la tabla comparativa, ¿cuál modelo ofrece el mejor rendimiento sobre el conjunto test? ¿Qué interpretación puedes darles a los valores obtenidos sobre las métricas de rendimiento?\n",
        "\n",
        "> El mejor rendimiento lo obtuvo la regresion polinomial que se ajusta al 49% de los datos, sin embargo sigue siendo un numero muy bajo y no se recomienda el uso de este modelo para hacer predicciones. Ademas considerando que la variable `cnt` tiene el 50% de sus valores por debajo de 149, el error del modelo es muy grande con MAE 94.64  y RMSE 130.59.\n",
        "\n",
        "4. ¿Cuáles variables fueron seleccionadas con el modelo Lasso?\n",
        "\n",
        "| Variable   | Coeficiente |\n",
        "|------------|:-----------:|\n",
        "| temp | 24.60 |\n",
        "| atemp | 26.81 |\n",
        "| hum | -26.33 |\n",
        "| windspeed | 0.0 |\n",
        "| weekday_0 | -0.0 |\n",
        "| weekday_1 | -0.0 |\n",
        "| weekday_2 | -0.0 |\n",
        "| weekday_3 | 0.0 |\n",
        "| weekday_4 | 0.0 |\n",
        "| weekday_5 | 0.0 |\n",
        "| weekday_6 | 0.0 |\n",
        "| season_Fall | 12.24 |\n",
        "| season_Spring | 0.82 |\n",
        "| season_Summer | -0.0 |\n",
        "| season_Winter | -8.90 |\n",
        "| weathersit_Clear | 0.0 |\n",
        "| weathersit_Heavy Rain | -0.0 |\n",
        "| weathersit_Light Rain | -7.47 |\n",
        "| weathersit_Mist | -0.0 |\n",
        "| time_of_day_Evening | 39.28 |\n",
        "| time_of_day_Morning | 0.0 |\n",
        "| time_of_day_Night | -46.10 |\n",
        "\n",
        "\n",
        "> A partir de estas, ¿qué interpretación de cara al problema puedes dar?\n",
        "\n",
        "De estos resultados se puede interpretar que las variables con coeficiente igual a 0 son poco relevantes para el modelo de regresión Lasso.\n",
        "\n",
        "Estas son: windspeed, weekday_0, weekday_1, weekday_2, weekday_3, weekday_4, weekday_5, weekday_6, season_Summer, weathersit_Clear, weathersit_Heavy Rain, weathersit_Mist, time_of_day_Morning.\n",
        "\n",
        "Según los resultados de esta selección de variables se puede inferir que la variable `windspeed` es de poca relevancia para el modelo y no se tiene en cuenta para realizar predicciones.\n",
        "\n",
        "Sin embargo **la mayoría de las variables son categorías que salen del proceso de transformación de variables categóricas** y pues nos permiten interpretar las categorías que tienen mucha o poca relevancia en la predicción. Por ejemplo al evaluar la variable categórica `time_of_day` podemos interpretar que las personas no le dan mucha importancia a considerar si el momento para usar la bicicleta es en la mañana; sin embargo aumenta el uso de bicicletas en la tarde. Por el contrario en la noche disminuye.\n",
        "\n",
        "\n",
        "\n",
        "\n",
        "\n",
        "\n"
      ],
      "metadata": {
        "id": "NV8G-gze082Q"
      }
    }
  ]
}