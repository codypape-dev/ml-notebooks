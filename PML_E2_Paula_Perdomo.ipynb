{
  "nbformat": 4,
  "nbformat_minor": 0,
  "metadata": {
    "colab": {
      "provenance": [],
      "authorship_tag": "ABX9TyN96+vq/lCK/mWL/r8S/8LP",
      "include_colab_link": true
    },
    "kernelspec": {
      "name": "python3",
      "display_name": "Python 3"
    },
    "language_info": {
      "name": "python"
    }
  },
  "cells": [
    {
      "cell_type": "markdown",
      "metadata": {
        "id": "view-in-github",
        "colab_type": "text"
      },
      "source": [
        "<a href=\"https://colab.research.google.com/github/codypape-dev/notebooks/blob/main/PML_E2_Paula_Perdomo.ipynb\" target=\"_parent\"><img src=\"https://colab.research.google.com/assets/colab-badge.svg\" alt=\"Open In Colab\"/></a>"
      ]
    },
    {
      "cell_type": "markdown",
      "source": [
        "# **Deterioro de la calidad de los cuerpos de agua y cómo, con el machine learning, se puede apoyar la implementación de mecanismos que permitan monitorear y evaluar las variaciones en las características fisicoquímicas del agua**\n",
        "\n",
        "---\n",
        "\n",
        "> ## Paula Perdomo\n",
        "> #### Asignatura: Principios de Machine Learning\n",
        "> #### Universidad de los Andes - Maestria en Inteligencia Artificial\n",
        "> ![Universidad de los Andes](https://uniandes.edu.co/sites/default/files/logo-header.png)\n",
        "\n",
        "---\n",
        "\n",
        "En este ptoyecto se pretende mostrar el proceso de creacion de 2 modelos de machine learning usando los algoritmos de arboles de decision y k-vecinos mas cercanos para observar deterioro de la calidad de los cuerpos de agua y con el apoyo de estos modelos monitorear y evaluar las variaciones en las características fisicoquímicas del agua, con el fin de preservar la calidad de estos ecosistemas y garantizar la disponibilidad de agua dulce para la población humana.\n",
        "\n",
        "### Objetivos.\n",
        "\n",
        "- Aplicar técnicas de clasificación basadas en árboles de decisión y K-vecinos más cercanos para construir modelos predictivos que permitan estimar la calidad del agua de una zona determinada.\n",
        "\n",
        "- Determinar cuáles son los factores que más inciden en la contaminación de los cuerpos de agua con base en los datos.\n"
      ],
      "metadata": {
        "id": "qLufSe549Mlp"
      }
    },
    {
      "cell_type": "markdown",
      "source": [
        "# 1. Exploración y perfilamiento de los datos"
      ],
      "metadata": {
        "id": "Onmv3JmZ9O_W"
      }
    },
    {
      "cell_type": "markdown",
      "source": [
        "## Importacion de librerias"
      ],
      "metadata": {
        "id": "1FxHPOLJAO3s"
      }
    },
    {
      "cell_type": "code",
      "source": [
        "import pandas as pd\n",
        "import matplotlib.pyplot as plt\n",
        "import numpy as np\n",
        "\n",
        "from sklearn.pipeline import Pipeline\n",
        "from sklearn.impute import SimpleImputer\n",
        "from sklearn.compose import ColumnTransformer\n",
        "from sklearn.preprocessing import StandardScaler\n",
        "from sklearn.neighbors import KNeighborsClassifier\n",
        "from sklearn.tree import DecisionTreeClassifier, plot_tree\n",
        "from sklearn.model_selection import train_test_split, KFold, GridSearchCV, validation_curve\n",
        "from sklearn.metrics import accuracy_score, precision_score, recall_score, f1_score\n",
        "from sklearn.metrics import confusion_matrix, classification_report\n",
        "from sklearn import tree"
      ],
      "metadata": {
        "id": "qt6E89OXAPaI"
      },
      "execution_count": 354,
      "outputs": []
    },
    {
      "cell_type": "markdown",
      "source": [
        "## Carga de datos\n",
        "\n",
        "Realizaremos la carga de datos usando la función de Pandas ``read_csv()``. Se utiliza el símbolo “?” para indicar una ausencia."
      ],
      "metadata": {
        "id": "DKYrB6p5A9gn"
      }
    },
    {
      "cell_type": "code",
      "source": [
        "data_raw = pd.read_csv('Datos_Etapa-2.csv', sep=',', na_values=['?'], encoding = 'utf-8')"
      ],
      "metadata": {
        "id": "0yQWnVMhBACV"
      },
      "execution_count": 355,
      "outputs": []
    },
    {
      "cell_type": "markdown",
      "source": [
        "Observamos los primeros datos del conjunto usando ``head()``"
      ],
      "metadata": {
        "id": "IluqTnN7DJKk"
      }
    },
    {
      "cell_type": "code",
      "source": [
        "data_raw.head()"
      ],
      "metadata": {
        "id": "6O_60Lv1DIkv",
        "colab": {
          "base_uri": "https://localhost:8080/",
          "height": 0
        },
        "outputId": "f85b77e6-6eb6-4d15-bfec-908d92fa61ab"
      },
      "execution_count": 356,
      "outputs": [
        {
          "output_type": "execute_result",
          "data": {
            "text/plain": [
              "     pH  Dureza   Sólidos  Cloraminas  Sulfatos  Conductividad  \\\n",
              "0   NaN  204.89  20791.32        7.30    368.52         564.31   \n",
              "1  3.72  129.42  18630.06        6.64       NaN         592.89   \n",
              "2  8.10  224.24  19909.54        9.28       NaN         418.61   \n",
              "3  8.32  214.37  22018.42        8.06    356.89         363.27   \n",
              "4  9.09  181.10  17978.99        6.55    310.14         398.41   \n",
              "\n",
              "   Carbono_orgánico  Trihalometanos  Turbidez Potabilidad  \n",
              "0             10.38           86.99      2.96          NO  \n",
              "1             15.18           56.33      4.50          NO  \n",
              "2             16.87           66.42      3.06          NO  \n",
              "3             18.44          100.34      4.63          NO  \n",
              "4             11.56           32.00      4.08          NO  "
            ],
            "text/html": [
              "\n",
              "  <div id=\"df-e115fc50-8251-473c-b640-256f67871586\" class=\"colab-df-container\">\n",
              "    <div>\n",
              "<style scoped>\n",
              "    .dataframe tbody tr th:only-of-type {\n",
              "        vertical-align: middle;\n",
              "    }\n",
              "\n",
              "    .dataframe tbody tr th {\n",
              "        vertical-align: top;\n",
              "    }\n",
              "\n",
              "    .dataframe thead th {\n",
              "        text-align: right;\n",
              "    }\n",
              "</style>\n",
              "<table border=\"1\" class=\"dataframe\">\n",
              "  <thead>\n",
              "    <tr style=\"text-align: right;\">\n",
              "      <th></th>\n",
              "      <th>pH</th>\n",
              "      <th>Dureza</th>\n",
              "      <th>Sólidos</th>\n",
              "      <th>Cloraminas</th>\n",
              "      <th>Sulfatos</th>\n",
              "      <th>Conductividad</th>\n",
              "      <th>Carbono_orgánico</th>\n",
              "      <th>Trihalometanos</th>\n",
              "      <th>Turbidez</th>\n",
              "      <th>Potabilidad</th>\n",
              "    </tr>\n",
              "  </thead>\n",
              "  <tbody>\n",
              "    <tr>\n",
              "      <th>0</th>\n",
              "      <td>NaN</td>\n",
              "      <td>204.89</td>\n",
              "      <td>20791.32</td>\n",
              "      <td>7.30</td>\n",
              "      <td>368.52</td>\n",
              "      <td>564.31</td>\n",
              "      <td>10.38</td>\n",
              "      <td>86.99</td>\n",
              "      <td>2.96</td>\n",
              "      <td>NO</td>\n",
              "    </tr>\n",
              "    <tr>\n",
              "      <th>1</th>\n",
              "      <td>3.72</td>\n",
              "      <td>129.42</td>\n",
              "      <td>18630.06</td>\n",
              "      <td>6.64</td>\n",
              "      <td>NaN</td>\n",
              "      <td>592.89</td>\n",
              "      <td>15.18</td>\n",
              "      <td>56.33</td>\n",
              "      <td>4.50</td>\n",
              "      <td>NO</td>\n",
              "    </tr>\n",
              "    <tr>\n",
              "      <th>2</th>\n",
              "      <td>8.10</td>\n",
              "      <td>224.24</td>\n",
              "      <td>19909.54</td>\n",
              "      <td>9.28</td>\n",
              "      <td>NaN</td>\n",
              "      <td>418.61</td>\n",
              "      <td>16.87</td>\n",
              "      <td>66.42</td>\n",
              "      <td>3.06</td>\n",
              "      <td>NO</td>\n",
              "    </tr>\n",
              "    <tr>\n",
              "      <th>3</th>\n",
              "      <td>8.32</td>\n",
              "      <td>214.37</td>\n",
              "      <td>22018.42</td>\n",
              "      <td>8.06</td>\n",
              "      <td>356.89</td>\n",
              "      <td>363.27</td>\n",
              "      <td>18.44</td>\n",
              "      <td>100.34</td>\n",
              "      <td>4.63</td>\n",
              "      <td>NO</td>\n",
              "    </tr>\n",
              "    <tr>\n",
              "      <th>4</th>\n",
              "      <td>9.09</td>\n",
              "      <td>181.10</td>\n",
              "      <td>17978.99</td>\n",
              "      <td>6.55</td>\n",
              "      <td>310.14</td>\n",
              "      <td>398.41</td>\n",
              "      <td>11.56</td>\n",
              "      <td>32.00</td>\n",
              "      <td>4.08</td>\n",
              "      <td>NO</td>\n",
              "    </tr>\n",
              "  </tbody>\n",
              "</table>\n",
              "</div>\n",
              "    <div class=\"colab-df-buttons\">\n",
              "\n",
              "  <div class=\"colab-df-container\">\n",
              "    <button class=\"colab-df-convert\" onclick=\"convertToInteractive('df-e115fc50-8251-473c-b640-256f67871586')\"\n",
              "            title=\"Convert this dataframe to an interactive table.\"\n",
              "            style=\"display:none;\">\n",
              "\n",
              "  <svg xmlns=\"http://www.w3.org/2000/svg\" height=\"24px\" viewBox=\"0 -960 960 960\">\n",
              "    <path d=\"M120-120v-720h720v720H120Zm60-500h600v-160H180v160Zm220 220h160v-160H400v160Zm0 220h160v-160H400v160ZM180-400h160v-160H180v160Zm440 0h160v-160H620v160ZM180-180h160v-160H180v160Zm440 0h160v-160H620v160Z\"/>\n",
              "  </svg>\n",
              "    </button>\n",
              "\n",
              "  <style>\n",
              "    .colab-df-container {\n",
              "      display:flex;\n",
              "      gap: 12px;\n",
              "    }\n",
              "\n",
              "    .colab-df-convert {\n",
              "      background-color: #E8F0FE;\n",
              "      border: none;\n",
              "      border-radius: 50%;\n",
              "      cursor: pointer;\n",
              "      display: none;\n",
              "      fill: #1967D2;\n",
              "      height: 32px;\n",
              "      padding: 0 0 0 0;\n",
              "      width: 32px;\n",
              "    }\n",
              "\n",
              "    .colab-df-convert:hover {\n",
              "      background-color: #E2EBFA;\n",
              "      box-shadow: 0px 1px 2px rgba(60, 64, 67, 0.3), 0px 1px 3px 1px rgba(60, 64, 67, 0.15);\n",
              "      fill: #174EA6;\n",
              "    }\n",
              "\n",
              "    .colab-df-buttons div {\n",
              "      margin-bottom: 4px;\n",
              "    }\n",
              "\n",
              "    [theme=dark] .colab-df-convert {\n",
              "      background-color: #3B4455;\n",
              "      fill: #D2E3FC;\n",
              "    }\n",
              "\n",
              "    [theme=dark] .colab-df-convert:hover {\n",
              "      background-color: #434B5C;\n",
              "      box-shadow: 0px 1px 3px 1px rgba(0, 0, 0, 0.15);\n",
              "      filter: drop-shadow(0px 1px 2px rgba(0, 0, 0, 0.3));\n",
              "      fill: #FFFFFF;\n",
              "    }\n",
              "  </style>\n",
              "\n",
              "    <script>\n",
              "      const buttonEl =\n",
              "        document.querySelector('#df-e115fc50-8251-473c-b640-256f67871586 button.colab-df-convert');\n",
              "      buttonEl.style.display =\n",
              "        google.colab.kernel.accessAllowed ? 'block' : 'none';\n",
              "\n",
              "      async function convertToInteractive(key) {\n",
              "        const element = document.querySelector('#df-e115fc50-8251-473c-b640-256f67871586');\n",
              "        const dataTable =\n",
              "          await google.colab.kernel.invokeFunction('convertToInteractive',\n",
              "                                                    [key], {});\n",
              "        if (!dataTable) return;\n",
              "\n",
              "        const docLinkHtml = 'Like what you see? Visit the ' +\n",
              "          '<a target=\"_blank\" href=https://colab.research.google.com/notebooks/data_table.ipynb>data table notebook</a>'\n",
              "          + ' to learn more about interactive tables.';\n",
              "        element.innerHTML = '';\n",
              "        dataTable['output_type'] = 'display_data';\n",
              "        await google.colab.output.renderOutput(dataTable, element);\n",
              "        const docLink = document.createElement('div');\n",
              "        docLink.innerHTML = docLinkHtml;\n",
              "        element.appendChild(docLink);\n",
              "      }\n",
              "    </script>\n",
              "  </div>\n",
              "\n",
              "\n",
              "<div id=\"df-3049198d-4b53-4105-8531-f9eb3eab2106\">\n",
              "  <button class=\"colab-df-quickchart\" onclick=\"quickchart('df-3049198d-4b53-4105-8531-f9eb3eab2106')\"\n",
              "            title=\"Suggest charts\"\n",
              "            style=\"display:none;\">\n",
              "\n",
              "<svg xmlns=\"http://www.w3.org/2000/svg\" height=\"24px\"viewBox=\"0 0 24 24\"\n",
              "     width=\"24px\">\n",
              "    <g>\n",
              "        <path d=\"M19 3H5c-1.1 0-2 .9-2 2v14c0 1.1.9 2 2 2h14c1.1 0 2-.9 2-2V5c0-1.1-.9-2-2-2zM9 17H7v-7h2v7zm4 0h-2V7h2v10zm4 0h-2v-4h2v4z\"/>\n",
              "    </g>\n",
              "</svg>\n",
              "  </button>\n",
              "\n",
              "<style>\n",
              "  .colab-df-quickchart {\n",
              "      --bg-color: #E8F0FE;\n",
              "      --fill-color: #1967D2;\n",
              "      --hover-bg-color: #E2EBFA;\n",
              "      --hover-fill-color: #174EA6;\n",
              "      --disabled-fill-color: #AAA;\n",
              "      --disabled-bg-color: #DDD;\n",
              "  }\n",
              "\n",
              "  [theme=dark] .colab-df-quickchart {\n",
              "      --bg-color: #3B4455;\n",
              "      --fill-color: #D2E3FC;\n",
              "      --hover-bg-color: #434B5C;\n",
              "      --hover-fill-color: #FFFFFF;\n",
              "      --disabled-bg-color: #3B4455;\n",
              "      --disabled-fill-color: #666;\n",
              "  }\n",
              "\n",
              "  .colab-df-quickchart {\n",
              "    background-color: var(--bg-color);\n",
              "    border: none;\n",
              "    border-radius: 50%;\n",
              "    cursor: pointer;\n",
              "    display: none;\n",
              "    fill: var(--fill-color);\n",
              "    height: 32px;\n",
              "    padding: 0;\n",
              "    width: 32px;\n",
              "  }\n",
              "\n",
              "  .colab-df-quickchart:hover {\n",
              "    background-color: var(--hover-bg-color);\n",
              "    box-shadow: 0 1px 2px rgba(60, 64, 67, 0.3), 0 1px 3px 1px rgba(60, 64, 67, 0.15);\n",
              "    fill: var(--button-hover-fill-color);\n",
              "  }\n",
              "\n",
              "  .colab-df-quickchart-complete:disabled,\n",
              "  .colab-df-quickchart-complete:disabled:hover {\n",
              "    background-color: var(--disabled-bg-color);\n",
              "    fill: var(--disabled-fill-color);\n",
              "    box-shadow: none;\n",
              "  }\n",
              "\n",
              "  .colab-df-spinner {\n",
              "    border: 2px solid var(--fill-color);\n",
              "    border-color: transparent;\n",
              "    border-bottom-color: var(--fill-color);\n",
              "    animation:\n",
              "      spin 1s steps(1) infinite;\n",
              "  }\n",
              "\n",
              "  @keyframes spin {\n",
              "    0% {\n",
              "      border-color: transparent;\n",
              "      border-bottom-color: var(--fill-color);\n",
              "      border-left-color: var(--fill-color);\n",
              "    }\n",
              "    20% {\n",
              "      border-color: transparent;\n",
              "      border-left-color: var(--fill-color);\n",
              "      border-top-color: var(--fill-color);\n",
              "    }\n",
              "    30% {\n",
              "      border-color: transparent;\n",
              "      border-left-color: var(--fill-color);\n",
              "      border-top-color: var(--fill-color);\n",
              "      border-right-color: var(--fill-color);\n",
              "    }\n",
              "    40% {\n",
              "      border-color: transparent;\n",
              "      border-right-color: var(--fill-color);\n",
              "      border-top-color: var(--fill-color);\n",
              "    }\n",
              "    60% {\n",
              "      border-color: transparent;\n",
              "      border-right-color: var(--fill-color);\n",
              "    }\n",
              "    80% {\n",
              "      border-color: transparent;\n",
              "      border-right-color: var(--fill-color);\n",
              "      border-bottom-color: var(--fill-color);\n",
              "    }\n",
              "    90% {\n",
              "      border-color: transparent;\n",
              "      border-bottom-color: var(--fill-color);\n",
              "    }\n",
              "  }\n",
              "</style>\n",
              "\n",
              "  <script>\n",
              "    async function quickchart(key) {\n",
              "      const quickchartButtonEl =\n",
              "        document.querySelector('#' + key + ' button');\n",
              "      quickchartButtonEl.disabled = true;  // To prevent multiple clicks.\n",
              "      quickchartButtonEl.classList.add('colab-df-spinner');\n",
              "      try {\n",
              "        const charts = await google.colab.kernel.invokeFunction(\n",
              "            'suggestCharts', [key], {});\n",
              "      } catch (error) {\n",
              "        console.error('Error during call to suggestCharts:', error);\n",
              "      }\n",
              "      quickchartButtonEl.classList.remove('colab-df-spinner');\n",
              "      quickchartButtonEl.classList.add('colab-df-quickchart-complete');\n",
              "    }\n",
              "    (() => {\n",
              "      let quickchartButtonEl =\n",
              "        document.querySelector('#df-3049198d-4b53-4105-8531-f9eb3eab2106 button');\n",
              "      quickchartButtonEl.style.display =\n",
              "        google.colab.kernel.accessAllowed ? 'block' : 'none';\n",
              "    })();\n",
              "  </script>\n",
              "</div>\n",
              "\n",
              "    </div>\n",
              "  </div>\n"
            ],
            "application/vnd.google.colaboratory.intrinsic+json": {
              "type": "dataframe",
              "variable_name": "data_raw",
              "summary": "{\n  \"name\": \"data_raw\",\n  \"rows\": 3276,\n  \"fields\": [\n    {\n      \"column\": \"pH\",\n      \"properties\": {\n        \"dtype\": \"number\",\n        \"std\": 1.5943693802475896,\n        \"min\": 0.0,\n        \"max\": 14.0,\n        \"num_unique_values\": 699,\n        \"samples\": [\n          9.93,\n          10.77,\n          9.89\n        ],\n        \"semantic_type\": \"\",\n        \"description\": \"\"\n      }\n    },\n    {\n      \"column\": \"Dureza\",\n      \"properties\": {\n        \"dtype\": \"number\",\n        \"std\": 32.87968047855477,\n        \"min\": 47.43,\n        \"max\": 323.12,\n        \"num_unique_values\": 2835,\n        \"samples\": [\n          166.73,\n          221.09,\n          178.45\n        ],\n        \"semantic_type\": \"\",\n        \"description\": \"\"\n      }\n    },\n    {\n      \"column\": \"S\\u00f3lidos\",\n      \"properties\": {\n        \"dtype\": \"number\",\n        \"std\": 8768.570851544431,\n        \"min\": 320.94,\n        \"max\": 61227.2,\n        \"num_unique_values\": 3276,\n        \"samples\": [\n          20461.25,\n          32873.82,\n          23264.11\n        ],\n        \"semantic_type\": \"\",\n        \"description\": \"\"\n      }\n    },\n    {\n      \"column\": \"Cloraminas\",\n      \"properties\": {\n        \"dtype\": \"number\",\n        \"std\": 1.5831425077465684,\n        \"min\": 0.35,\n        \"max\": 13.13,\n        \"num_unique_values\": 722,\n        \"samples\": [\n          8.85,\n          11.09,\n          4.22\n        ],\n        \"semantic_type\": \"\",\n        \"description\": \"\"\n      }\n    },\n    {\n      \"column\": \"Sulfatos\",\n      \"properties\": {\n        \"dtype\": \"number\",\n        \"std\": 41.416863577894965,\n        \"min\": 129.0,\n        \"max\": 481.03,\n        \"num_unique_values\": 2303,\n        \"samples\": [\n          356.38,\n          305.8,\n          298.19\n        ],\n        \"semantic_type\": \"\",\n        \"description\": \"\"\n      }\n    },\n    {\n      \"column\": \"Conductividad\",\n      \"properties\": {\n        \"dtype\": \"number\",\n        \"std\": 80.82412264695584,\n        \"min\": 181.48,\n        \"max\": 753.34,\n        \"num_unique_values\": 3099,\n        \"samples\": [\n          443.03,\n          489.43,\n          384.02\n        ],\n        \"semantic_type\": \"\",\n        \"description\": \"\"\n      }\n    },\n    {\n      \"column\": \"Carbono_org\\u00e1nico\",\n      \"properties\": {\n        \"dtype\": \"number\",\n        \"std\": 3.3082320215189074,\n        \"min\": 2.2,\n        \"max\": 28.3,\n        \"num_unique_values\": 1235,\n        \"samples\": [\n          16.78,\n          10.36,\n          10.0\n        ],\n        \"semantic_type\": \"\",\n        \"description\": \"\"\n      }\n    },\n    {\n      \"column\": \"Trihalometanos\",\n      \"properties\": {\n        \"dtype\": \"number\",\n        \"std\": 16.17498283025766,\n        \"min\": 0.74,\n        \"max\": 124.0,\n        \"num_unique_values\": 2403,\n        \"samples\": [\n          54.58,\n          90.94,\n          97.09\n        ],\n        \"semantic_type\": \"\",\n        \"description\": \"\"\n      }\n    },\n    {\n      \"column\": \"Turbidez\",\n      \"properties\": {\n        \"dtype\": \"number\",\n        \"std\": 0.7803542524061653,\n        \"min\": 1.45,\n        \"max\": 6.74,\n        \"num_unique_values\": 403,\n        \"samples\": [\n          2.29,\n          2.0,\n          4.49\n        ],\n        \"semantic_type\": \"\",\n        \"description\": \"\"\n      }\n    },\n    {\n      \"column\": \"Potabilidad\",\n      \"properties\": {\n        \"dtype\": \"category\",\n        \"num_unique_values\": 2,\n        \"samples\": [\n          \"SI\",\n          \"NO\"\n        ],\n        \"semantic_type\": \"\",\n        \"description\": \"\"\n      }\n    }\n  ]\n}"
            }
          },
          "metadata": {},
          "execution_count": 356
        }
      ]
    },
    {
      "cell_type": "markdown",
      "source": [
        "Observamos el comportamiento y estadisticas de interes para variables numericas"
      ],
      "metadata": {
        "id": "4xwlD6bBKNbf"
      }
    },
    {
      "cell_type": "code",
      "source": [
        "data_raw.describe()"
      ],
      "metadata": {
        "colab": {
          "base_uri": "https://localhost:8080/",
          "height": 0
        },
        "id": "ley7Gg_PKUIL",
        "outputId": "4f3523aa-9a4a-4bae-db2f-a9ce09bacacd"
      },
      "execution_count": 357,
      "outputs": [
        {
          "output_type": "execute_result",
          "data": {
            "text/plain": [
              "                pH       Dureza       Sólidos   Cloraminas     Sulfatos  \\\n",
              "count  2785.000000  3276.000000   3276.000000  3276.000000  2495.000000   \n",
              "mean      7.080804   196.369481  22014.092415     7.122241   333.775784   \n",
              "std       1.594369    32.879680   8768.570852     1.583143    41.416864   \n",
              "min       0.000000    47.430000    320.940000     0.350000   129.000000   \n",
              "25%       6.090000   176.847500  15666.687500     6.130000   307.695000   \n",
              "50%       7.040000   196.965000  20927.830000     7.130000   333.070000   \n",
              "75%       8.060000   216.670000  27332.760000     8.112500   359.950000   \n",
              "max      14.000000   323.120000  61227.200000    13.130000   481.030000   \n",
              "\n",
              "       Conductividad  Carbono_orgánico  Trihalometanos     Turbidez  \n",
              "count    3276.000000       3276.000000     3114.000000  3276.000000  \n",
              "mean      426.205171         14.284921       66.396281     3.966731  \n",
              "std        80.824123          3.308232       16.174983     0.780354  \n",
              "min       181.480000          2.200000        0.740000     1.450000  \n",
              "25%       365.735000         12.070000       55.847500     3.440000  \n",
              "50%       421.885000         14.220000       66.620000     3.955000  \n",
              "75%       481.790000         16.560000       77.337500     4.500000  \n",
              "max       753.340000         28.300000      124.000000     6.740000  "
            ],
            "text/html": [
              "\n",
              "  <div id=\"df-25d250c9-57fe-4d4a-a311-51b308756ea9\" class=\"colab-df-container\">\n",
              "    <div>\n",
              "<style scoped>\n",
              "    .dataframe tbody tr th:only-of-type {\n",
              "        vertical-align: middle;\n",
              "    }\n",
              "\n",
              "    .dataframe tbody tr th {\n",
              "        vertical-align: top;\n",
              "    }\n",
              "\n",
              "    .dataframe thead th {\n",
              "        text-align: right;\n",
              "    }\n",
              "</style>\n",
              "<table border=\"1\" class=\"dataframe\">\n",
              "  <thead>\n",
              "    <tr style=\"text-align: right;\">\n",
              "      <th></th>\n",
              "      <th>pH</th>\n",
              "      <th>Dureza</th>\n",
              "      <th>Sólidos</th>\n",
              "      <th>Cloraminas</th>\n",
              "      <th>Sulfatos</th>\n",
              "      <th>Conductividad</th>\n",
              "      <th>Carbono_orgánico</th>\n",
              "      <th>Trihalometanos</th>\n",
              "      <th>Turbidez</th>\n",
              "    </tr>\n",
              "  </thead>\n",
              "  <tbody>\n",
              "    <tr>\n",
              "      <th>count</th>\n",
              "      <td>2785.000000</td>\n",
              "      <td>3276.000000</td>\n",
              "      <td>3276.000000</td>\n",
              "      <td>3276.000000</td>\n",
              "      <td>2495.000000</td>\n",
              "      <td>3276.000000</td>\n",
              "      <td>3276.000000</td>\n",
              "      <td>3114.000000</td>\n",
              "      <td>3276.000000</td>\n",
              "    </tr>\n",
              "    <tr>\n",
              "      <th>mean</th>\n",
              "      <td>7.080804</td>\n",
              "      <td>196.369481</td>\n",
              "      <td>22014.092415</td>\n",
              "      <td>7.122241</td>\n",
              "      <td>333.775784</td>\n",
              "      <td>426.205171</td>\n",
              "      <td>14.284921</td>\n",
              "      <td>66.396281</td>\n",
              "      <td>3.966731</td>\n",
              "    </tr>\n",
              "    <tr>\n",
              "      <th>std</th>\n",
              "      <td>1.594369</td>\n",
              "      <td>32.879680</td>\n",
              "      <td>8768.570852</td>\n",
              "      <td>1.583143</td>\n",
              "      <td>41.416864</td>\n",
              "      <td>80.824123</td>\n",
              "      <td>3.308232</td>\n",
              "      <td>16.174983</td>\n",
              "      <td>0.780354</td>\n",
              "    </tr>\n",
              "    <tr>\n",
              "      <th>min</th>\n",
              "      <td>0.000000</td>\n",
              "      <td>47.430000</td>\n",
              "      <td>320.940000</td>\n",
              "      <td>0.350000</td>\n",
              "      <td>129.000000</td>\n",
              "      <td>181.480000</td>\n",
              "      <td>2.200000</td>\n",
              "      <td>0.740000</td>\n",
              "      <td>1.450000</td>\n",
              "    </tr>\n",
              "    <tr>\n",
              "      <th>25%</th>\n",
              "      <td>6.090000</td>\n",
              "      <td>176.847500</td>\n",
              "      <td>15666.687500</td>\n",
              "      <td>6.130000</td>\n",
              "      <td>307.695000</td>\n",
              "      <td>365.735000</td>\n",
              "      <td>12.070000</td>\n",
              "      <td>55.847500</td>\n",
              "      <td>3.440000</td>\n",
              "    </tr>\n",
              "    <tr>\n",
              "      <th>50%</th>\n",
              "      <td>7.040000</td>\n",
              "      <td>196.965000</td>\n",
              "      <td>20927.830000</td>\n",
              "      <td>7.130000</td>\n",
              "      <td>333.070000</td>\n",
              "      <td>421.885000</td>\n",
              "      <td>14.220000</td>\n",
              "      <td>66.620000</td>\n",
              "      <td>3.955000</td>\n",
              "    </tr>\n",
              "    <tr>\n",
              "      <th>75%</th>\n",
              "      <td>8.060000</td>\n",
              "      <td>216.670000</td>\n",
              "      <td>27332.760000</td>\n",
              "      <td>8.112500</td>\n",
              "      <td>359.950000</td>\n",
              "      <td>481.790000</td>\n",
              "      <td>16.560000</td>\n",
              "      <td>77.337500</td>\n",
              "      <td>4.500000</td>\n",
              "    </tr>\n",
              "    <tr>\n",
              "      <th>max</th>\n",
              "      <td>14.000000</td>\n",
              "      <td>323.120000</td>\n",
              "      <td>61227.200000</td>\n",
              "      <td>13.130000</td>\n",
              "      <td>481.030000</td>\n",
              "      <td>753.340000</td>\n",
              "      <td>28.300000</td>\n",
              "      <td>124.000000</td>\n",
              "      <td>6.740000</td>\n",
              "    </tr>\n",
              "  </tbody>\n",
              "</table>\n",
              "</div>\n",
              "    <div class=\"colab-df-buttons\">\n",
              "\n",
              "  <div class=\"colab-df-container\">\n",
              "    <button class=\"colab-df-convert\" onclick=\"convertToInteractive('df-25d250c9-57fe-4d4a-a311-51b308756ea9')\"\n",
              "            title=\"Convert this dataframe to an interactive table.\"\n",
              "            style=\"display:none;\">\n",
              "\n",
              "  <svg xmlns=\"http://www.w3.org/2000/svg\" height=\"24px\" viewBox=\"0 -960 960 960\">\n",
              "    <path d=\"M120-120v-720h720v720H120Zm60-500h600v-160H180v160Zm220 220h160v-160H400v160Zm0 220h160v-160H400v160ZM180-400h160v-160H180v160Zm440 0h160v-160H620v160ZM180-180h160v-160H180v160Zm440 0h160v-160H620v160Z\"/>\n",
              "  </svg>\n",
              "    </button>\n",
              "\n",
              "  <style>\n",
              "    .colab-df-container {\n",
              "      display:flex;\n",
              "      gap: 12px;\n",
              "    }\n",
              "\n",
              "    .colab-df-convert {\n",
              "      background-color: #E8F0FE;\n",
              "      border: none;\n",
              "      border-radius: 50%;\n",
              "      cursor: pointer;\n",
              "      display: none;\n",
              "      fill: #1967D2;\n",
              "      height: 32px;\n",
              "      padding: 0 0 0 0;\n",
              "      width: 32px;\n",
              "    }\n",
              "\n",
              "    .colab-df-convert:hover {\n",
              "      background-color: #E2EBFA;\n",
              "      box-shadow: 0px 1px 2px rgba(60, 64, 67, 0.3), 0px 1px 3px 1px rgba(60, 64, 67, 0.15);\n",
              "      fill: #174EA6;\n",
              "    }\n",
              "\n",
              "    .colab-df-buttons div {\n",
              "      margin-bottom: 4px;\n",
              "    }\n",
              "\n",
              "    [theme=dark] .colab-df-convert {\n",
              "      background-color: #3B4455;\n",
              "      fill: #D2E3FC;\n",
              "    }\n",
              "\n",
              "    [theme=dark] .colab-df-convert:hover {\n",
              "      background-color: #434B5C;\n",
              "      box-shadow: 0px 1px 3px 1px rgba(0, 0, 0, 0.15);\n",
              "      filter: drop-shadow(0px 1px 2px rgba(0, 0, 0, 0.3));\n",
              "      fill: #FFFFFF;\n",
              "    }\n",
              "  </style>\n",
              "\n",
              "    <script>\n",
              "      const buttonEl =\n",
              "        document.querySelector('#df-25d250c9-57fe-4d4a-a311-51b308756ea9 button.colab-df-convert');\n",
              "      buttonEl.style.display =\n",
              "        google.colab.kernel.accessAllowed ? 'block' : 'none';\n",
              "\n",
              "      async function convertToInteractive(key) {\n",
              "        const element = document.querySelector('#df-25d250c9-57fe-4d4a-a311-51b308756ea9');\n",
              "        const dataTable =\n",
              "          await google.colab.kernel.invokeFunction('convertToInteractive',\n",
              "                                                    [key], {});\n",
              "        if (!dataTable) return;\n",
              "\n",
              "        const docLinkHtml = 'Like what you see? Visit the ' +\n",
              "          '<a target=\"_blank\" href=https://colab.research.google.com/notebooks/data_table.ipynb>data table notebook</a>'\n",
              "          + ' to learn more about interactive tables.';\n",
              "        element.innerHTML = '';\n",
              "        dataTable['output_type'] = 'display_data';\n",
              "        await google.colab.output.renderOutput(dataTable, element);\n",
              "        const docLink = document.createElement('div');\n",
              "        docLink.innerHTML = docLinkHtml;\n",
              "        element.appendChild(docLink);\n",
              "      }\n",
              "    </script>\n",
              "  </div>\n",
              "\n",
              "\n",
              "<div id=\"df-2223fa1a-39f0-4080-b4c9-bc68abe89fda\">\n",
              "  <button class=\"colab-df-quickchart\" onclick=\"quickchart('df-2223fa1a-39f0-4080-b4c9-bc68abe89fda')\"\n",
              "            title=\"Suggest charts\"\n",
              "            style=\"display:none;\">\n",
              "\n",
              "<svg xmlns=\"http://www.w3.org/2000/svg\" height=\"24px\"viewBox=\"0 0 24 24\"\n",
              "     width=\"24px\">\n",
              "    <g>\n",
              "        <path d=\"M19 3H5c-1.1 0-2 .9-2 2v14c0 1.1.9 2 2 2h14c1.1 0 2-.9 2-2V5c0-1.1-.9-2-2-2zM9 17H7v-7h2v7zm4 0h-2V7h2v10zm4 0h-2v-4h2v4z\"/>\n",
              "    </g>\n",
              "</svg>\n",
              "  </button>\n",
              "\n",
              "<style>\n",
              "  .colab-df-quickchart {\n",
              "      --bg-color: #E8F0FE;\n",
              "      --fill-color: #1967D2;\n",
              "      --hover-bg-color: #E2EBFA;\n",
              "      --hover-fill-color: #174EA6;\n",
              "      --disabled-fill-color: #AAA;\n",
              "      --disabled-bg-color: #DDD;\n",
              "  }\n",
              "\n",
              "  [theme=dark] .colab-df-quickchart {\n",
              "      --bg-color: #3B4455;\n",
              "      --fill-color: #D2E3FC;\n",
              "      --hover-bg-color: #434B5C;\n",
              "      --hover-fill-color: #FFFFFF;\n",
              "      --disabled-bg-color: #3B4455;\n",
              "      --disabled-fill-color: #666;\n",
              "  }\n",
              "\n",
              "  .colab-df-quickchart {\n",
              "    background-color: var(--bg-color);\n",
              "    border: none;\n",
              "    border-radius: 50%;\n",
              "    cursor: pointer;\n",
              "    display: none;\n",
              "    fill: var(--fill-color);\n",
              "    height: 32px;\n",
              "    padding: 0;\n",
              "    width: 32px;\n",
              "  }\n",
              "\n",
              "  .colab-df-quickchart:hover {\n",
              "    background-color: var(--hover-bg-color);\n",
              "    box-shadow: 0 1px 2px rgba(60, 64, 67, 0.3), 0 1px 3px 1px rgba(60, 64, 67, 0.15);\n",
              "    fill: var(--button-hover-fill-color);\n",
              "  }\n",
              "\n",
              "  .colab-df-quickchart-complete:disabled,\n",
              "  .colab-df-quickchart-complete:disabled:hover {\n",
              "    background-color: var(--disabled-bg-color);\n",
              "    fill: var(--disabled-fill-color);\n",
              "    box-shadow: none;\n",
              "  }\n",
              "\n",
              "  .colab-df-spinner {\n",
              "    border: 2px solid var(--fill-color);\n",
              "    border-color: transparent;\n",
              "    border-bottom-color: var(--fill-color);\n",
              "    animation:\n",
              "      spin 1s steps(1) infinite;\n",
              "  }\n",
              "\n",
              "  @keyframes spin {\n",
              "    0% {\n",
              "      border-color: transparent;\n",
              "      border-bottom-color: var(--fill-color);\n",
              "      border-left-color: var(--fill-color);\n",
              "    }\n",
              "    20% {\n",
              "      border-color: transparent;\n",
              "      border-left-color: var(--fill-color);\n",
              "      border-top-color: var(--fill-color);\n",
              "    }\n",
              "    30% {\n",
              "      border-color: transparent;\n",
              "      border-left-color: var(--fill-color);\n",
              "      border-top-color: var(--fill-color);\n",
              "      border-right-color: var(--fill-color);\n",
              "    }\n",
              "    40% {\n",
              "      border-color: transparent;\n",
              "      border-right-color: var(--fill-color);\n",
              "      border-top-color: var(--fill-color);\n",
              "    }\n",
              "    60% {\n",
              "      border-color: transparent;\n",
              "      border-right-color: var(--fill-color);\n",
              "    }\n",
              "    80% {\n",
              "      border-color: transparent;\n",
              "      border-right-color: var(--fill-color);\n",
              "      border-bottom-color: var(--fill-color);\n",
              "    }\n",
              "    90% {\n",
              "      border-color: transparent;\n",
              "      border-bottom-color: var(--fill-color);\n",
              "    }\n",
              "  }\n",
              "</style>\n",
              "\n",
              "  <script>\n",
              "    async function quickchart(key) {\n",
              "      const quickchartButtonEl =\n",
              "        document.querySelector('#' + key + ' button');\n",
              "      quickchartButtonEl.disabled = true;  // To prevent multiple clicks.\n",
              "      quickchartButtonEl.classList.add('colab-df-spinner');\n",
              "      try {\n",
              "        const charts = await google.colab.kernel.invokeFunction(\n",
              "            'suggestCharts', [key], {});\n",
              "      } catch (error) {\n",
              "        console.error('Error during call to suggestCharts:', error);\n",
              "      }\n",
              "      quickchartButtonEl.classList.remove('colab-df-spinner');\n",
              "      quickchartButtonEl.classList.add('colab-df-quickchart-complete');\n",
              "    }\n",
              "    (() => {\n",
              "      let quickchartButtonEl =\n",
              "        document.querySelector('#df-2223fa1a-39f0-4080-b4c9-bc68abe89fda button');\n",
              "      quickchartButtonEl.style.display =\n",
              "        google.colab.kernel.accessAllowed ? 'block' : 'none';\n",
              "    })();\n",
              "  </script>\n",
              "</div>\n",
              "\n",
              "    </div>\n",
              "  </div>\n"
            ],
            "application/vnd.google.colaboratory.intrinsic+json": {
              "type": "dataframe",
              "summary": "{\n  \"name\": \"data_raw\",\n  \"rows\": 8,\n  \"fields\": [\n    {\n      \"column\": \"pH\",\n      \"properties\": {\n        \"dtype\": \"number\",\n        \"std\": 982.4397852678181,\n        \"min\": 0.0,\n        \"max\": 2785.0,\n        \"num_unique_values\": 8,\n        \"samples\": [\n          7.080804308797128,\n          7.04,\n          2785.0\n        ],\n        \"semantic_type\": \"\",\n        \"description\": \"\"\n      }\n    },\n    {\n      \"column\": \"Dureza\",\n      \"properties\": {\n        \"dtype\": \"number\",\n        \"std\": 1102.077994331388,\n        \"min\": 32.87968047855477,\n        \"max\": 3276.0,\n        \"num_unique_values\": 8,\n        \"samples\": [\n          196.36948107448106,\n          196.96499999999997,\n          3276.0\n        ],\n        \"semantic_type\": \"\",\n        \"description\": \"\"\n      }\n    },\n    {\n      \"column\": \"S\\u00f3lidos\",\n      \"properties\": {\n        \"dtype\": \"number\",\n        \"std\": 19161.799300961247,\n        \"min\": 320.94,\n        \"max\": 61227.2,\n        \"num_unique_values\": 8,\n        \"samples\": [\n          22014.092414529914,\n          20927.83,\n          3276.0\n        ],\n        \"semantic_type\": \"\",\n        \"description\": \"\"\n      }\n    },\n    {\n      \"column\": \"Cloraminas\",\n      \"properties\": {\n        \"dtype\": \"number\",\n        \"std\": 1156.0476331724863,\n        \"min\": 0.35,\n        \"max\": 3276.0,\n        \"num_unique_values\": 8,\n        \"samples\": [\n          7.122240537240537,\n          7.13,\n          3276.0\n        ],\n        \"semantic_type\": \"\",\n        \"description\": \"\"\n      }\n    },\n    {\n      \"column\": \"Sulfatos\",\n      \"properties\": {\n        \"dtype\": \"number\",\n        \"std\": 793.8606442037617,\n        \"min\": 41.416863577894965,\n        \"max\": 2495.0,\n        \"num_unique_values\": 8,\n        \"samples\": [\n          333.7757835671343,\n          333.07,\n          2495.0\n        ],\n        \"semantic_type\": \"\",\n        \"description\": \"\"\n      }\n    },\n    {\n      \"column\": \"Conductividad\",\n      \"properties\": {\n        \"dtype\": \"number\",\n        \"std\": 1040.863443013067,\n        \"min\": 80.82412264695584,\n        \"max\": 3276.0,\n        \"num_unique_values\": 8,\n        \"samples\": [\n          426.2051709401709,\n          421.885,\n          3276.0\n        ],\n        \"semantic_type\": \"\",\n        \"description\": \"\"\n      }\n    },\n    {\n      \"column\": \"Carbono_org\\u00e1nico\",\n      \"properties\": {\n        \"dtype\": \"number\",\n        \"std\": 1153.6761483006117,\n        \"min\": 2.2,\n        \"max\": 3276.0,\n        \"num_unique_values\": 8,\n        \"samples\": [\n          14.284920634920633,\n          14.22,\n          3276.0\n        ],\n        \"semantic_type\": \"\",\n        \"description\": \"\"\n      }\n    },\n    {\n      \"column\": \"Trihalometanos\",\n      \"properties\": {\n        \"dtype\": \"number\",\n        \"std\": 1081.0575795557506,\n        \"min\": 0.74,\n        \"max\": 3114.0,\n        \"num_unique_values\": 8,\n        \"samples\": [\n          66.39628131021195,\n          66.62,\n          3114.0\n        ],\n        \"semantic_type\": \"\",\n        \"description\": \"\"\n      }\n    },\n    {\n      \"column\": \"Turbidez\",\n      \"properties\": {\n        \"dtype\": \"number\",\n        \"std\": 1156.988149275166,\n        \"min\": 0.7803542524061653,\n        \"max\": 3276.0,\n        \"num_unique_values\": 8,\n        \"samples\": [\n          3.9667307692307694,\n          3.955,\n          3276.0\n        ],\n        \"semantic_type\": \"\",\n        \"description\": \"\"\n      }\n    }\n  ]\n}"
            }
          },
          "metadata": {},
          "execution_count": 357
        }
      ]
    },
    {
      "cell_type": "markdown",
      "source": [
        "Ahora observamos el comportamiento de la variable categorica Potabilidad"
      ],
      "metadata": {
        "id": "o5I4ndYFKtFu"
      }
    },
    {
      "cell_type": "code",
      "source": [
        "data_raw[['Potabilidad']].apply(pd.value_counts)"
      ],
      "metadata": {
        "colab": {
          "base_uri": "https://localhost:8080/",
          "height": 0
        },
        "id": "AYKrLwDSKsiK",
        "outputId": "f3499a8f-ce3d-4eaa-fe04-d5b2aa5a47ad"
      },
      "execution_count": 358,
      "outputs": [
        {
          "output_type": "execute_result",
          "data": {
            "text/plain": [
              "    Potabilidad\n",
              "NO         1998\n",
              "SI         1278"
            ],
            "text/html": [
              "\n",
              "  <div id=\"df-f6daf5a6-e9bc-4a61-9ae2-ee359fd5c10d\" class=\"colab-df-container\">\n",
              "    <div>\n",
              "<style scoped>\n",
              "    .dataframe tbody tr th:only-of-type {\n",
              "        vertical-align: middle;\n",
              "    }\n",
              "\n",
              "    .dataframe tbody tr th {\n",
              "        vertical-align: top;\n",
              "    }\n",
              "\n",
              "    .dataframe thead th {\n",
              "        text-align: right;\n",
              "    }\n",
              "</style>\n",
              "<table border=\"1\" class=\"dataframe\">\n",
              "  <thead>\n",
              "    <tr style=\"text-align: right;\">\n",
              "      <th></th>\n",
              "      <th>Potabilidad</th>\n",
              "    </tr>\n",
              "  </thead>\n",
              "  <tbody>\n",
              "    <tr>\n",
              "      <th>NO</th>\n",
              "      <td>1998</td>\n",
              "    </tr>\n",
              "    <tr>\n",
              "      <th>SI</th>\n",
              "      <td>1278</td>\n",
              "    </tr>\n",
              "  </tbody>\n",
              "</table>\n",
              "</div>\n",
              "    <div class=\"colab-df-buttons\">\n",
              "\n",
              "  <div class=\"colab-df-container\">\n",
              "    <button class=\"colab-df-convert\" onclick=\"convertToInteractive('df-f6daf5a6-e9bc-4a61-9ae2-ee359fd5c10d')\"\n",
              "            title=\"Convert this dataframe to an interactive table.\"\n",
              "            style=\"display:none;\">\n",
              "\n",
              "  <svg xmlns=\"http://www.w3.org/2000/svg\" height=\"24px\" viewBox=\"0 -960 960 960\">\n",
              "    <path d=\"M120-120v-720h720v720H120Zm60-500h600v-160H180v160Zm220 220h160v-160H400v160Zm0 220h160v-160H400v160ZM180-400h160v-160H180v160Zm440 0h160v-160H620v160ZM180-180h160v-160H180v160Zm440 0h160v-160H620v160Z\"/>\n",
              "  </svg>\n",
              "    </button>\n",
              "\n",
              "  <style>\n",
              "    .colab-df-container {\n",
              "      display:flex;\n",
              "      gap: 12px;\n",
              "    }\n",
              "\n",
              "    .colab-df-convert {\n",
              "      background-color: #E8F0FE;\n",
              "      border: none;\n",
              "      border-radius: 50%;\n",
              "      cursor: pointer;\n",
              "      display: none;\n",
              "      fill: #1967D2;\n",
              "      height: 32px;\n",
              "      padding: 0 0 0 0;\n",
              "      width: 32px;\n",
              "    }\n",
              "\n",
              "    .colab-df-convert:hover {\n",
              "      background-color: #E2EBFA;\n",
              "      box-shadow: 0px 1px 2px rgba(60, 64, 67, 0.3), 0px 1px 3px 1px rgba(60, 64, 67, 0.15);\n",
              "      fill: #174EA6;\n",
              "    }\n",
              "\n",
              "    .colab-df-buttons div {\n",
              "      margin-bottom: 4px;\n",
              "    }\n",
              "\n",
              "    [theme=dark] .colab-df-convert {\n",
              "      background-color: #3B4455;\n",
              "      fill: #D2E3FC;\n",
              "    }\n",
              "\n",
              "    [theme=dark] .colab-df-convert:hover {\n",
              "      background-color: #434B5C;\n",
              "      box-shadow: 0px 1px 3px 1px rgba(0, 0, 0, 0.15);\n",
              "      filter: drop-shadow(0px 1px 2px rgba(0, 0, 0, 0.3));\n",
              "      fill: #FFFFFF;\n",
              "    }\n",
              "  </style>\n",
              "\n",
              "    <script>\n",
              "      const buttonEl =\n",
              "        document.querySelector('#df-f6daf5a6-e9bc-4a61-9ae2-ee359fd5c10d button.colab-df-convert');\n",
              "      buttonEl.style.display =\n",
              "        google.colab.kernel.accessAllowed ? 'block' : 'none';\n",
              "\n",
              "      async function convertToInteractive(key) {\n",
              "        const element = document.querySelector('#df-f6daf5a6-e9bc-4a61-9ae2-ee359fd5c10d');\n",
              "        const dataTable =\n",
              "          await google.colab.kernel.invokeFunction('convertToInteractive',\n",
              "                                                    [key], {});\n",
              "        if (!dataTable) return;\n",
              "\n",
              "        const docLinkHtml = 'Like what you see? Visit the ' +\n",
              "          '<a target=\"_blank\" href=https://colab.research.google.com/notebooks/data_table.ipynb>data table notebook</a>'\n",
              "          + ' to learn more about interactive tables.';\n",
              "        element.innerHTML = '';\n",
              "        dataTable['output_type'] = 'display_data';\n",
              "        await google.colab.output.renderOutput(dataTable, element);\n",
              "        const docLink = document.createElement('div');\n",
              "        docLink.innerHTML = docLinkHtml;\n",
              "        element.appendChild(docLink);\n",
              "      }\n",
              "    </script>\n",
              "  </div>\n",
              "\n",
              "\n",
              "<div id=\"df-853bbb22-ee31-44c5-b180-13342b3231ba\">\n",
              "  <button class=\"colab-df-quickchart\" onclick=\"quickchart('df-853bbb22-ee31-44c5-b180-13342b3231ba')\"\n",
              "            title=\"Suggest charts\"\n",
              "            style=\"display:none;\">\n",
              "\n",
              "<svg xmlns=\"http://www.w3.org/2000/svg\" height=\"24px\"viewBox=\"0 0 24 24\"\n",
              "     width=\"24px\">\n",
              "    <g>\n",
              "        <path d=\"M19 3H5c-1.1 0-2 .9-2 2v14c0 1.1.9 2 2 2h14c1.1 0 2-.9 2-2V5c0-1.1-.9-2-2-2zM9 17H7v-7h2v7zm4 0h-2V7h2v10zm4 0h-2v-4h2v4z\"/>\n",
              "    </g>\n",
              "</svg>\n",
              "  </button>\n",
              "\n",
              "<style>\n",
              "  .colab-df-quickchart {\n",
              "      --bg-color: #E8F0FE;\n",
              "      --fill-color: #1967D2;\n",
              "      --hover-bg-color: #E2EBFA;\n",
              "      --hover-fill-color: #174EA6;\n",
              "      --disabled-fill-color: #AAA;\n",
              "      --disabled-bg-color: #DDD;\n",
              "  }\n",
              "\n",
              "  [theme=dark] .colab-df-quickchart {\n",
              "      --bg-color: #3B4455;\n",
              "      --fill-color: #D2E3FC;\n",
              "      --hover-bg-color: #434B5C;\n",
              "      --hover-fill-color: #FFFFFF;\n",
              "      --disabled-bg-color: #3B4455;\n",
              "      --disabled-fill-color: #666;\n",
              "  }\n",
              "\n",
              "  .colab-df-quickchart {\n",
              "    background-color: var(--bg-color);\n",
              "    border: none;\n",
              "    border-radius: 50%;\n",
              "    cursor: pointer;\n",
              "    display: none;\n",
              "    fill: var(--fill-color);\n",
              "    height: 32px;\n",
              "    padding: 0;\n",
              "    width: 32px;\n",
              "  }\n",
              "\n",
              "  .colab-df-quickchart:hover {\n",
              "    background-color: var(--hover-bg-color);\n",
              "    box-shadow: 0 1px 2px rgba(60, 64, 67, 0.3), 0 1px 3px 1px rgba(60, 64, 67, 0.15);\n",
              "    fill: var(--button-hover-fill-color);\n",
              "  }\n",
              "\n",
              "  .colab-df-quickchart-complete:disabled,\n",
              "  .colab-df-quickchart-complete:disabled:hover {\n",
              "    background-color: var(--disabled-bg-color);\n",
              "    fill: var(--disabled-fill-color);\n",
              "    box-shadow: none;\n",
              "  }\n",
              "\n",
              "  .colab-df-spinner {\n",
              "    border: 2px solid var(--fill-color);\n",
              "    border-color: transparent;\n",
              "    border-bottom-color: var(--fill-color);\n",
              "    animation:\n",
              "      spin 1s steps(1) infinite;\n",
              "  }\n",
              "\n",
              "  @keyframes spin {\n",
              "    0% {\n",
              "      border-color: transparent;\n",
              "      border-bottom-color: var(--fill-color);\n",
              "      border-left-color: var(--fill-color);\n",
              "    }\n",
              "    20% {\n",
              "      border-color: transparent;\n",
              "      border-left-color: var(--fill-color);\n",
              "      border-top-color: var(--fill-color);\n",
              "    }\n",
              "    30% {\n",
              "      border-color: transparent;\n",
              "      border-left-color: var(--fill-color);\n",
              "      border-top-color: var(--fill-color);\n",
              "      border-right-color: var(--fill-color);\n",
              "    }\n",
              "    40% {\n",
              "      border-color: transparent;\n",
              "      border-right-color: var(--fill-color);\n",
              "      border-top-color: var(--fill-color);\n",
              "    }\n",
              "    60% {\n",
              "      border-color: transparent;\n",
              "      border-right-color: var(--fill-color);\n",
              "    }\n",
              "    80% {\n",
              "      border-color: transparent;\n",
              "      border-right-color: var(--fill-color);\n",
              "      border-bottom-color: var(--fill-color);\n",
              "    }\n",
              "    90% {\n",
              "      border-color: transparent;\n",
              "      border-bottom-color: var(--fill-color);\n",
              "    }\n",
              "  }\n",
              "</style>\n",
              "\n",
              "  <script>\n",
              "    async function quickchart(key) {\n",
              "      const quickchartButtonEl =\n",
              "        document.querySelector('#' + key + ' button');\n",
              "      quickchartButtonEl.disabled = true;  // To prevent multiple clicks.\n",
              "      quickchartButtonEl.classList.add('colab-df-spinner');\n",
              "      try {\n",
              "        const charts = await google.colab.kernel.invokeFunction(\n",
              "            'suggestCharts', [key], {});\n",
              "      } catch (error) {\n",
              "        console.error('Error during call to suggestCharts:', error);\n",
              "      }\n",
              "      quickchartButtonEl.classList.remove('colab-df-spinner');\n",
              "      quickchartButtonEl.classList.add('colab-df-quickchart-complete');\n",
              "    }\n",
              "    (() => {\n",
              "      let quickchartButtonEl =\n",
              "        document.querySelector('#df-853bbb22-ee31-44c5-b180-13342b3231ba button');\n",
              "      quickchartButtonEl.style.display =\n",
              "        google.colab.kernel.accessAllowed ? 'block' : 'none';\n",
              "    })();\n",
              "  </script>\n",
              "</div>\n",
              "\n",
              "    </div>\n",
              "  </div>\n"
            ],
            "application/vnd.google.colaboratory.intrinsic+json": {
              "type": "dataframe",
              "summary": "{\n  \"name\": \"data_raw[['Potabilidad']]\",\n  \"rows\": 2,\n  \"fields\": [\n    {\n      \"column\": \"Potabilidad\",\n      \"properties\": {\n        \"dtype\": \"number\",\n        \"std\": 509,\n        \"min\": 1278,\n        \"max\": 1998,\n        \"num_unique_values\": 2,\n        \"samples\": [\n          1278,\n          1998\n        ],\n        \"semantic_type\": \"\",\n        \"description\": \"\"\n      }\n    }\n  ]\n}"
            }
          },
          "metadata": {},
          "execution_count": 358
        }
      ]
    },
    {
      "cell_type": "code",
      "source": [
        "data_raw.Potabilidad[0:10]"
      ],
      "metadata": {
        "colab": {
          "base_uri": "https://localhost:8080/"
        },
        "id": "Afx5wndmSkWu",
        "outputId": "df8f00e0-b95a-4e5f-e53c-44fddfcbf8d3"
      },
      "execution_count": 359,
      "outputs": [
        {
          "output_type": "execute_result",
          "data": {
            "text/plain": [
              "0    NO\n",
              "1    NO\n",
              "2    NO\n",
              "3    NO\n",
              "4    NO\n",
              "5    NO\n",
              "6    NO\n",
              "7    NO\n",
              "8    NO\n",
              "9    NO\n",
              "Name: Potabilidad, dtype: object"
            ]
          },
          "metadata": {},
          "execution_count": 359
        }
      ]
    },
    {
      "cell_type": "markdown",
      "source": [
        "# 2. Limpieza y preparación de los datos"
      ],
      "metadata": {
        "id": "UFB6K0LV9Uqu"
      }
    },
    {
      "cell_type": "markdown",
      "source": [
        "Comenzamos haciendo una copia de los datos en una nueva variable"
      ],
      "metadata": {
        "id": "qWunqY4KNBNT"
      }
    },
    {
      "cell_type": "code",
      "source": [
        "data = data_raw.copy()"
      ],
      "metadata": {
        "id": "XV92mdIVM__k"
      },
      "execution_count": 360,
      "outputs": []
    },
    {
      "cell_type": "markdown",
      "source": [
        "Buscamos si hay datos vacios o duplicados en el conjunto de entrenamiento."
      ],
      "metadata": {
        "id": "JQFO5zxKNrLw"
      }
    },
    {
      "cell_type": "code",
      "source": [
        "data.isna().sum()"
      ],
      "metadata": {
        "colab": {
          "base_uri": "https://localhost:8080/"
        },
        "id": "wurNdxmINz25",
        "outputId": "df5e716a-6e3f-4541-f12d-2ee31a97827d"
      },
      "execution_count": 361,
      "outputs": [
        {
          "output_type": "execute_result",
          "data": {
            "text/plain": [
              "pH                  491\n",
              "Dureza                0\n",
              "Sólidos               0\n",
              "Cloraminas            0\n",
              "Sulfatos            781\n",
              "Conductividad         0\n",
              "Carbono_orgánico      0\n",
              "Trihalometanos      162\n",
              "Turbidez              0\n",
              "Potabilidad           0\n",
              "dtype: int64"
            ]
          },
          "metadata": {},
          "execution_count": 361
        }
      ]
    },
    {
      "cell_type": "code",
      "source": [
        "data.duplicated().sum()"
      ],
      "metadata": {
        "colab": {
          "base_uri": "https://localhost:8080/"
        },
        "id": "pwcIpAJCN6TM",
        "outputId": "3c4ab04d-c16a-41be-a702-7ff57b80af81"
      },
      "execution_count": 362,
      "outputs": [
        {
          "output_type": "execute_result",
          "data": {
            "text/plain": [
              "0"
            ]
          },
          "metadata": {},
          "execution_count": 362
        }
      ]
    },
    {
      "cell_type": "markdown",
      "source": [
        "En esta ocasion en vez de eliminar los datos vacios, se utilizara SimpleImputer para asignarles el valor de la media."
      ],
      "metadata": {
        "id": "HfGmCNP3Zcjq"
      }
    },
    {
      "cell_type": "code",
      "source": [
        "simple_imputer = SimpleImputer(missing_values=np.nan, strategy='mean')"
      ],
      "metadata": {
        "id": "trxyjjuiUwwH"
      },
      "execution_count": 363,
      "outputs": []
    },
    {
      "cell_type": "markdown",
      "source": [
        "Dado que la variable objetivo Potabilidad es categorica, pero la libreria requiere que todas las variables sean numericas, utilizaremos un el metodo replace para convertir SI en 1 y NO en 0"
      ],
      "metadata": {
        "id": "QA_mbsNFQDWb"
      }
    },
    {
      "cell_type": "code",
      "source": [
        "data.Potabilidad.replace(('SI', 'NO'), (1, 0), inplace=True)"
      ],
      "metadata": {
        "id": "wBB0Lv7SQQAF"
      },
      "execution_count": 364,
      "outputs": []
    },
    {
      "cell_type": "code",
      "source": [
        "data.head()"
      ],
      "metadata": {
        "colab": {
          "base_uri": "https://localhost:8080/",
          "height": 0
        },
        "id": "Jdh_GH23Ql4y",
        "outputId": "9233d62d-112f-442f-e64b-8f36ab5cbe02"
      },
      "execution_count": 365,
      "outputs": [
        {
          "output_type": "execute_result",
          "data": {
            "text/plain": [
              "     pH  Dureza   Sólidos  Cloraminas  Sulfatos  Conductividad  \\\n",
              "0   NaN  204.89  20791.32        7.30    368.52         564.31   \n",
              "1  3.72  129.42  18630.06        6.64       NaN         592.89   \n",
              "2  8.10  224.24  19909.54        9.28       NaN         418.61   \n",
              "3  8.32  214.37  22018.42        8.06    356.89         363.27   \n",
              "4  9.09  181.10  17978.99        6.55    310.14         398.41   \n",
              "\n",
              "   Carbono_orgánico  Trihalometanos  Turbidez  Potabilidad  \n",
              "0             10.38           86.99      2.96            0  \n",
              "1             15.18           56.33      4.50            0  \n",
              "2             16.87           66.42      3.06            0  \n",
              "3             18.44          100.34      4.63            0  \n",
              "4             11.56           32.00      4.08            0  "
            ],
            "text/html": [
              "\n",
              "  <div id=\"df-38d012d4-5ca6-4a20-b686-70078c0397a6\" class=\"colab-df-container\">\n",
              "    <div>\n",
              "<style scoped>\n",
              "    .dataframe tbody tr th:only-of-type {\n",
              "        vertical-align: middle;\n",
              "    }\n",
              "\n",
              "    .dataframe tbody tr th {\n",
              "        vertical-align: top;\n",
              "    }\n",
              "\n",
              "    .dataframe thead th {\n",
              "        text-align: right;\n",
              "    }\n",
              "</style>\n",
              "<table border=\"1\" class=\"dataframe\">\n",
              "  <thead>\n",
              "    <tr style=\"text-align: right;\">\n",
              "      <th></th>\n",
              "      <th>pH</th>\n",
              "      <th>Dureza</th>\n",
              "      <th>Sólidos</th>\n",
              "      <th>Cloraminas</th>\n",
              "      <th>Sulfatos</th>\n",
              "      <th>Conductividad</th>\n",
              "      <th>Carbono_orgánico</th>\n",
              "      <th>Trihalometanos</th>\n",
              "      <th>Turbidez</th>\n",
              "      <th>Potabilidad</th>\n",
              "    </tr>\n",
              "  </thead>\n",
              "  <tbody>\n",
              "    <tr>\n",
              "      <th>0</th>\n",
              "      <td>NaN</td>\n",
              "      <td>204.89</td>\n",
              "      <td>20791.32</td>\n",
              "      <td>7.30</td>\n",
              "      <td>368.52</td>\n",
              "      <td>564.31</td>\n",
              "      <td>10.38</td>\n",
              "      <td>86.99</td>\n",
              "      <td>2.96</td>\n",
              "      <td>0</td>\n",
              "    </tr>\n",
              "    <tr>\n",
              "      <th>1</th>\n",
              "      <td>3.72</td>\n",
              "      <td>129.42</td>\n",
              "      <td>18630.06</td>\n",
              "      <td>6.64</td>\n",
              "      <td>NaN</td>\n",
              "      <td>592.89</td>\n",
              "      <td>15.18</td>\n",
              "      <td>56.33</td>\n",
              "      <td>4.50</td>\n",
              "      <td>0</td>\n",
              "    </tr>\n",
              "    <tr>\n",
              "      <th>2</th>\n",
              "      <td>8.10</td>\n",
              "      <td>224.24</td>\n",
              "      <td>19909.54</td>\n",
              "      <td>9.28</td>\n",
              "      <td>NaN</td>\n",
              "      <td>418.61</td>\n",
              "      <td>16.87</td>\n",
              "      <td>66.42</td>\n",
              "      <td>3.06</td>\n",
              "      <td>0</td>\n",
              "    </tr>\n",
              "    <tr>\n",
              "      <th>3</th>\n",
              "      <td>8.32</td>\n",
              "      <td>214.37</td>\n",
              "      <td>22018.42</td>\n",
              "      <td>8.06</td>\n",
              "      <td>356.89</td>\n",
              "      <td>363.27</td>\n",
              "      <td>18.44</td>\n",
              "      <td>100.34</td>\n",
              "      <td>4.63</td>\n",
              "      <td>0</td>\n",
              "    </tr>\n",
              "    <tr>\n",
              "      <th>4</th>\n",
              "      <td>9.09</td>\n",
              "      <td>181.10</td>\n",
              "      <td>17978.99</td>\n",
              "      <td>6.55</td>\n",
              "      <td>310.14</td>\n",
              "      <td>398.41</td>\n",
              "      <td>11.56</td>\n",
              "      <td>32.00</td>\n",
              "      <td>4.08</td>\n",
              "      <td>0</td>\n",
              "    </tr>\n",
              "  </tbody>\n",
              "</table>\n",
              "</div>\n",
              "    <div class=\"colab-df-buttons\">\n",
              "\n",
              "  <div class=\"colab-df-container\">\n",
              "    <button class=\"colab-df-convert\" onclick=\"convertToInteractive('df-38d012d4-5ca6-4a20-b686-70078c0397a6')\"\n",
              "            title=\"Convert this dataframe to an interactive table.\"\n",
              "            style=\"display:none;\">\n",
              "\n",
              "  <svg xmlns=\"http://www.w3.org/2000/svg\" height=\"24px\" viewBox=\"0 -960 960 960\">\n",
              "    <path d=\"M120-120v-720h720v720H120Zm60-500h600v-160H180v160Zm220 220h160v-160H400v160Zm0 220h160v-160H400v160ZM180-400h160v-160H180v160Zm440 0h160v-160H620v160ZM180-180h160v-160H180v160Zm440 0h160v-160H620v160Z\"/>\n",
              "  </svg>\n",
              "    </button>\n",
              "\n",
              "  <style>\n",
              "    .colab-df-container {\n",
              "      display:flex;\n",
              "      gap: 12px;\n",
              "    }\n",
              "\n",
              "    .colab-df-convert {\n",
              "      background-color: #E8F0FE;\n",
              "      border: none;\n",
              "      border-radius: 50%;\n",
              "      cursor: pointer;\n",
              "      display: none;\n",
              "      fill: #1967D2;\n",
              "      height: 32px;\n",
              "      padding: 0 0 0 0;\n",
              "      width: 32px;\n",
              "    }\n",
              "\n",
              "    .colab-df-convert:hover {\n",
              "      background-color: #E2EBFA;\n",
              "      box-shadow: 0px 1px 2px rgba(60, 64, 67, 0.3), 0px 1px 3px 1px rgba(60, 64, 67, 0.15);\n",
              "      fill: #174EA6;\n",
              "    }\n",
              "\n",
              "    .colab-df-buttons div {\n",
              "      margin-bottom: 4px;\n",
              "    }\n",
              "\n",
              "    [theme=dark] .colab-df-convert {\n",
              "      background-color: #3B4455;\n",
              "      fill: #D2E3FC;\n",
              "    }\n",
              "\n",
              "    [theme=dark] .colab-df-convert:hover {\n",
              "      background-color: #434B5C;\n",
              "      box-shadow: 0px 1px 3px 1px rgba(0, 0, 0, 0.15);\n",
              "      filter: drop-shadow(0px 1px 2px rgba(0, 0, 0, 0.3));\n",
              "      fill: #FFFFFF;\n",
              "    }\n",
              "  </style>\n",
              "\n",
              "    <script>\n",
              "      const buttonEl =\n",
              "        document.querySelector('#df-38d012d4-5ca6-4a20-b686-70078c0397a6 button.colab-df-convert');\n",
              "      buttonEl.style.display =\n",
              "        google.colab.kernel.accessAllowed ? 'block' : 'none';\n",
              "\n",
              "      async function convertToInteractive(key) {\n",
              "        const element = document.querySelector('#df-38d012d4-5ca6-4a20-b686-70078c0397a6');\n",
              "        const dataTable =\n",
              "          await google.colab.kernel.invokeFunction('convertToInteractive',\n",
              "                                                    [key], {});\n",
              "        if (!dataTable) return;\n",
              "\n",
              "        const docLinkHtml = 'Like what you see? Visit the ' +\n",
              "          '<a target=\"_blank\" href=https://colab.research.google.com/notebooks/data_table.ipynb>data table notebook</a>'\n",
              "          + ' to learn more about interactive tables.';\n",
              "        element.innerHTML = '';\n",
              "        dataTable['output_type'] = 'display_data';\n",
              "        await google.colab.output.renderOutput(dataTable, element);\n",
              "        const docLink = document.createElement('div');\n",
              "        docLink.innerHTML = docLinkHtml;\n",
              "        element.appendChild(docLink);\n",
              "      }\n",
              "    </script>\n",
              "  </div>\n",
              "\n",
              "\n",
              "<div id=\"df-f1cbfca8-f2b3-4ff3-9a7b-179c9342821b\">\n",
              "  <button class=\"colab-df-quickchart\" onclick=\"quickchart('df-f1cbfca8-f2b3-4ff3-9a7b-179c9342821b')\"\n",
              "            title=\"Suggest charts\"\n",
              "            style=\"display:none;\">\n",
              "\n",
              "<svg xmlns=\"http://www.w3.org/2000/svg\" height=\"24px\"viewBox=\"0 0 24 24\"\n",
              "     width=\"24px\">\n",
              "    <g>\n",
              "        <path d=\"M19 3H5c-1.1 0-2 .9-2 2v14c0 1.1.9 2 2 2h14c1.1 0 2-.9 2-2V5c0-1.1-.9-2-2-2zM9 17H7v-7h2v7zm4 0h-2V7h2v10zm4 0h-2v-4h2v4z\"/>\n",
              "    </g>\n",
              "</svg>\n",
              "  </button>\n",
              "\n",
              "<style>\n",
              "  .colab-df-quickchart {\n",
              "      --bg-color: #E8F0FE;\n",
              "      --fill-color: #1967D2;\n",
              "      --hover-bg-color: #E2EBFA;\n",
              "      --hover-fill-color: #174EA6;\n",
              "      --disabled-fill-color: #AAA;\n",
              "      --disabled-bg-color: #DDD;\n",
              "  }\n",
              "\n",
              "  [theme=dark] .colab-df-quickchart {\n",
              "      --bg-color: #3B4455;\n",
              "      --fill-color: #D2E3FC;\n",
              "      --hover-bg-color: #434B5C;\n",
              "      --hover-fill-color: #FFFFFF;\n",
              "      --disabled-bg-color: #3B4455;\n",
              "      --disabled-fill-color: #666;\n",
              "  }\n",
              "\n",
              "  .colab-df-quickchart {\n",
              "    background-color: var(--bg-color);\n",
              "    border: none;\n",
              "    border-radius: 50%;\n",
              "    cursor: pointer;\n",
              "    display: none;\n",
              "    fill: var(--fill-color);\n",
              "    height: 32px;\n",
              "    padding: 0;\n",
              "    width: 32px;\n",
              "  }\n",
              "\n",
              "  .colab-df-quickchart:hover {\n",
              "    background-color: var(--hover-bg-color);\n",
              "    box-shadow: 0 1px 2px rgba(60, 64, 67, 0.3), 0 1px 3px 1px rgba(60, 64, 67, 0.15);\n",
              "    fill: var(--button-hover-fill-color);\n",
              "  }\n",
              "\n",
              "  .colab-df-quickchart-complete:disabled,\n",
              "  .colab-df-quickchart-complete:disabled:hover {\n",
              "    background-color: var(--disabled-bg-color);\n",
              "    fill: var(--disabled-fill-color);\n",
              "    box-shadow: none;\n",
              "  }\n",
              "\n",
              "  .colab-df-spinner {\n",
              "    border: 2px solid var(--fill-color);\n",
              "    border-color: transparent;\n",
              "    border-bottom-color: var(--fill-color);\n",
              "    animation:\n",
              "      spin 1s steps(1) infinite;\n",
              "  }\n",
              "\n",
              "  @keyframes spin {\n",
              "    0% {\n",
              "      border-color: transparent;\n",
              "      border-bottom-color: var(--fill-color);\n",
              "      border-left-color: var(--fill-color);\n",
              "    }\n",
              "    20% {\n",
              "      border-color: transparent;\n",
              "      border-left-color: var(--fill-color);\n",
              "      border-top-color: var(--fill-color);\n",
              "    }\n",
              "    30% {\n",
              "      border-color: transparent;\n",
              "      border-left-color: var(--fill-color);\n",
              "      border-top-color: var(--fill-color);\n",
              "      border-right-color: var(--fill-color);\n",
              "    }\n",
              "    40% {\n",
              "      border-color: transparent;\n",
              "      border-right-color: var(--fill-color);\n",
              "      border-top-color: var(--fill-color);\n",
              "    }\n",
              "    60% {\n",
              "      border-color: transparent;\n",
              "      border-right-color: var(--fill-color);\n",
              "    }\n",
              "    80% {\n",
              "      border-color: transparent;\n",
              "      border-right-color: var(--fill-color);\n",
              "      border-bottom-color: var(--fill-color);\n",
              "    }\n",
              "    90% {\n",
              "      border-color: transparent;\n",
              "      border-bottom-color: var(--fill-color);\n",
              "    }\n",
              "  }\n",
              "</style>\n",
              "\n",
              "  <script>\n",
              "    async function quickchart(key) {\n",
              "      const quickchartButtonEl =\n",
              "        document.querySelector('#' + key + ' button');\n",
              "      quickchartButtonEl.disabled = true;  // To prevent multiple clicks.\n",
              "      quickchartButtonEl.classList.add('colab-df-spinner');\n",
              "      try {\n",
              "        const charts = await google.colab.kernel.invokeFunction(\n",
              "            'suggestCharts', [key], {});\n",
              "      } catch (error) {\n",
              "        console.error('Error during call to suggestCharts:', error);\n",
              "      }\n",
              "      quickchartButtonEl.classList.remove('colab-df-spinner');\n",
              "      quickchartButtonEl.classList.add('colab-df-quickchart-complete');\n",
              "    }\n",
              "    (() => {\n",
              "      let quickchartButtonEl =\n",
              "        document.querySelector('#df-f1cbfca8-f2b3-4ff3-9a7b-179c9342821b button');\n",
              "      quickchartButtonEl.style.display =\n",
              "        google.colab.kernel.accessAllowed ? 'block' : 'none';\n",
              "    })();\n",
              "  </script>\n",
              "</div>\n",
              "\n",
              "    </div>\n",
              "  </div>\n"
            ],
            "application/vnd.google.colaboratory.intrinsic+json": {
              "type": "dataframe",
              "variable_name": "data",
              "summary": "{\n  \"name\": \"data\",\n  \"rows\": 3276,\n  \"fields\": [\n    {\n      \"column\": \"pH\",\n      \"properties\": {\n        \"dtype\": \"number\",\n        \"std\": 1.5943693802475896,\n        \"min\": 0.0,\n        \"max\": 14.0,\n        \"num_unique_values\": 699,\n        \"samples\": [\n          9.93,\n          10.77,\n          9.89\n        ],\n        \"semantic_type\": \"\",\n        \"description\": \"\"\n      }\n    },\n    {\n      \"column\": \"Dureza\",\n      \"properties\": {\n        \"dtype\": \"number\",\n        \"std\": 32.87968047855477,\n        \"min\": 47.43,\n        \"max\": 323.12,\n        \"num_unique_values\": 2835,\n        \"samples\": [\n          166.73,\n          221.09,\n          178.45\n        ],\n        \"semantic_type\": \"\",\n        \"description\": \"\"\n      }\n    },\n    {\n      \"column\": \"S\\u00f3lidos\",\n      \"properties\": {\n        \"dtype\": \"number\",\n        \"std\": 8768.570851544431,\n        \"min\": 320.94,\n        \"max\": 61227.2,\n        \"num_unique_values\": 3276,\n        \"samples\": [\n          20461.25,\n          32873.82,\n          23264.11\n        ],\n        \"semantic_type\": \"\",\n        \"description\": \"\"\n      }\n    },\n    {\n      \"column\": \"Cloraminas\",\n      \"properties\": {\n        \"dtype\": \"number\",\n        \"std\": 1.5831425077465684,\n        \"min\": 0.35,\n        \"max\": 13.13,\n        \"num_unique_values\": 722,\n        \"samples\": [\n          8.85,\n          11.09,\n          4.22\n        ],\n        \"semantic_type\": \"\",\n        \"description\": \"\"\n      }\n    },\n    {\n      \"column\": \"Sulfatos\",\n      \"properties\": {\n        \"dtype\": \"number\",\n        \"std\": 41.416863577894965,\n        \"min\": 129.0,\n        \"max\": 481.03,\n        \"num_unique_values\": 2303,\n        \"samples\": [\n          356.38,\n          305.8,\n          298.19\n        ],\n        \"semantic_type\": \"\",\n        \"description\": \"\"\n      }\n    },\n    {\n      \"column\": \"Conductividad\",\n      \"properties\": {\n        \"dtype\": \"number\",\n        \"std\": 80.82412264695584,\n        \"min\": 181.48,\n        \"max\": 753.34,\n        \"num_unique_values\": 3099,\n        \"samples\": [\n          443.03,\n          489.43,\n          384.02\n        ],\n        \"semantic_type\": \"\",\n        \"description\": \"\"\n      }\n    },\n    {\n      \"column\": \"Carbono_org\\u00e1nico\",\n      \"properties\": {\n        \"dtype\": \"number\",\n        \"std\": 3.3082320215189074,\n        \"min\": 2.2,\n        \"max\": 28.3,\n        \"num_unique_values\": 1235,\n        \"samples\": [\n          16.78,\n          10.36,\n          10.0\n        ],\n        \"semantic_type\": \"\",\n        \"description\": \"\"\n      }\n    },\n    {\n      \"column\": \"Trihalometanos\",\n      \"properties\": {\n        \"dtype\": \"number\",\n        \"std\": 16.17498283025766,\n        \"min\": 0.74,\n        \"max\": 124.0,\n        \"num_unique_values\": 2403,\n        \"samples\": [\n          54.58,\n          90.94,\n          97.09\n        ],\n        \"semantic_type\": \"\",\n        \"description\": \"\"\n      }\n    },\n    {\n      \"column\": \"Turbidez\",\n      \"properties\": {\n        \"dtype\": \"number\",\n        \"std\": 0.7803542524061653,\n        \"min\": 1.45,\n        \"max\": 6.74,\n        \"num_unique_values\": 403,\n        \"samples\": [\n          2.29,\n          2.0,\n          4.49\n        ],\n        \"semantic_type\": \"\",\n        \"description\": \"\"\n      }\n    },\n    {\n      \"column\": \"Potabilidad\",\n      \"properties\": {\n        \"dtype\": \"number\",\n        \"std\": 0,\n        \"min\": 0,\n        \"max\": 1,\n        \"num_unique_values\": 2,\n        \"samples\": [\n          1,\n          0\n        ],\n        \"semantic_type\": \"\",\n        \"description\": \"\"\n      }\n    }\n  ]\n}"
            }
          },
          "metadata": {},
          "execution_count": 365
        }
      ]
    },
    {
      "cell_type": "code",
      "source": [
        "data[['Potabilidad']].apply(pd.value_counts)"
      ],
      "metadata": {
        "colab": {
          "base_uri": "https://localhost:8080/",
          "height": 0
        },
        "id": "SbvC3FxrTzdn",
        "outputId": "ef6330ae-d93b-423b-81c0-3d9b9371f4ac"
      },
      "execution_count": 366,
      "outputs": [
        {
          "output_type": "execute_result",
          "data": {
            "text/plain": [
              "   Potabilidad\n",
              "0         1998\n",
              "1         1278"
            ],
            "text/html": [
              "\n",
              "  <div id=\"df-3364cd7d-8021-4d07-8199-284ed79cc5b8\" class=\"colab-df-container\">\n",
              "    <div>\n",
              "<style scoped>\n",
              "    .dataframe tbody tr th:only-of-type {\n",
              "        vertical-align: middle;\n",
              "    }\n",
              "\n",
              "    .dataframe tbody tr th {\n",
              "        vertical-align: top;\n",
              "    }\n",
              "\n",
              "    .dataframe thead th {\n",
              "        text-align: right;\n",
              "    }\n",
              "</style>\n",
              "<table border=\"1\" class=\"dataframe\">\n",
              "  <thead>\n",
              "    <tr style=\"text-align: right;\">\n",
              "      <th></th>\n",
              "      <th>Potabilidad</th>\n",
              "    </tr>\n",
              "  </thead>\n",
              "  <tbody>\n",
              "    <tr>\n",
              "      <th>0</th>\n",
              "      <td>1998</td>\n",
              "    </tr>\n",
              "    <tr>\n",
              "      <th>1</th>\n",
              "      <td>1278</td>\n",
              "    </tr>\n",
              "  </tbody>\n",
              "</table>\n",
              "</div>\n",
              "    <div class=\"colab-df-buttons\">\n",
              "\n",
              "  <div class=\"colab-df-container\">\n",
              "    <button class=\"colab-df-convert\" onclick=\"convertToInteractive('df-3364cd7d-8021-4d07-8199-284ed79cc5b8')\"\n",
              "            title=\"Convert this dataframe to an interactive table.\"\n",
              "            style=\"display:none;\">\n",
              "\n",
              "  <svg xmlns=\"http://www.w3.org/2000/svg\" height=\"24px\" viewBox=\"0 -960 960 960\">\n",
              "    <path d=\"M120-120v-720h720v720H120Zm60-500h600v-160H180v160Zm220 220h160v-160H400v160Zm0 220h160v-160H400v160ZM180-400h160v-160H180v160Zm440 0h160v-160H620v160ZM180-180h160v-160H180v160Zm440 0h160v-160H620v160Z\"/>\n",
              "  </svg>\n",
              "    </button>\n",
              "\n",
              "  <style>\n",
              "    .colab-df-container {\n",
              "      display:flex;\n",
              "      gap: 12px;\n",
              "    }\n",
              "\n",
              "    .colab-df-convert {\n",
              "      background-color: #E8F0FE;\n",
              "      border: none;\n",
              "      border-radius: 50%;\n",
              "      cursor: pointer;\n",
              "      display: none;\n",
              "      fill: #1967D2;\n",
              "      height: 32px;\n",
              "      padding: 0 0 0 0;\n",
              "      width: 32px;\n",
              "    }\n",
              "\n",
              "    .colab-df-convert:hover {\n",
              "      background-color: #E2EBFA;\n",
              "      box-shadow: 0px 1px 2px rgba(60, 64, 67, 0.3), 0px 1px 3px 1px rgba(60, 64, 67, 0.15);\n",
              "      fill: #174EA6;\n",
              "    }\n",
              "\n",
              "    .colab-df-buttons div {\n",
              "      margin-bottom: 4px;\n",
              "    }\n",
              "\n",
              "    [theme=dark] .colab-df-convert {\n",
              "      background-color: #3B4455;\n",
              "      fill: #D2E3FC;\n",
              "    }\n",
              "\n",
              "    [theme=dark] .colab-df-convert:hover {\n",
              "      background-color: #434B5C;\n",
              "      box-shadow: 0px 1px 3px 1px rgba(0, 0, 0, 0.15);\n",
              "      filter: drop-shadow(0px 1px 2px rgba(0, 0, 0, 0.3));\n",
              "      fill: #FFFFFF;\n",
              "    }\n",
              "  </style>\n",
              "\n",
              "    <script>\n",
              "      const buttonEl =\n",
              "        document.querySelector('#df-3364cd7d-8021-4d07-8199-284ed79cc5b8 button.colab-df-convert');\n",
              "      buttonEl.style.display =\n",
              "        google.colab.kernel.accessAllowed ? 'block' : 'none';\n",
              "\n",
              "      async function convertToInteractive(key) {\n",
              "        const element = document.querySelector('#df-3364cd7d-8021-4d07-8199-284ed79cc5b8');\n",
              "        const dataTable =\n",
              "          await google.colab.kernel.invokeFunction('convertToInteractive',\n",
              "                                                    [key], {});\n",
              "        if (!dataTable) return;\n",
              "\n",
              "        const docLinkHtml = 'Like what you see? Visit the ' +\n",
              "          '<a target=\"_blank\" href=https://colab.research.google.com/notebooks/data_table.ipynb>data table notebook</a>'\n",
              "          + ' to learn more about interactive tables.';\n",
              "        element.innerHTML = '';\n",
              "        dataTable['output_type'] = 'display_data';\n",
              "        await google.colab.output.renderOutput(dataTable, element);\n",
              "        const docLink = document.createElement('div');\n",
              "        docLink.innerHTML = docLinkHtml;\n",
              "        element.appendChild(docLink);\n",
              "      }\n",
              "    </script>\n",
              "  </div>\n",
              "\n",
              "\n",
              "<div id=\"df-cd8b198e-39a1-436b-bc50-5bc664030998\">\n",
              "  <button class=\"colab-df-quickchart\" onclick=\"quickchart('df-cd8b198e-39a1-436b-bc50-5bc664030998')\"\n",
              "            title=\"Suggest charts\"\n",
              "            style=\"display:none;\">\n",
              "\n",
              "<svg xmlns=\"http://www.w3.org/2000/svg\" height=\"24px\"viewBox=\"0 0 24 24\"\n",
              "     width=\"24px\">\n",
              "    <g>\n",
              "        <path d=\"M19 3H5c-1.1 0-2 .9-2 2v14c0 1.1.9 2 2 2h14c1.1 0 2-.9 2-2V5c0-1.1-.9-2-2-2zM9 17H7v-7h2v7zm4 0h-2V7h2v10zm4 0h-2v-4h2v4z\"/>\n",
              "    </g>\n",
              "</svg>\n",
              "  </button>\n",
              "\n",
              "<style>\n",
              "  .colab-df-quickchart {\n",
              "      --bg-color: #E8F0FE;\n",
              "      --fill-color: #1967D2;\n",
              "      --hover-bg-color: #E2EBFA;\n",
              "      --hover-fill-color: #174EA6;\n",
              "      --disabled-fill-color: #AAA;\n",
              "      --disabled-bg-color: #DDD;\n",
              "  }\n",
              "\n",
              "  [theme=dark] .colab-df-quickchart {\n",
              "      --bg-color: #3B4455;\n",
              "      --fill-color: #D2E3FC;\n",
              "      --hover-bg-color: #434B5C;\n",
              "      --hover-fill-color: #FFFFFF;\n",
              "      --disabled-bg-color: #3B4455;\n",
              "      --disabled-fill-color: #666;\n",
              "  }\n",
              "\n",
              "  .colab-df-quickchart {\n",
              "    background-color: var(--bg-color);\n",
              "    border: none;\n",
              "    border-radius: 50%;\n",
              "    cursor: pointer;\n",
              "    display: none;\n",
              "    fill: var(--fill-color);\n",
              "    height: 32px;\n",
              "    padding: 0;\n",
              "    width: 32px;\n",
              "  }\n",
              "\n",
              "  .colab-df-quickchart:hover {\n",
              "    background-color: var(--hover-bg-color);\n",
              "    box-shadow: 0 1px 2px rgba(60, 64, 67, 0.3), 0 1px 3px 1px rgba(60, 64, 67, 0.15);\n",
              "    fill: var(--button-hover-fill-color);\n",
              "  }\n",
              "\n",
              "  .colab-df-quickchart-complete:disabled,\n",
              "  .colab-df-quickchart-complete:disabled:hover {\n",
              "    background-color: var(--disabled-bg-color);\n",
              "    fill: var(--disabled-fill-color);\n",
              "    box-shadow: none;\n",
              "  }\n",
              "\n",
              "  .colab-df-spinner {\n",
              "    border: 2px solid var(--fill-color);\n",
              "    border-color: transparent;\n",
              "    border-bottom-color: var(--fill-color);\n",
              "    animation:\n",
              "      spin 1s steps(1) infinite;\n",
              "  }\n",
              "\n",
              "  @keyframes spin {\n",
              "    0% {\n",
              "      border-color: transparent;\n",
              "      border-bottom-color: var(--fill-color);\n",
              "      border-left-color: var(--fill-color);\n",
              "    }\n",
              "    20% {\n",
              "      border-color: transparent;\n",
              "      border-left-color: var(--fill-color);\n",
              "      border-top-color: var(--fill-color);\n",
              "    }\n",
              "    30% {\n",
              "      border-color: transparent;\n",
              "      border-left-color: var(--fill-color);\n",
              "      border-top-color: var(--fill-color);\n",
              "      border-right-color: var(--fill-color);\n",
              "    }\n",
              "    40% {\n",
              "      border-color: transparent;\n",
              "      border-right-color: var(--fill-color);\n",
              "      border-top-color: var(--fill-color);\n",
              "    }\n",
              "    60% {\n",
              "      border-color: transparent;\n",
              "      border-right-color: var(--fill-color);\n",
              "    }\n",
              "    80% {\n",
              "      border-color: transparent;\n",
              "      border-right-color: var(--fill-color);\n",
              "      border-bottom-color: var(--fill-color);\n",
              "    }\n",
              "    90% {\n",
              "      border-color: transparent;\n",
              "      border-bottom-color: var(--fill-color);\n",
              "    }\n",
              "  }\n",
              "</style>\n",
              "\n",
              "  <script>\n",
              "    async function quickchart(key) {\n",
              "      const quickchartButtonEl =\n",
              "        document.querySelector('#' + key + ' button');\n",
              "      quickchartButtonEl.disabled = true;  // To prevent multiple clicks.\n",
              "      quickchartButtonEl.classList.add('colab-df-spinner');\n",
              "      try {\n",
              "        const charts = await google.colab.kernel.invokeFunction(\n",
              "            'suggestCharts', [key], {});\n",
              "      } catch (error) {\n",
              "        console.error('Error during call to suggestCharts:', error);\n",
              "      }\n",
              "      quickchartButtonEl.classList.remove('colab-df-spinner');\n",
              "      quickchartButtonEl.classList.add('colab-df-quickchart-complete');\n",
              "    }\n",
              "    (() => {\n",
              "      let quickchartButtonEl =\n",
              "        document.querySelector('#df-cd8b198e-39a1-436b-bc50-5bc664030998 button');\n",
              "      quickchartButtonEl.style.display =\n",
              "        google.colab.kernel.accessAllowed ? 'block' : 'none';\n",
              "    })();\n",
              "  </script>\n",
              "</div>\n",
              "\n",
              "    </div>\n",
              "  </div>\n"
            ],
            "application/vnd.google.colaboratory.intrinsic+json": {
              "type": "dataframe",
              "summary": "{\n  \"name\": \"data[['Potabilidad']]\",\n  \"rows\": 2,\n  \"fields\": [\n    {\n      \"column\": \"Potabilidad\",\n      \"properties\": {\n        \"dtype\": \"number\",\n        \"std\": 509,\n        \"min\": 1278,\n        \"max\": 1998,\n        \"num_unique_values\": 2,\n        \"samples\": [\n          1278,\n          1998\n        ],\n        \"semantic_type\": \"\",\n        \"description\": \"\"\n      }\n    }\n  ]\n}"
            }
          },
          "metadata": {},
          "execution_count": 366
        }
      ]
    },
    {
      "cell_type": "markdown",
      "source": [
        "Se crea el StandardScaler para utilizar en el pipeline aunque el algoritmo de arbol de desicion no lo requiere, pero el algoritmo KNN si para que la escala de una variable no tenga influencia sobre la clasificación."
      ],
      "metadata": {
        "id": "1MAyLSGYT6fN"
      }
    },
    {
      "cell_type": "code",
      "source": [
        "scaler = StandardScaler()"
      ],
      "metadata": {
        "id": "wF-YkEyGawKA"
      },
      "execution_count": 367,
      "outputs": []
    },
    {
      "cell_type": "markdown",
      "source": [
        "Ahora creamos steps con la configuracion seleccionada para cada modelo. Para el modelo de k-vecinos mas cercanos se utiliza la estandarizacion en todas las variables numericas excepto en Potabilidad que es categorica"
      ],
      "metadata": {
        "id": "0ntvz7OybgHH"
      }
    },
    {
      "cell_type": "code",
      "source": [
        "# pH\tDureza\tSólidos\tCloraminas\tSulfatos\tConductividad\tCarbono_orgánico\tTrihalometanos\tTurbidez\n",
        "numeric_features = [0, 1, 2, 3, 4, 5, 6, 7, 8]\n",
        "\n",
        "column_transformer = ColumnTransformer(\n",
        "    transformers=[\n",
        "        (\"num\", scaler, numeric_features)\n",
        "    ]\n",
        ")\n",
        "\n",
        "steps_knn = [\n",
        "    (\"imputer\",simple_imputer),\n",
        "    (\"transformer\",column_transformer)\n",
        "]\n",
        "\n",
        "steps_dt = [\n",
        "    (\"imputer\",simple_imputer)\n",
        "]\n",
        "\n"
      ],
      "metadata": {
        "id": "PrP5OQbnbqb_"
      },
      "execution_count": 368,
      "outputs": []
    },
    {
      "cell_type": "markdown",
      "source": [
        "# 3. Construcción de un modelo de árboles de decisión"
      ],
      "metadata": {
        "id": "n6zH7irO9YYn"
      }
    },
    {
      "cell_type": "markdown",
      "source": [
        "## Técnicas de validación para el ajuste de hiperparámetros"
      ],
      "metadata": {
        "id": "4GWZGKFLdTQN"
      }
    },
    {
      "cell_type": "markdown",
      "source": [
        "### Division y transformacion de datos\n",
        "Hacemos la division de datos para train y test usando la semilla 77"
      ],
      "metadata": {
        "id": "2s7YdTQwNcQJ"
      }
    },
    {
      "cell_type": "code",
      "source": [
        "train, test = train_test_split(data, test_size=0.2, random_state=77)\n",
        "train.head()"
      ],
      "metadata": {
        "colab": {
          "base_uri": "https://localhost:8080/",
          "height": 0
        },
        "id": "-68_fwKoNbb8",
        "outputId": "194e7ed4-5970-471f-e07b-eb367bae56ae"
      },
      "execution_count": 369,
      "outputs": [
        {
          "output_type": "execute_result",
          "data": {
            "text/plain": [
              "        pH  Dureza   Sólidos  Cloraminas  Sulfatos  Conductividad  \\\n",
              "3126  6.67  155.71  30610.05        8.17    337.17         425.69   \n",
              "3147  6.26  130.37   9734.68       10.28    320.36         399.35   \n",
              "2844  6.66  182.39  16828.88        7.07    355.90         434.66   \n",
              "1916  8.02  255.26  30854.83        8.76       NaN         442.50   \n",
              "1053  8.92  207.52  13291.92        8.56    357.94         468.54   \n",
              "\n",
              "      Carbono_orgánico  Trihalometanos  Turbidez  Potabilidad  \n",
              "3126             15.10           79.78      4.90            1  \n",
              "3147             10.85           43.42      3.93            1  \n",
              "2844             16.62           69.41      3.97            1  \n",
              "1916             11.09           93.27      5.32            1  \n",
              "1053             15.69          107.28      4.08            0  "
            ],
            "text/html": [
              "\n",
              "  <div id=\"df-1041ef88-5487-43af-9b13-1fae555d5b4e\" class=\"colab-df-container\">\n",
              "    <div>\n",
              "<style scoped>\n",
              "    .dataframe tbody tr th:only-of-type {\n",
              "        vertical-align: middle;\n",
              "    }\n",
              "\n",
              "    .dataframe tbody tr th {\n",
              "        vertical-align: top;\n",
              "    }\n",
              "\n",
              "    .dataframe thead th {\n",
              "        text-align: right;\n",
              "    }\n",
              "</style>\n",
              "<table border=\"1\" class=\"dataframe\">\n",
              "  <thead>\n",
              "    <tr style=\"text-align: right;\">\n",
              "      <th></th>\n",
              "      <th>pH</th>\n",
              "      <th>Dureza</th>\n",
              "      <th>Sólidos</th>\n",
              "      <th>Cloraminas</th>\n",
              "      <th>Sulfatos</th>\n",
              "      <th>Conductividad</th>\n",
              "      <th>Carbono_orgánico</th>\n",
              "      <th>Trihalometanos</th>\n",
              "      <th>Turbidez</th>\n",
              "      <th>Potabilidad</th>\n",
              "    </tr>\n",
              "  </thead>\n",
              "  <tbody>\n",
              "    <tr>\n",
              "      <th>3126</th>\n",
              "      <td>6.67</td>\n",
              "      <td>155.71</td>\n",
              "      <td>30610.05</td>\n",
              "      <td>8.17</td>\n",
              "      <td>337.17</td>\n",
              "      <td>425.69</td>\n",
              "      <td>15.10</td>\n",
              "      <td>79.78</td>\n",
              "      <td>4.90</td>\n",
              "      <td>1</td>\n",
              "    </tr>\n",
              "    <tr>\n",
              "      <th>3147</th>\n",
              "      <td>6.26</td>\n",
              "      <td>130.37</td>\n",
              "      <td>9734.68</td>\n",
              "      <td>10.28</td>\n",
              "      <td>320.36</td>\n",
              "      <td>399.35</td>\n",
              "      <td>10.85</td>\n",
              "      <td>43.42</td>\n",
              "      <td>3.93</td>\n",
              "      <td>1</td>\n",
              "    </tr>\n",
              "    <tr>\n",
              "      <th>2844</th>\n",
              "      <td>6.66</td>\n",
              "      <td>182.39</td>\n",
              "      <td>16828.88</td>\n",
              "      <td>7.07</td>\n",
              "      <td>355.90</td>\n",
              "      <td>434.66</td>\n",
              "      <td>16.62</td>\n",
              "      <td>69.41</td>\n",
              "      <td>3.97</td>\n",
              "      <td>1</td>\n",
              "    </tr>\n",
              "    <tr>\n",
              "      <th>1916</th>\n",
              "      <td>8.02</td>\n",
              "      <td>255.26</td>\n",
              "      <td>30854.83</td>\n",
              "      <td>8.76</td>\n",
              "      <td>NaN</td>\n",
              "      <td>442.50</td>\n",
              "      <td>11.09</td>\n",
              "      <td>93.27</td>\n",
              "      <td>5.32</td>\n",
              "      <td>1</td>\n",
              "    </tr>\n",
              "    <tr>\n",
              "      <th>1053</th>\n",
              "      <td>8.92</td>\n",
              "      <td>207.52</td>\n",
              "      <td>13291.92</td>\n",
              "      <td>8.56</td>\n",
              "      <td>357.94</td>\n",
              "      <td>468.54</td>\n",
              "      <td>15.69</td>\n",
              "      <td>107.28</td>\n",
              "      <td>4.08</td>\n",
              "      <td>0</td>\n",
              "    </tr>\n",
              "  </tbody>\n",
              "</table>\n",
              "</div>\n",
              "    <div class=\"colab-df-buttons\">\n",
              "\n",
              "  <div class=\"colab-df-container\">\n",
              "    <button class=\"colab-df-convert\" onclick=\"convertToInteractive('df-1041ef88-5487-43af-9b13-1fae555d5b4e')\"\n",
              "            title=\"Convert this dataframe to an interactive table.\"\n",
              "            style=\"display:none;\">\n",
              "\n",
              "  <svg xmlns=\"http://www.w3.org/2000/svg\" height=\"24px\" viewBox=\"0 -960 960 960\">\n",
              "    <path d=\"M120-120v-720h720v720H120Zm60-500h600v-160H180v160Zm220 220h160v-160H400v160Zm0 220h160v-160H400v160ZM180-400h160v-160H180v160Zm440 0h160v-160H620v160ZM180-180h160v-160H180v160Zm440 0h160v-160H620v160Z\"/>\n",
              "  </svg>\n",
              "    </button>\n",
              "\n",
              "  <style>\n",
              "    .colab-df-container {\n",
              "      display:flex;\n",
              "      gap: 12px;\n",
              "    }\n",
              "\n",
              "    .colab-df-convert {\n",
              "      background-color: #E8F0FE;\n",
              "      border: none;\n",
              "      border-radius: 50%;\n",
              "      cursor: pointer;\n",
              "      display: none;\n",
              "      fill: #1967D2;\n",
              "      height: 32px;\n",
              "      padding: 0 0 0 0;\n",
              "      width: 32px;\n",
              "    }\n",
              "\n",
              "    .colab-df-convert:hover {\n",
              "      background-color: #E2EBFA;\n",
              "      box-shadow: 0px 1px 2px rgba(60, 64, 67, 0.3), 0px 1px 3px 1px rgba(60, 64, 67, 0.15);\n",
              "      fill: #174EA6;\n",
              "    }\n",
              "\n",
              "    .colab-df-buttons div {\n",
              "      margin-bottom: 4px;\n",
              "    }\n",
              "\n",
              "    [theme=dark] .colab-df-convert {\n",
              "      background-color: #3B4455;\n",
              "      fill: #D2E3FC;\n",
              "    }\n",
              "\n",
              "    [theme=dark] .colab-df-convert:hover {\n",
              "      background-color: #434B5C;\n",
              "      box-shadow: 0px 1px 3px 1px rgba(0, 0, 0, 0.15);\n",
              "      filter: drop-shadow(0px 1px 2px rgba(0, 0, 0, 0.3));\n",
              "      fill: #FFFFFF;\n",
              "    }\n",
              "  </style>\n",
              "\n",
              "    <script>\n",
              "      const buttonEl =\n",
              "        document.querySelector('#df-1041ef88-5487-43af-9b13-1fae555d5b4e button.colab-df-convert');\n",
              "      buttonEl.style.display =\n",
              "        google.colab.kernel.accessAllowed ? 'block' : 'none';\n",
              "\n",
              "      async function convertToInteractive(key) {\n",
              "        const element = document.querySelector('#df-1041ef88-5487-43af-9b13-1fae555d5b4e');\n",
              "        const dataTable =\n",
              "          await google.colab.kernel.invokeFunction('convertToInteractive',\n",
              "                                                    [key], {});\n",
              "        if (!dataTable) return;\n",
              "\n",
              "        const docLinkHtml = 'Like what you see? Visit the ' +\n",
              "          '<a target=\"_blank\" href=https://colab.research.google.com/notebooks/data_table.ipynb>data table notebook</a>'\n",
              "          + ' to learn more about interactive tables.';\n",
              "        element.innerHTML = '';\n",
              "        dataTable['output_type'] = 'display_data';\n",
              "        await google.colab.output.renderOutput(dataTable, element);\n",
              "        const docLink = document.createElement('div');\n",
              "        docLink.innerHTML = docLinkHtml;\n",
              "        element.appendChild(docLink);\n",
              "      }\n",
              "    </script>\n",
              "  </div>\n",
              "\n",
              "\n",
              "<div id=\"df-670e4625-e9c9-4c59-b233-099e372011c2\">\n",
              "  <button class=\"colab-df-quickchart\" onclick=\"quickchart('df-670e4625-e9c9-4c59-b233-099e372011c2')\"\n",
              "            title=\"Suggest charts\"\n",
              "            style=\"display:none;\">\n",
              "\n",
              "<svg xmlns=\"http://www.w3.org/2000/svg\" height=\"24px\"viewBox=\"0 0 24 24\"\n",
              "     width=\"24px\">\n",
              "    <g>\n",
              "        <path d=\"M19 3H5c-1.1 0-2 .9-2 2v14c0 1.1.9 2 2 2h14c1.1 0 2-.9 2-2V5c0-1.1-.9-2-2-2zM9 17H7v-7h2v7zm4 0h-2V7h2v10zm4 0h-2v-4h2v4z\"/>\n",
              "    </g>\n",
              "</svg>\n",
              "  </button>\n",
              "\n",
              "<style>\n",
              "  .colab-df-quickchart {\n",
              "      --bg-color: #E8F0FE;\n",
              "      --fill-color: #1967D2;\n",
              "      --hover-bg-color: #E2EBFA;\n",
              "      --hover-fill-color: #174EA6;\n",
              "      --disabled-fill-color: #AAA;\n",
              "      --disabled-bg-color: #DDD;\n",
              "  }\n",
              "\n",
              "  [theme=dark] .colab-df-quickchart {\n",
              "      --bg-color: #3B4455;\n",
              "      --fill-color: #D2E3FC;\n",
              "      --hover-bg-color: #434B5C;\n",
              "      --hover-fill-color: #FFFFFF;\n",
              "      --disabled-bg-color: #3B4455;\n",
              "      --disabled-fill-color: #666;\n",
              "  }\n",
              "\n",
              "  .colab-df-quickchart {\n",
              "    background-color: var(--bg-color);\n",
              "    border: none;\n",
              "    border-radius: 50%;\n",
              "    cursor: pointer;\n",
              "    display: none;\n",
              "    fill: var(--fill-color);\n",
              "    height: 32px;\n",
              "    padding: 0;\n",
              "    width: 32px;\n",
              "  }\n",
              "\n",
              "  .colab-df-quickchart:hover {\n",
              "    background-color: var(--hover-bg-color);\n",
              "    box-shadow: 0 1px 2px rgba(60, 64, 67, 0.3), 0 1px 3px 1px rgba(60, 64, 67, 0.15);\n",
              "    fill: var(--button-hover-fill-color);\n",
              "  }\n",
              "\n",
              "  .colab-df-quickchart-complete:disabled,\n",
              "  .colab-df-quickchart-complete:disabled:hover {\n",
              "    background-color: var(--disabled-bg-color);\n",
              "    fill: var(--disabled-fill-color);\n",
              "    box-shadow: none;\n",
              "  }\n",
              "\n",
              "  .colab-df-spinner {\n",
              "    border: 2px solid var(--fill-color);\n",
              "    border-color: transparent;\n",
              "    border-bottom-color: var(--fill-color);\n",
              "    animation:\n",
              "      spin 1s steps(1) infinite;\n",
              "  }\n",
              "\n",
              "  @keyframes spin {\n",
              "    0% {\n",
              "      border-color: transparent;\n",
              "      border-bottom-color: var(--fill-color);\n",
              "      border-left-color: var(--fill-color);\n",
              "    }\n",
              "    20% {\n",
              "      border-color: transparent;\n",
              "      border-left-color: var(--fill-color);\n",
              "      border-top-color: var(--fill-color);\n",
              "    }\n",
              "    30% {\n",
              "      border-color: transparent;\n",
              "      border-left-color: var(--fill-color);\n",
              "      border-top-color: var(--fill-color);\n",
              "      border-right-color: var(--fill-color);\n",
              "    }\n",
              "    40% {\n",
              "      border-color: transparent;\n",
              "      border-right-color: var(--fill-color);\n",
              "      border-top-color: var(--fill-color);\n",
              "    }\n",
              "    60% {\n",
              "      border-color: transparent;\n",
              "      border-right-color: var(--fill-color);\n",
              "    }\n",
              "    80% {\n",
              "      border-color: transparent;\n",
              "      border-right-color: var(--fill-color);\n",
              "      border-bottom-color: var(--fill-color);\n",
              "    }\n",
              "    90% {\n",
              "      border-color: transparent;\n",
              "      border-bottom-color: var(--fill-color);\n",
              "    }\n",
              "  }\n",
              "</style>\n",
              "\n",
              "  <script>\n",
              "    async function quickchart(key) {\n",
              "      const quickchartButtonEl =\n",
              "        document.querySelector('#' + key + ' button');\n",
              "      quickchartButtonEl.disabled = true;  // To prevent multiple clicks.\n",
              "      quickchartButtonEl.classList.add('colab-df-spinner');\n",
              "      try {\n",
              "        const charts = await google.colab.kernel.invokeFunction(\n",
              "            'suggestCharts', [key], {});\n",
              "      } catch (error) {\n",
              "        console.error('Error during call to suggestCharts:', error);\n",
              "      }\n",
              "      quickchartButtonEl.classList.remove('colab-df-spinner');\n",
              "      quickchartButtonEl.classList.add('colab-df-quickchart-complete');\n",
              "    }\n",
              "    (() => {\n",
              "      let quickchartButtonEl =\n",
              "        document.querySelector('#df-670e4625-e9c9-4c59-b233-099e372011c2 button');\n",
              "      quickchartButtonEl.style.display =\n",
              "        google.colab.kernel.accessAllowed ? 'block' : 'none';\n",
              "    })();\n",
              "  </script>\n",
              "</div>\n",
              "\n",
              "    </div>\n",
              "  </div>\n"
            ],
            "application/vnd.google.colaboratory.intrinsic+json": {
              "type": "dataframe",
              "variable_name": "train",
              "summary": "{\n  \"name\": \"train\",\n  \"rows\": 2620,\n  \"fields\": [\n    {\n      \"column\": \"pH\",\n      \"properties\": {\n        \"dtype\": \"number\",\n        \"std\": 1.5768286822177113,\n        \"min\": 0.0,\n        \"max\": 14.0,\n        \"num_unique_values\": 655,\n        \"samples\": [\n          5.87,\n          6.71,\n          10.38\n        ],\n        \"semantic_type\": \"\",\n        \"description\": \"\"\n      }\n    },\n    {\n      \"column\": \"Dureza\",\n      \"properties\": {\n        \"dtype\": \"number\",\n        \"std\": 33.191076446845734,\n        \"min\": 47.43,\n        \"max\": 317.34,\n        \"num_unique_values\": 2331,\n        \"samples\": [\n          179.58,\n          189.83,\n          178.2\n        ],\n        \"semantic_type\": \"\",\n        \"description\": \"\"\n      }\n    },\n    {\n      \"column\": \"S\\u00f3lidos\",\n      \"properties\": {\n        \"dtype\": \"number\",\n        \"std\": 8780.06738833851,\n        \"min\": 320.94,\n        \"max\": 61227.2,\n        \"num_unique_values\": 2620,\n        \"samples\": [\n          19968.68,\n          22331.24,\n          15149.49\n        ],\n        \"semantic_type\": \"\",\n        \"description\": \"\"\n      }\n    },\n    {\n      \"column\": \"Cloraminas\",\n      \"properties\": {\n        \"dtype\": \"number\",\n        \"std\": 1.594267469374804,\n        \"min\": 0.35,\n        \"max\": 13.13,\n        \"num_unique_values\": 680,\n        \"samples\": [\n          5.75,\n          2.73,\n          5.48\n        ],\n        \"semantic_type\": \"\",\n        \"description\": \"\"\n      }\n    },\n    {\n      \"column\": \"Sulfatos\",\n      \"properties\": {\n        \"dtype\": \"number\",\n        \"std\": 40.974237172750286,\n        \"min\": 129.0,\n        \"max\": 476.54,\n        \"num_unique_values\": 1875,\n        \"samples\": [\n          417.34,\n          346.4,\n          416.89\n        ],\n        \"semantic_type\": \"\",\n        \"description\": \"\"\n      }\n    },\n    {\n      \"column\": \"Conductividad\",\n      \"properties\": {\n        \"dtype\": \"number\",\n        \"std\": 80.90803631155556,\n        \"min\": 232.61,\n        \"max\": 753.34,\n        \"num_unique_values\": 2502,\n        \"samples\": [\n          330.55,\n          287.29,\n          428.41\n        ],\n        \"semantic_type\": \"\",\n        \"description\": \"\"\n      }\n    },\n    {\n      \"column\": \"Carbono_org\\u00e1nico\",\n      \"properties\": {\n        \"dtype\": \"number\",\n        \"std\": 3.286234336191567,\n        \"min\": 2.2,\n        \"max\": 27.01,\n        \"num_unique_values\": 1135,\n        \"samples\": [\n          14.73,\n          13.47,\n          10.62\n        ],\n        \"semantic_type\": \"\",\n        \"description\": \"\"\n      }\n    },\n    {\n      \"column\": \"Trihalometanos\",\n      \"properties\": {\n        \"dtype\": \"number\",\n        \"std\": 16.108806158785264,\n        \"min\": 0.74,\n        \"max\": 120.03,\n        \"num_unique_values\": 2012,\n        \"samples\": [\n          82.35,\n          89.91,\n          85.33\n        ],\n        \"semantic_type\": \"\",\n        \"description\": \"\"\n      }\n    },\n    {\n      \"column\": \"Turbidez\",\n      \"properties\": {\n        \"dtype\": \"number\",\n        \"std\": 0.7876530587185117,\n        \"min\": 1.45,\n        \"max\": 6.74,\n        \"num_unique_values\": 391,\n        \"samples\": [\n          3.68,\n          4.48,\n          4.07\n        ],\n        \"semantic_type\": \"\",\n        \"description\": \"\"\n      }\n    },\n    {\n      \"column\": \"Potabilidad\",\n      \"properties\": {\n        \"dtype\": \"number\",\n        \"std\": 0,\n        \"min\": 0,\n        \"max\": 1,\n        \"num_unique_values\": 2,\n        \"samples\": [\n          0,\n          1\n        ],\n        \"semantic_type\": \"\",\n        \"description\": \"\"\n      }\n    }\n  ]\n}"
            }
          },
          "metadata": {},
          "execution_count": 369
        }
      ]
    },
    {
      "cell_type": "markdown",
      "source": [
        "Se realiza la separacion de la variable objetivo Potabilidad"
      ],
      "metadata": {
        "id": "OGdERSQVQ21a"
      }
    },
    {
      "cell_type": "code",
      "source": [
        "x_train = train.drop(['Potabilidad'],axis=1)\n",
        "y_train = train['Potabilidad']"
      ],
      "metadata": {
        "id": "TImPEwzdQ6-l"
      },
      "execution_count": 370,
      "outputs": []
    },
    {
      "cell_type": "markdown",
      "source": [
        "Posteriormente, vamos a utilizar el pipeline de preprocesamiento para transformar el conjunto de datos mediante la función fit_transform()"
      ],
      "metadata": {
        "id": "Ij1zhogSc4Aa"
      }
    },
    {
      "cell_type": "code",
      "source": [
        "pipeline = Pipeline(steps_dt)\n",
        "x_train_transformed = pipeline.fit_transform(x_train)\n",
        "x_train_transformed"
      ],
      "metadata": {
        "colab": {
          "base_uri": "https://localhost:8080/"
        },
        "id": "4rwSma1pc8Cx",
        "outputId": "55e7373f-9601-4a8b-9f5c-ddc43b8134d0"
      },
      "execution_count": 371,
      "outputs": [
        {
          "output_type": "execute_result",
          "data": {
            "text/plain": [
              "array([[6.670000e+00, 1.557100e+02, 3.061005e+04, ..., 1.510000e+01,\n",
              "        7.978000e+01, 4.900000e+00],\n",
              "       [6.260000e+00, 1.303700e+02, 9.734680e+03, ..., 1.085000e+01,\n",
              "        4.342000e+01, 3.930000e+00],\n",
              "       [6.660000e+00, 1.823900e+02, 1.682888e+04, ..., 1.662000e+01,\n",
              "        6.941000e+01, 3.970000e+00],\n",
              "       ...,\n",
              "       [7.500000e+00, 2.367100e+02, 2.173637e+04, ..., 2.074000e+01,\n",
              "        6.831000e+01, 4.240000e+00],\n",
              "       [9.650000e+00, 2.052100e+02, 8.508150e+03, ..., 1.245000e+01,\n",
              "        5.390000e+01, 3.190000e+00],\n",
              "       [4.870000e+00, 1.144600e+02, 3.285848e+04, ..., 1.615000e+01,\n",
              "        4.565000e+01, 5.070000e+00]])"
            ]
          },
          "metadata": {},
          "execution_count": 371
        }
      ]
    },
    {
      "cell_type": "markdown",
      "source": [
        "### Búsqueda de hiperparámetros\n",
        "``DecisionTreeClassifier()`` será nuestro modelo base para realizar la búsqueda exhaustiva de hiperparámetros"
      ],
      "metadata": {
        "id": "gT97puZ8ddRJ"
      }
    },
    {
      "cell_type": "code",
      "source": [
        "decision_tree = DecisionTreeClassifier(random_state=0, class_weight='balanced')"
      ],
      "metadata": {
        "id": "NxIrhQqkdchi"
      },
      "execution_count": 372,
      "outputs": []
    },
    {
      "cell_type": "markdown",
      "source": [
        "Definimos los parametros segun lo recomendado."
      ],
      "metadata": {
        "id": "BYC-zYoydkNS"
      }
    },
    {
      "cell_type": "code",
      "source": [
        "param_grid = {'criterion':['gini', 'entropy'],\n",
        "              'max_depth':[4,6,8,10,12],\n",
        "              'min_samples_split':[3, 4, 5]}"
      ],
      "metadata": {
        "id": "Defn5GkKdobE"
      },
      "execution_count": 373,
      "outputs": []
    },
    {
      "cell_type": "markdown",
      "source": [
        "Definimos ``KFold()`` para realizar la validación cruzada"
      ],
      "metadata": {
        "id": "zuZkKbjJeJ4P"
      }
    },
    {
      "cell_type": "code",
      "source": [
        "kfold = KFold(n_splits=10, shuffle=True, random_state=0)"
      ],
      "metadata": {
        "id": "_6TmJjeseKPl"
      },
      "execution_count": 374,
      "outputs": []
    },
    {
      "cell_type": "markdown",
      "source": [
        "Definimos y ejecutamos la busqueda sobre el conjunto de entrenamiento transformado"
      ],
      "metadata": {
        "id": "39ksCTn9eZMg"
      }
    },
    {
      "cell_type": "code",
      "source": [
        "grid = GridSearchCV(decision_tree, param_grid, cv=kfold, n_jobs=-1)\n",
        "grid.fit(x_train_transformed, y_train)"
      ],
      "metadata": {
        "colab": {
          "base_uri": "https://localhost:8080/",
          "height": 0
        },
        "id": "VABkWHajebk9",
        "outputId": "d0889159-c2bb-4ff1-cacf-00e6b26aa6ae"
      },
      "execution_count": 375,
      "outputs": [
        {
          "output_type": "execute_result",
          "data": {
            "text/plain": [
              "GridSearchCV(cv=KFold(n_splits=10, random_state=0, shuffle=True),\n",
              "             estimator=DecisionTreeClassifier(class_weight='balanced',\n",
              "                                              random_state=0),\n",
              "             n_jobs=-1,\n",
              "             param_grid={'criterion': ['gini', 'entropy'],\n",
              "                         'max_depth': [4, 6, 8, 10, 12],\n",
              "                         'min_samples_split': [3, 4, 5]})"
            ],
            "text/html": [
              "<style>#sk-container-id-7 {color: black;background-color: white;}#sk-container-id-7 pre{padding: 0;}#sk-container-id-7 div.sk-toggleable {background-color: white;}#sk-container-id-7 label.sk-toggleable__label {cursor: pointer;display: block;width: 100%;margin-bottom: 0;padding: 0.3em;box-sizing: border-box;text-align: center;}#sk-container-id-7 label.sk-toggleable__label-arrow:before {content: \"▸\";float: left;margin-right: 0.25em;color: #696969;}#sk-container-id-7 label.sk-toggleable__label-arrow:hover:before {color: black;}#sk-container-id-7 div.sk-estimator:hover label.sk-toggleable__label-arrow:before {color: black;}#sk-container-id-7 div.sk-toggleable__content {max-height: 0;max-width: 0;overflow: hidden;text-align: left;background-color: #f0f8ff;}#sk-container-id-7 div.sk-toggleable__content pre {margin: 0.2em;color: black;border-radius: 0.25em;background-color: #f0f8ff;}#sk-container-id-7 input.sk-toggleable__control:checked~div.sk-toggleable__content {max-height: 200px;max-width: 100%;overflow: auto;}#sk-container-id-7 input.sk-toggleable__control:checked~label.sk-toggleable__label-arrow:before {content: \"▾\";}#sk-container-id-7 div.sk-estimator input.sk-toggleable__control:checked~label.sk-toggleable__label {background-color: #d4ebff;}#sk-container-id-7 div.sk-label input.sk-toggleable__control:checked~label.sk-toggleable__label {background-color: #d4ebff;}#sk-container-id-7 input.sk-hidden--visually {border: 0;clip: rect(1px 1px 1px 1px);clip: rect(1px, 1px, 1px, 1px);height: 1px;margin: -1px;overflow: hidden;padding: 0;position: absolute;width: 1px;}#sk-container-id-7 div.sk-estimator {font-family: monospace;background-color: #f0f8ff;border: 1px dotted black;border-radius: 0.25em;box-sizing: border-box;margin-bottom: 0.5em;}#sk-container-id-7 div.sk-estimator:hover {background-color: #d4ebff;}#sk-container-id-7 div.sk-parallel-item::after {content: \"\";width: 100%;border-bottom: 1px solid gray;flex-grow: 1;}#sk-container-id-7 div.sk-label:hover label.sk-toggleable__label {background-color: #d4ebff;}#sk-container-id-7 div.sk-serial::before {content: \"\";position: absolute;border-left: 1px solid gray;box-sizing: border-box;top: 0;bottom: 0;left: 50%;z-index: 0;}#sk-container-id-7 div.sk-serial {display: flex;flex-direction: column;align-items: center;background-color: white;padding-right: 0.2em;padding-left: 0.2em;position: relative;}#sk-container-id-7 div.sk-item {position: relative;z-index: 1;}#sk-container-id-7 div.sk-parallel {display: flex;align-items: stretch;justify-content: center;background-color: white;position: relative;}#sk-container-id-7 div.sk-item::before, #sk-container-id-7 div.sk-parallel-item::before {content: \"\";position: absolute;border-left: 1px solid gray;box-sizing: border-box;top: 0;bottom: 0;left: 50%;z-index: -1;}#sk-container-id-7 div.sk-parallel-item {display: flex;flex-direction: column;z-index: 1;position: relative;background-color: white;}#sk-container-id-7 div.sk-parallel-item:first-child::after {align-self: flex-end;width: 50%;}#sk-container-id-7 div.sk-parallel-item:last-child::after {align-self: flex-start;width: 50%;}#sk-container-id-7 div.sk-parallel-item:only-child::after {width: 0;}#sk-container-id-7 div.sk-dashed-wrapped {border: 1px dashed gray;margin: 0 0.4em 0.5em 0.4em;box-sizing: border-box;padding-bottom: 0.4em;background-color: white;}#sk-container-id-7 div.sk-label label {font-family: monospace;font-weight: bold;display: inline-block;line-height: 1.2em;}#sk-container-id-7 div.sk-label-container {text-align: center;}#sk-container-id-7 div.sk-container {/* jupyter's `normalize.less` sets `[hidden] { display: none; }` but bootstrap.min.css set `[hidden] { display: none !important; }` so we also need the `!important` here to be able to override the default hidden behavior on the sphinx rendered scikit-learn.org. See: https://github.com/scikit-learn/scikit-learn/issues/21755 */display: inline-block !important;position: relative;}#sk-container-id-7 div.sk-text-repr-fallback {display: none;}</style><div id=\"sk-container-id-7\" class=\"sk-top-container\"><div class=\"sk-text-repr-fallback\"><pre>GridSearchCV(cv=KFold(n_splits=10, random_state=0, shuffle=True),\n",
              "             estimator=DecisionTreeClassifier(class_weight=&#x27;balanced&#x27;,\n",
              "                                              random_state=0),\n",
              "             n_jobs=-1,\n",
              "             param_grid={&#x27;criterion&#x27;: [&#x27;gini&#x27;, &#x27;entropy&#x27;],\n",
              "                         &#x27;max_depth&#x27;: [4, 6, 8, 10, 12],\n",
              "                         &#x27;min_samples_split&#x27;: [3, 4, 5]})</pre><b>In a Jupyter environment, please rerun this cell to show the HTML representation or trust the notebook. <br />On GitHub, the HTML representation is unable to render, please try loading this page with nbviewer.org.</b></div><div class=\"sk-container\" hidden><div class=\"sk-item sk-dashed-wrapped\"><div class=\"sk-label-container\"><div class=\"sk-label sk-toggleable\"><input class=\"sk-toggleable__control sk-hidden--visually\" id=\"sk-estimator-id-19\" type=\"checkbox\" ><label for=\"sk-estimator-id-19\" class=\"sk-toggleable__label sk-toggleable__label-arrow\">GridSearchCV</label><div class=\"sk-toggleable__content\"><pre>GridSearchCV(cv=KFold(n_splits=10, random_state=0, shuffle=True),\n",
              "             estimator=DecisionTreeClassifier(class_weight=&#x27;balanced&#x27;,\n",
              "                                              random_state=0),\n",
              "             n_jobs=-1,\n",
              "             param_grid={&#x27;criterion&#x27;: [&#x27;gini&#x27;, &#x27;entropy&#x27;],\n",
              "                         &#x27;max_depth&#x27;: [4, 6, 8, 10, 12],\n",
              "                         &#x27;min_samples_split&#x27;: [3, 4, 5]})</pre></div></div></div><div class=\"sk-parallel\"><div class=\"sk-parallel-item\"><div class=\"sk-item\"><div class=\"sk-label-container\"><div class=\"sk-label sk-toggleable\"><input class=\"sk-toggleable__control sk-hidden--visually\" id=\"sk-estimator-id-20\" type=\"checkbox\" ><label for=\"sk-estimator-id-20\" class=\"sk-toggleable__label sk-toggleable__label-arrow\">estimator: DecisionTreeClassifier</label><div class=\"sk-toggleable__content\"><pre>DecisionTreeClassifier(class_weight=&#x27;balanced&#x27;, random_state=0)</pre></div></div></div><div class=\"sk-serial\"><div class=\"sk-item\"><div class=\"sk-estimator sk-toggleable\"><input class=\"sk-toggleable__control sk-hidden--visually\" id=\"sk-estimator-id-21\" type=\"checkbox\" ><label for=\"sk-estimator-id-21\" class=\"sk-toggleable__label sk-toggleable__label-arrow\">DecisionTreeClassifier</label><div class=\"sk-toggleable__content\"><pre>DecisionTreeClassifier(class_weight=&#x27;balanced&#x27;, random_state=0)</pre></div></div></div></div></div></div></div></div></div></div>"
            ]
          },
          "metadata": {},
          "execution_count": 375
        }
      ]
    },
    {
      "cell_type": "markdown",
      "source": [
        "Ahora almacenamos el mejor modelo y obtendremos los mejores valores de los hiperparámetros usando `grid.best_params_`:"
      ],
      "metadata": {
        "id": "fauGF3y0eyZJ"
      }
    },
    {
      "cell_type": "code",
      "source": [
        "print(\"Mejores parámetros: {}\".format(grid.best_params_))"
      ],
      "metadata": {
        "colab": {
          "base_uri": "https://localhost:8080/"
        },
        "id": "zonbsOgSe1yx",
        "outputId": "9aeec220-947b-4c36-d23c-614307b16d87"
      },
      "execution_count": 376,
      "outputs": [
        {
          "output_type": "stream",
          "name": "stdout",
          "text": [
            "Mejores parámetros: {'criterion': 'entropy', 'max_depth': 4, 'min_samples_split': 3}\n"
          ]
        }
      ]
    },
    {
      "cell_type": "code",
      "source": [
        "mejor_modelo_dt = grid.best_estimator_"
      ],
      "metadata": {
        "id": "DJf3kp7sfFeH"
      },
      "execution_count": 377,
      "outputs": []
    },
    {
      "cell_type": "markdown",
      "source": [
        "## Evaluación del mejor modelo"
      ],
      "metadata": {
        "id": "h--bW_SefcbR"
      }
    },
    {
      "cell_type": "markdown",
      "source": [
        "Empezaremos separando la variable objetivo de las variables descriptoras en el conjunto de pruebas:"
      ],
      "metadata": {
        "id": "oeOGh3QXfrNm"
      }
    },
    {
      "cell_type": "code",
      "source": [
        "x_test = test.drop(['Potabilidad'],axis=1)\n",
        "y_test = test['Potabilidad']"
      ],
      "metadata": {
        "id": "BMSEJGTAfug9"
      },
      "execution_count": 378,
      "outputs": []
    },
    {
      "cell_type": "markdown",
      "source": [
        "Realizamos las transformaciones sobre el conjunto de validacion"
      ],
      "metadata": {
        "id": "A3mL3TY4f67Q"
      }
    },
    {
      "cell_type": "code",
      "source": [
        "x_test_transformed = pipeline.transform(x_test)\n",
        "x_test_transformed"
      ],
      "metadata": {
        "colab": {
          "base_uri": "https://localhost:8080/"
        },
        "id": "Y7os9oYwf-2q",
        "outputId": "c46e3243-bc4f-48b2-d726-4783648140a7"
      },
      "execution_count": 379,
      "outputs": [
        {
          "output_type": "execute_result",
          "data": {
            "text/plain": [
              "array([[7.13000000e+00, 1.73690000e+02, 1.93095700e+04, ...,\n",
              "        7.27000000e+00, 8.87900000e+01, 3.40000000e+00],\n",
              "       [9.85000000e+00, 2.08740000e+02, 3.52892400e+04, ...,\n",
              "        1.01100000e+01, 5.08900000e+01, 4.52000000e+00],\n",
              "       [7.39000000e+00, 1.78340000e+02, 1.29286400e+04, ...,\n",
              "        1.81100000e+01, 4.04000000e+01, 3.85000000e+00],\n",
              "       ...,\n",
              "       [9.16000000e+00, 2.41380000e+02, 2.81708900e+04, ...,\n",
              "        8.12000000e+00, 4.82600000e+01, 3.54000000e+00],\n",
              "       [6.49000000e+00, 1.72860000e+02, 1.46255600e+04, ...,\n",
              "        1.02100000e+01, 5.69500000e+01, 4.67000000e+00],\n",
              "       [7.09361845e+00, 1.39960000e+02, 3.14211400e+04, ...,\n",
              "        1.75400000e+01, 5.48000000e+01, 4.54000000e+00]])"
            ]
          },
          "metadata": {},
          "execution_count": 379
        }
      ]
    },
    {
      "cell_type": "markdown",
      "source": [
        "Realizamos las predicciones\n"
      ],
      "metadata": {
        "id": "V5l1mGRdgDwK"
      }
    },
    {
      "cell_type": "code",
      "source": [
        "y_pred = mejor_modelo_dt.predict(x_test_transformed)"
      ],
      "metadata": {
        "id": "X73T4nMdgGF0"
      },
      "execution_count": 380,
      "outputs": []
    },
    {
      "cell_type": "markdown",
      "source": [
        "Observamos las métricas de desempeño y matriz de confusion"
      ],
      "metadata": {
        "id": "_6s6IoXohSUK"
      }
    },
    {
      "cell_type": "code",
      "source": [
        "print(confusion_matrix(y_test, y_pred))"
      ],
      "metadata": {
        "colab": {
          "base_uri": "https://localhost:8080/"
        },
        "id": "kDPSnFZigioe",
        "outputId": "f77241ad-e990-4e3a-8c05-02088047efd0"
      },
      "execution_count": 381,
      "outputs": [
        {
          "output_type": "stream",
          "name": "stdout",
          "text": [
            "[[390  13]\n",
            " [231  22]]\n"
          ]
        }
      ]
    },
    {
      "cell_type": "code",
      "source": [
        "dt_cr = classification_report(y_test, y_pred, output_dict= True)\n",
        "print(classification_report(y_test, y_pred))"
      ],
      "metadata": {
        "colab": {
          "base_uri": "https://localhost:8080/"
        },
        "id": "1u0Oom6cgNID",
        "outputId": "1e59681f-affe-4a3e-85dc-b419489a604d"
      },
      "execution_count": 382,
      "outputs": [
        {
          "output_type": "stream",
          "name": "stdout",
          "text": [
            "              precision    recall  f1-score   support\n",
            "\n",
            "           0       0.63      0.97      0.76       403\n",
            "           1       0.63      0.09      0.15       253\n",
            "\n",
            "    accuracy                           0.63       656\n",
            "   macro avg       0.63      0.53      0.46       656\n",
            "weighted avg       0.63      0.63      0.53       656\n",
            "\n"
          ]
        }
      ]
    },
    {
      "cell_type": "markdown",
      "source": [
        "Con estas metricas se puede evidenciar que los datos que tenemos no estan bien balanceados, tenemos 403 para clase **NO** y 253 para clase **SI**. Como la clase 1 no tiene tanta representación, tiene una sensibilidad y un recall bastante baja. Teniendo en cuenta lo anterior podemos afirmar que el modelo no predice bien la clase 1 o **SI**. Sin embargo **el modelo construido clasifica bien la clase 0 o NO** con un 76% de sensibilidad."
      ],
      "metadata": {
        "id": "J70_lYU7h4xJ"
      }
    },
    {
      "cell_type": "markdown",
      "source": [
        "# 4. Construcción de un modelo utilizando el algoritmo K-vecinos más cercanos"
      ],
      "metadata": {
        "id": "-GFiNhMB9fts"
      }
    },
    {
      "cell_type": "markdown",
      "source": [
        "## Técnicas de validación para el ajuste de hiperparámetros"
      ],
      "metadata": {
        "id": "hUqYU32nSTMO"
      }
    },
    {
      "cell_type": "markdown",
      "source": [
        "### Division y transformacion de datos\n",
        "Hacemos la division de datos para train y test usando la semilla 77"
      ],
      "metadata": {
        "id": "GE-OngJAW_wO"
      }
    },
    {
      "cell_type": "code",
      "source": [
        "train, test = train_test_split(data, test_size=0.2, random_state=77)\n",
        "train.head()"
      ],
      "metadata": {
        "colab": {
          "base_uri": "https://localhost:8080/",
          "height": 0
        },
        "outputId": "c114bc17-d3e9-44d3-ed16-11ab2fcbcdef",
        "id": "-AJg6GyrW_wr"
      },
      "execution_count": 383,
      "outputs": [
        {
          "output_type": "execute_result",
          "data": {
            "text/plain": [
              "        pH  Dureza   Sólidos  Cloraminas  Sulfatos  Conductividad  \\\n",
              "3126  6.67  155.71  30610.05        8.17    337.17         425.69   \n",
              "3147  6.26  130.37   9734.68       10.28    320.36         399.35   \n",
              "2844  6.66  182.39  16828.88        7.07    355.90         434.66   \n",
              "1916  8.02  255.26  30854.83        8.76       NaN         442.50   \n",
              "1053  8.92  207.52  13291.92        8.56    357.94         468.54   \n",
              "\n",
              "      Carbono_orgánico  Trihalometanos  Turbidez  Potabilidad  \n",
              "3126             15.10           79.78      4.90            1  \n",
              "3147             10.85           43.42      3.93            1  \n",
              "2844             16.62           69.41      3.97            1  \n",
              "1916             11.09           93.27      5.32            1  \n",
              "1053             15.69          107.28      4.08            0  "
            ],
            "text/html": [
              "\n",
              "  <div id=\"df-ad807505-a956-4d75-90a6-f19d8e9d54e9\" class=\"colab-df-container\">\n",
              "    <div>\n",
              "<style scoped>\n",
              "    .dataframe tbody tr th:only-of-type {\n",
              "        vertical-align: middle;\n",
              "    }\n",
              "\n",
              "    .dataframe tbody tr th {\n",
              "        vertical-align: top;\n",
              "    }\n",
              "\n",
              "    .dataframe thead th {\n",
              "        text-align: right;\n",
              "    }\n",
              "</style>\n",
              "<table border=\"1\" class=\"dataframe\">\n",
              "  <thead>\n",
              "    <tr style=\"text-align: right;\">\n",
              "      <th></th>\n",
              "      <th>pH</th>\n",
              "      <th>Dureza</th>\n",
              "      <th>Sólidos</th>\n",
              "      <th>Cloraminas</th>\n",
              "      <th>Sulfatos</th>\n",
              "      <th>Conductividad</th>\n",
              "      <th>Carbono_orgánico</th>\n",
              "      <th>Trihalometanos</th>\n",
              "      <th>Turbidez</th>\n",
              "      <th>Potabilidad</th>\n",
              "    </tr>\n",
              "  </thead>\n",
              "  <tbody>\n",
              "    <tr>\n",
              "      <th>3126</th>\n",
              "      <td>6.67</td>\n",
              "      <td>155.71</td>\n",
              "      <td>30610.05</td>\n",
              "      <td>8.17</td>\n",
              "      <td>337.17</td>\n",
              "      <td>425.69</td>\n",
              "      <td>15.10</td>\n",
              "      <td>79.78</td>\n",
              "      <td>4.90</td>\n",
              "      <td>1</td>\n",
              "    </tr>\n",
              "    <tr>\n",
              "      <th>3147</th>\n",
              "      <td>6.26</td>\n",
              "      <td>130.37</td>\n",
              "      <td>9734.68</td>\n",
              "      <td>10.28</td>\n",
              "      <td>320.36</td>\n",
              "      <td>399.35</td>\n",
              "      <td>10.85</td>\n",
              "      <td>43.42</td>\n",
              "      <td>3.93</td>\n",
              "      <td>1</td>\n",
              "    </tr>\n",
              "    <tr>\n",
              "      <th>2844</th>\n",
              "      <td>6.66</td>\n",
              "      <td>182.39</td>\n",
              "      <td>16828.88</td>\n",
              "      <td>7.07</td>\n",
              "      <td>355.90</td>\n",
              "      <td>434.66</td>\n",
              "      <td>16.62</td>\n",
              "      <td>69.41</td>\n",
              "      <td>3.97</td>\n",
              "      <td>1</td>\n",
              "    </tr>\n",
              "    <tr>\n",
              "      <th>1916</th>\n",
              "      <td>8.02</td>\n",
              "      <td>255.26</td>\n",
              "      <td>30854.83</td>\n",
              "      <td>8.76</td>\n",
              "      <td>NaN</td>\n",
              "      <td>442.50</td>\n",
              "      <td>11.09</td>\n",
              "      <td>93.27</td>\n",
              "      <td>5.32</td>\n",
              "      <td>1</td>\n",
              "    </tr>\n",
              "    <tr>\n",
              "      <th>1053</th>\n",
              "      <td>8.92</td>\n",
              "      <td>207.52</td>\n",
              "      <td>13291.92</td>\n",
              "      <td>8.56</td>\n",
              "      <td>357.94</td>\n",
              "      <td>468.54</td>\n",
              "      <td>15.69</td>\n",
              "      <td>107.28</td>\n",
              "      <td>4.08</td>\n",
              "      <td>0</td>\n",
              "    </tr>\n",
              "  </tbody>\n",
              "</table>\n",
              "</div>\n",
              "    <div class=\"colab-df-buttons\">\n",
              "\n",
              "  <div class=\"colab-df-container\">\n",
              "    <button class=\"colab-df-convert\" onclick=\"convertToInteractive('df-ad807505-a956-4d75-90a6-f19d8e9d54e9')\"\n",
              "            title=\"Convert this dataframe to an interactive table.\"\n",
              "            style=\"display:none;\">\n",
              "\n",
              "  <svg xmlns=\"http://www.w3.org/2000/svg\" height=\"24px\" viewBox=\"0 -960 960 960\">\n",
              "    <path d=\"M120-120v-720h720v720H120Zm60-500h600v-160H180v160Zm220 220h160v-160H400v160Zm0 220h160v-160H400v160ZM180-400h160v-160H180v160Zm440 0h160v-160H620v160ZM180-180h160v-160H180v160Zm440 0h160v-160H620v160Z\"/>\n",
              "  </svg>\n",
              "    </button>\n",
              "\n",
              "  <style>\n",
              "    .colab-df-container {\n",
              "      display:flex;\n",
              "      gap: 12px;\n",
              "    }\n",
              "\n",
              "    .colab-df-convert {\n",
              "      background-color: #E8F0FE;\n",
              "      border: none;\n",
              "      border-radius: 50%;\n",
              "      cursor: pointer;\n",
              "      display: none;\n",
              "      fill: #1967D2;\n",
              "      height: 32px;\n",
              "      padding: 0 0 0 0;\n",
              "      width: 32px;\n",
              "    }\n",
              "\n",
              "    .colab-df-convert:hover {\n",
              "      background-color: #E2EBFA;\n",
              "      box-shadow: 0px 1px 2px rgba(60, 64, 67, 0.3), 0px 1px 3px 1px rgba(60, 64, 67, 0.15);\n",
              "      fill: #174EA6;\n",
              "    }\n",
              "\n",
              "    .colab-df-buttons div {\n",
              "      margin-bottom: 4px;\n",
              "    }\n",
              "\n",
              "    [theme=dark] .colab-df-convert {\n",
              "      background-color: #3B4455;\n",
              "      fill: #D2E3FC;\n",
              "    }\n",
              "\n",
              "    [theme=dark] .colab-df-convert:hover {\n",
              "      background-color: #434B5C;\n",
              "      box-shadow: 0px 1px 3px 1px rgba(0, 0, 0, 0.15);\n",
              "      filter: drop-shadow(0px 1px 2px rgba(0, 0, 0, 0.3));\n",
              "      fill: #FFFFFF;\n",
              "    }\n",
              "  </style>\n",
              "\n",
              "    <script>\n",
              "      const buttonEl =\n",
              "        document.querySelector('#df-ad807505-a956-4d75-90a6-f19d8e9d54e9 button.colab-df-convert');\n",
              "      buttonEl.style.display =\n",
              "        google.colab.kernel.accessAllowed ? 'block' : 'none';\n",
              "\n",
              "      async function convertToInteractive(key) {\n",
              "        const element = document.querySelector('#df-ad807505-a956-4d75-90a6-f19d8e9d54e9');\n",
              "        const dataTable =\n",
              "          await google.colab.kernel.invokeFunction('convertToInteractive',\n",
              "                                                    [key], {});\n",
              "        if (!dataTable) return;\n",
              "\n",
              "        const docLinkHtml = 'Like what you see? Visit the ' +\n",
              "          '<a target=\"_blank\" href=https://colab.research.google.com/notebooks/data_table.ipynb>data table notebook</a>'\n",
              "          + ' to learn more about interactive tables.';\n",
              "        element.innerHTML = '';\n",
              "        dataTable['output_type'] = 'display_data';\n",
              "        await google.colab.output.renderOutput(dataTable, element);\n",
              "        const docLink = document.createElement('div');\n",
              "        docLink.innerHTML = docLinkHtml;\n",
              "        element.appendChild(docLink);\n",
              "      }\n",
              "    </script>\n",
              "  </div>\n",
              "\n",
              "\n",
              "<div id=\"df-a7e7ca3a-63a5-48ee-8167-6a77c7d309f5\">\n",
              "  <button class=\"colab-df-quickchart\" onclick=\"quickchart('df-a7e7ca3a-63a5-48ee-8167-6a77c7d309f5')\"\n",
              "            title=\"Suggest charts\"\n",
              "            style=\"display:none;\">\n",
              "\n",
              "<svg xmlns=\"http://www.w3.org/2000/svg\" height=\"24px\"viewBox=\"0 0 24 24\"\n",
              "     width=\"24px\">\n",
              "    <g>\n",
              "        <path d=\"M19 3H5c-1.1 0-2 .9-2 2v14c0 1.1.9 2 2 2h14c1.1 0 2-.9 2-2V5c0-1.1-.9-2-2-2zM9 17H7v-7h2v7zm4 0h-2V7h2v10zm4 0h-2v-4h2v4z\"/>\n",
              "    </g>\n",
              "</svg>\n",
              "  </button>\n",
              "\n",
              "<style>\n",
              "  .colab-df-quickchart {\n",
              "      --bg-color: #E8F0FE;\n",
              "      --fill-color: #1967D2;\n",
              "      --hover-bg-color: #E2EBFA;\n",
              "      --hover-fill-color: #174EA6;\n",
              "      --disabled-fill-color: #AAA;\n",
              "      --disabled-bg-color: #DDD;\n",
              "  }\n",
              "\n",
              "  [theme=dark] .colab-df-quickchart {\n",
              "      --bg-color: #3B4455;\n",
              "      --fill-color: #D2E3FC;\n",
              "      --hover-bg-color: #434B5C;\n",
              "      --hover-fill-color: #FFFFFF;\n",
              "      --disabled-bg-color: #3B4455;\n",
              "      --disabled-fill-color: #666;\n",
              "  }\n",
              "\n",
              "  .colab-df-quickchart {\n",
              "    background-color: var(--bg-color);\n",
              "    border: none;\n",
              "    border-radius: 50%;\n",
              "    cursor: pointer;\n",
              "    display: none;\n",
              "    fill: var(--fill-color);\n",
              "    height: 32px;\n",
              "    padding: 0;\n",
              "    width: 32px;\n",
              "  }\n",
              "\n",
              "  .colab-df-quickchart:hover {\n",
              "    background-color: var(--hover-bg-color);\n",
              "    box-shadow: 0 1px 2px rgba(60, 64, 67, 0.3), 0 1px 3px 1px rgba(60, 64, 67, 0.15);\n",
              "    fill: var(--button-hover-fill-color);\n",
              "  }\n",
              "\n",
              "  .colab-df-quickchart-complete:disabled,\n",
              "  .colab-df-quickchart-complete:disabled:hover {\n",
              "    background-color: var(--disabled-bg-color);\n",
              "    fill: var(--disabled-fill-color);\n",
              "    box-shadow: none;\n",
              "  }\n",
              "\n",
              "  .colab-df-spinner {\n",
              "    border: 2px solid var(--fill-color);\n",
              "    border-color: transparent;\n",
              "    border-bottom-color: var(--fill-color);\n",
              "    animation:\n",
              "      spin 1s steps(1) infinite;\n",
              "  }\n",
              "\n",
              "  @keyframes spin {\n",
              "    0% {\n",
              "      border-color: transparent;\n",
              "      border-bottom-color: var(--fill-color);\n",
              "      border-left-color: var(--fill-color);\n",
              "    }\n",
              "    20% {\n",
              "      border-color: transparent;\n",
              "      border-left-color: var(--fill-color);\n",
              "      border-top-color: var(--fill-color);\n",
              "    }\n",
              "    30% {\n",
              "      border-color: transparent;\n",
              "      border-left-color: var(--fill-color);\n",
              "      border-top-color: var(--fill-color);\n",
              "      border-right-color: var(--fill-color);\n",
              "    }\n",
              "    40% {\n",
              "      border-color: transparent;\n",
              "      border-right-color: var(--fill-color);\n",
              "      border-top-color: var(--fill-color);\n",
              "    }\n",
              "    60% {\n",
              "      border-color: transparent;\n",
              "      border-right-color: var(--fill-color);\n",
              "    }\n",
              "    80% {\n",
              "      border-color: transparent;\n",
              "      border-right-color: var(--fill-color);\n",
              "      border-bottom-color: var(--fill-color);\n",
              "    }\n",
              "    90% {\n",
              "      border-color: transparent;\n",
              "      border-bottom-color: var(--fill-color);\n",
              "    }\n",
              "  }\n",
              "</style>\n",
              "\n",
              "  <script>\n",
              "    async function quickchart(key) {\n",
              "      const quickchartButtonEl =\n",
              "        document.querySelector('#' + key + ' button');\n",
              "      quickchartButtonEl.disabled = true;  // To prevent multiple clicks.\n",
              "      quickchartButtonEl.classList.add('colab-df-spinner');\n",
              "      try {\n",
              "        const charts = await google.colab.kernel.invokeFunction(\n",
              "            'suggestCharts', [key], {});\n",
              "      } catch (error) {\n",
              "        console.error('Error during call to suggestCharts:', error);\n",
              "      }\n",
              "      quickchartButtonEl.classList.remove('colab-df-spinner');\n",
              "      quickchartButtonEl.classList.add('colab-df-quickchart-complete');\n",
              "    }\n",
              "    (() => {\n",
              "      let quickchartButtonEl =\n",
              "        document.querySelector('#df-a7e7ca3a-63a5-48ee-8167-6a77c7d309f5 button');\n",
              "      quickchartButtonEl.style.display =\n",
              "        google.colab.kernel.accessAllowed ? 'block' : 'none';\n",
              "    })();\n",
              "  </script>\n",
              "</div>\n",
              "\n",
              "    </div>\n",
              "  </div>\n"
            ],
            "application/vnd.google.colaboratory.intrinsic+json": {
              "type": "dataframe",
              "variable_name": "train",
              "summary": "{\n  \"name\": \"train\",\n  \"rows\": 2620,\n  \"fields\": [\n    {\n      \"column\": \"pH\",\n      \"properties\": {\n        \"dtype\": \"number\",\n        \"std\": 1.5768286822177113,\n        \"min\": 0.0,\n        \"max\": 14.0,\n        \"num_unique_values\": 655,\n        \"samples\": [\n          5.87,\n          6.71,\n          10.38\n        ],\n        \"semantic_type\": \"\",\n        \"description\": \"\"\n      }\n    },\n    {\n      \"column\": \"Dureza\",\n      \"properties\": {\n        \"dtype\": \"number\",\n        \"std\": 33.191076446845734,\n        \"min\": 47.43,\n        \"max\": 317.34,\n        \"num_unique_values\": 2331,\n        \"samples\": [\n          179.58,\n          189.83,\n          178.2\n        ],\n        \"semantic_type\": \"\",\n        \"description\": \"\"\n      }\n    },\n    {\n      \"column\": \"S\\u00f3lidos\",\n      \"properties\": {\n        \"dtype\": \"number\",\n        \"std\": 8780.06738833851,\n        \"min\": 320.94,\n        \"max\": 61227.2,\n        \"num_unique_values\": 2620,\n        \"samples\": [\n          19968.68,\n          22331.24,\n          15149.49\n        ],\n        \"semantic_type\": \"\",\n        \"description\": \"\"\n      }\n    },\n    {\n      \"column\": \"Cloraminas\",\n      \"properties\": {\n        \"dtype\": \"number\",\n        \"std\": 1.594267469374804,\n        \"min\": 0.35,\n        \"max\": 13.13,\n        \"num_unique_values\": 680,\n        \"samples\": [\n          5.75,\n          2.73,\n          5.48\n        ],\n        \"semantic_type\": \"\",\n        \"description\": \"\"\n      }\n    },\n    {\n      \"column\": \"Sulfatos\",\n      \"properties\": {\n        \"dtype\": \"number\",\n        \"std\": 40.974237172750286,\n        \"min\": 129.0,\n        \"max\": 476.54,\n        \"num_unique_values\": 1875,\n        \"samples\": [\n          417.34,\n          346.4,\n          416.89\n        ],\n        \"semantic_type\": \"\",\n        \"description\": \"\"\n      }\n    },\n    {\n      \"column\": \"Conductividad\",\n      \"properties\": {\n        \"dtype\": \"number\",\n        \"std\": 80.90803631155556,\n        \"min\": 232.61,\n        \"max\": 753.34,\n        \"num_unique_values\": 2502,\n        \"samples\": [\n          330.55,\n          287.29,\n          428.41\n        ],\n        \"semantic_type\": \"\",\n        \"description\": \"\"\n      }\n    },\n    {\n      \"column\": \"Carbono_org\\u00e1nico\",\n      \"properties\": {\n        \"dtype\": \"number\",\n        \"std\": 3.286234336191567,\n        \"min\": 2.2,\n        \"max\": 27.01,\n        \"num_unique_values\": 1135,\n        \"samples\": [\n          14.73,\n          13.47,\n          10.62\n        ],\n        \"semantic_type\": \"\",\n        \"description\": \"\"\n      }\n    },\n    {\n      \"column\": \"Trihalometanos\",\n      \"properties\": {\n        \"dtype\": \"number\",\n        \"std\": 16.108806158785264,\n        \"min\": 0.74,\n        \"max\": 120.03,\n        \"num_unique_values\": 2012,\n        \"samples\": [\n          82.35,\n          89.91,\n          85.33\n        ],\n        \"semantic_type\": \"\",\n        \"description\": \"\"\n      }\n    },\n    {\n      \"column\": \"Turbidez\",\n      \"properties\": {\n        \"dtype\": \"number\",\n        \"std\": 0.7876530587185117,\n        \"min\": 1.45,\n        \"max\": 6.74,\n        \"num_unique_values\": 391,\n        \"samples\": [\n          3.68,\n          4.48,\n          4.07\n        ],\n        \"semantic_type\": \"\",\n        \"description\": \"\"\n      }\n    },\n    {\n      \"column\": \"Potabilidad\",\n      \"properties\": {\n        \"dtype\": \"number\",\n        \"std\": 0,\n        \"min\": 0,\n        \"max\": 1,\n        \"num_unique_values\": 2,\n        \"samples\": [\n          0,\n          1\n        ],\n        \"semantic_type\": \"\",\n        \"description\": \"\"\n      }\n    }\n  ]\n}"
            }
          },
          "metadata": {},
          "execution_count": 383
        }
      ]
    },
    {
      "cell_type": "markdown",
      "source": [
        "Se realiza la separacion de la variable objetivo Potabilidad"
      ],
      "metadata": {
        "id": "7lw5pAnoW_ws"
      }
    },
    {
      "cell_type": "code",
      "source": [
        "x_train = train.drop(['Potabilidad'],axis=1)\n",
        "y_train = train['Potabilidad']"
      ],
      "metadata": {
        "id": "DrndLMXHW_wt"
      },
      "execution_count": 384,
      "outputs": []
    },
    {
      "cell_type": "markdown",
      "source": [
        "Posteriormente, vamos a utilizar el pipeline de preprocesamiento para transformar el conjunto de datos mediante la función fit_transform()"
      ],
      "metadata": {
        "id": "_GI3R7cNW_wt"
      }
    },
    {
      "cell_type": "code",
      "source": [
        "pipeline = Pipeline(steps_knn)\n",
        "x_train_transformed = pipeline.fit_transform(x_train)\n",
        "x_train_transformed"
      ],
      "metadata": {
        "colab": {
          "base_uri": "https://localhost:8080/"
        },
        "outputId": "a57871bd-31c4-4016-fac2-24d99e321ac4",
        "id": "V02k2wJ-W_wu"
      },
      "execution_count": 385,
      "outputs": [
        {
          "output_type": "execute_result",
          "data": {
            "text/plain": [
              "array([[-0.29106763, -1.23946047,  0.98740808, ...,  0.24874044,\n",
              "         0.85824271,  1.18622635],\n",
              "       [-0.57277804, -2.00306443, -1.39063232, ..., -1.04478001,\n",
              "        -1.45847581, -0.04551541],\n",
              "       [-0.29793861, -0.43547651, -0.58248884, ...,  0.71136422,\n",
              "         0.19750643,  0.00527806],\n",
              "       ...,\n",
              "       [ 0.27922418,  1.20142036, -0.0234468 , ...,  1.96531816,\n",
              "         0.12741869,  0.34813402],\n",
              "       [ 1.75648609,  0.25218893, -1.53035382, ..., -0.5578076 ,\n",
              "        -0.79073076, -0.9851947 ],\n",
              "       [-1.52784504, -2.48250164,  1.24354042, ...,  0.56831608,\n",
              "        -1.31638884,  1.40209862]])"
            ]
          },
          "metadata": {},
          "execution_count": 385
        }
      ]
    },
    {
      "cell_type": "markdown",
      "source": [
        "### Buscar el mejor valor de k\n",
        "Para este modelo intentaremos buscar el mejor valor de k, representado por el parámetro n_neighbors de KNeighborsClassifier, mediante una curva de validación. Construiremos la variable k_values usando la funcion de numpy ``linspace()`` para los valores de K: [1, 2, 3, 4, 5]"
      ],
      "metadata": {
        "id": "KHcRzanwTfPd"
      }
    },
    {
      "cell_type": "code",
      "source": [
        "k_values = np.linspace(1, 5, 5, dtype='int64')\n",
        "k_values"
      ],
      "metadata": {
        "colab": {
          "base_uri": "https://localhost:8080/"
        },
        "id": "zVMosR61Tp4E",
        "outputId": "363805ed-3b96-4b02-8fab-1ac1e8b8e109"
      },
      "execution_count": 386,
      "outputs": [
        {
          "output_type": "execute_result",
          "data": {
            "text/plain": [
              "array([1, 2, 3, 4, 5])"
            ]
          },
          "metadata": {},
          "execution_count": 386
        }
      ]
    },
    {
      "cell_type": "markdown",
      "source": [
        "Al ser un único hiperparámetro, vamos a utilizar la función `validation_curve()` para realizar una curva de validación con el parámetro _k_. Utilizaremos el conjunto de entrenamiento representado con las variables `x_train_transformed` y `y_train`, modificando el parámetro `n_neighbors` del modelo `KNeighborsClassifier`. Adicionalmente, utilizaremos una validación cruzada de 10 subconjuntos, almacenando los valores de exactitud en las variables `train_scores` y `val_scores`:"
      ],
      "metadata": {
        "id": "9wXtYcFpUNRH"
      }
    },
    {
      "cell_type": "code",
      "source": [
        "train_scores, val_scores = validation_curve(estimator=KNeighborsClassifier(),\n",
        "                                            X=x_train_transformed,\n",
        "                                            y=y_train,\n",
        "                                            param_name='n_neighbors',\n",
        "                                            param_range=k_values,\n",
        "                                            scoring='accuracy',\n",
        "                                            cv=10)"
      ],
      "metadata": {
        "id": "tq-0UA9LUd_e"
      },
      "execution_count": 387,
      "outputs": []
    },
    {
      "cell_type": "markdown",
      "source": [
        "Para graficar estos valores, obtendremos la media y desviación estándar para los conjuntos de entrenamiento y validación generados en la validación cruzada:"
      ],
      "metadata": {
        "id": "j6yYDgjvU15b"
      }
    },
    {
      "cell_type": "code",
      "source": [
        "train_mean = np.mean(train_scores, axis=1)\n",
        "train_std = np.std(train_scores, axis=1)\n",
        "val_mean = np.mean(val_scores, axis=1)\n",
        "val_std = np.std(val_scores, axis=1)"
      ],
      "metadata": {
        "id": "9Be6X8O1U1df"
      },
      "execution_count": 388,
      "outputs": []
    },
    {
      "cell_type": "code",
      "source": [
        "print(train_mean, train_std, val_mean, val_std)"
      ],
      "metadata": {
        "colab": {
          "base_uri": "https://localhost:8080/"
        },
        "id": "c2W0kuJVVTCK",
        "outputId": "636b9862-298a-4bf5-bfb7-c0e1820bb2fb"
      },
      "execution_count": 389,
      "outputs": [
        {
          "output_type": "stream",
          "name": "stdout",
          "text": [
            "[1.         0.78324852 0.79775233 0.74215437 0.75322307] [0.         0.00277089 0.00347882 0.00241395 0.00307252] [0.58740458 0.6351145  0.60419847 0.63053435 0.61832061] [0.03294183 0.01209388 0.01916395 0.01155171 0.01790235]\n"
          ]
        }
      ]
    },
    {
      "cell_type": "markdown",
      "source": [
        "Finalmente, vamos a visualizar la curva de validación utilizando `matplotlib`:"
      ],
      "metadata": {
        "id": "TZcQ-q1vU6bU"
      }
    },
    {
      "cell_type": "code",
      "source": [
        "# Inicializamos la figura\n",
        "plt.figure(figsize=(7,7))\n",
        "\n",
        "# Creamos la curva de validación para el conjunto de entrenamiento\n",
        "plt.plot(k_values, train_mean, color='blue', marker='o', markersize=5, label='Exactitud en entrenamiento')\n",
        "plt.fill_between(k_values, train_mean+train_std, train_mean-train_std, alpha=0.15, color='blue')\n",
        "\n",
        "# Creamos la curva de validación para el conjunto de validación\n",
        "plt.plot(k_values, val_mean, color='green', linestyle='--', marker='s', markersize=5, label='Exactitud en validación')\n",
        "plt.fill_between(k_values, val_mean+val_std, val_mean-val_std, alpha=0.15, color='green')\n",
        "\n",
        "# Agregamos una grilla y etiquetas para los ejes\n",
        "plt.grid()\n",
        "plt.legend(loc='lower right')\n",
        "plt.xlabel('k')\n",
        "plt.ylabel('Exactitud')\n",
        "plt.show()"
      ],
      "metadata": {
        "colab": {
          "base_uri": "https://localhost:8080/",
          "height": 0
        },
        "id": "Fgu2yQMSU9Vy",
        "outputId": "f63d6785-bdfc-479f-ada6-5c7e63598eea"
      },
      "execution_count": 390,
      "outputs": [
        {
          "output_type": "display_data",
          "data": {
            "text/plain": [
              "<Figure size 700x700 with 1 Axes>"
            ],
            "image/png": "[encoded data removed]"
          },
          "metadata": {}
        }
      ]
    },
    {
      "cell_type": "markdown",
      "source": [
        "Un posible criterio de selección del mejor valor de k es el valor de exactitud más alto en el conjunto de validación. Utilizando np.argmax() obtenemos el índice de val_mean en el que se encuentra el valor más alto:"
      ],
      "metadata": {
        "id": "9160fAMiXp55"
      }
    },
    {
      "cell_type": "code",
      "source": [
        "mejor_indice = np.argmax(val_mean)\n",
        "mejor_indice"
      ],
      "metadata": {
        "colab": {
          "base_uri": "https://localhost:8080/"
        },
        "id": "zoUaGHU3XpS7",
        "outputId": "a3f61b81-dc62-43f3-f811-2478be5932fe"
      },
      "execution_count": 391,
      "outputs": [
        {
          "output_type": "execute_result",
          "data": {
            "text/plain": [
              "1"
            ]
          },
          "metadata": {},
          "execution_count": 391
        }
      ]
    },
    {
      "cell_type": "markdown",
      "source": [
        "Como el valor obtenido es un índice, podemos obtener el valor de _k_ obteniendo el elemento correspondiente de la lista `k_values`:"
      ],
      "metadata": {
        "id": "yeCKz5fyX2Re"
      }
    },
    {
      "cell_type": "code",
      "source": [
        "mejor_k = k_values[mejor_indice]\n",
        "mejor_k"
      ],
      "metadata": {
        "colab": {
          "base_uri": "https://localhost:8080/"
        },
        "id": "GQB7e3g1X4iS",
        "outputId": "b55885ab-336a-43c8-ccc8-6557b392491f"
      },
      "execution_count": 392,
      "outputs": [
        {
          "output_type": "execute_result",
          "data": {
            "text/plain": [
              "2"
            ]
          },
          "metadata": {},
          "execution_count": 392
        }
      ]
    },
    {
      "cell_type": "markdown",
      "source": [
        "Crearemos el mejor modelo utilizando ``mejor_k``, y lo entrenaremos sobre el conjunto de entrenamiento mediante la función ``fit()``, almacenando el resultado en la variable ``mejor_modelo``:"
      ],
      "metadata": {
        "id": "Mde_HWYwYGav"
      }
    },
    {
      "cell_type": "code",
      "source": [
        "mejor_modelo = KNeighborsClassifier(n_neighbors=mejor_k).fit(x_train_transformed, y_train)"
      ],
      "metadata": {
        "id": "sPUl00kpYPMY"
      },
      "execution_count": 393,
      "outputs": []
    },
    {
      "cell_type": "markdown",
      "source": [
        "## Evaluación del mejor modelo"
      ],
      "metadata": {
        "id": "3Ej_z2owSam3"
      }
    },
    {
      "cell_type": "markdown",
      "source": [
        "Empezaremos separando la variable objetivo de las variables descriptoras en el conjunto de pruebas:"
      ],
      "metadata": {
        "id": "FhGhkZ3LYjdP"
      }
    },
    {
      "cell_type": "code",
      "source": [
        "x_test = test.drop(['Potabilidad'],axis=1)\n",
        "y_test = test['Potabilidad']"
      ],
      "metadata": {
        "id": "PVDKw2RsYmiV"
      },
      "execution_count": 394,
      "outputs": []
    },
    {
      "cell_type": "markdown",
      "source": [
        "Realizamos las transformaciones sobre el conjunto de validacion"
      ],
      "metadata": {
        "id": "P80YhmXTZKMA"
      }
    },
    {
      "cell_type": "code",
      "source": [
        "x_test_transformed = pipeline.transform(x_test)\n",
        "x_test_transformed"
      ],
      "metadata": {
        "colab": {
          "base_uri": "https://localhost:8080/"
        },
        "id": "bnlr-atNZMuc",
        "outputId": "44eef1a1-dbb4-4ed0-d680-a95bc05c510d"
      },
      "execution_count": 395,
      "outputs": [
        {
          "output_type": "execute_result",
          "data": {
            "text/plain": [
              "array([[ 2.49977103e-02, -6.97645195e-01, -2.99898349e-01, ...,\n",
              "        -2.13438076e+00,  1.43232506e+00, -7.18528953e-01],\n",
              "       [ 1.89390580e+00,  3.58563118e-01,  1.52044308e+00, ...,\n",
              "        -1.27000474e+00, -9.82516315e-01,  7.03688341e-01],\n",
              "       [ 2.03643336e-01, -5.57520554e-01, -1.02678891e+00, ...,\n",
              "         1.16485727e+00, -1.65089853e+00, -1.47102362e-01],\n",
              "       ...,\n",
              "       [ 1.41980779e+00,  1.34214769e+00,  7.09548525e-01, ...,\n",
              "        -1.87567667e+00, -1.15008974e+00, -5.40751791e-01],\n",
              "       [-4.14745369e-01, -7.22656690e-01, -8.33482425e-01, ...,\n",
              "        -1.23956897e+00, -5.96396560e-01,  8.94163871e-01],\n",
              "       [ 6.10266115e-16, -1.71407619e+00,  1.07980428e+00, ...,\n",
              "         9.91373353e-01, -7.33386242e-01,  7.29085078e-01]])"
            ]
          },
          "metadata": {},
          "execution_count": 395
        }
      ]
    },
    {
      "cell_type": "markdown",
      "source": [
        "Realizamos las predicciones"
      ],
      "metadata": {
        "id": "j-DNamC3ZWOp"
      }
    },
    {
      "cell_type": "code",
      "source": [
        "y_pred = mejor_modelo.predict(x_test_transformed)"
      ],
      "metadata": {
        "id": "lmPsBt5YZZHl"
      },
      "execution_count": 396,
      "outputs": []
    },
    {
      "cell_type": "markdown",
      "source": [
        "Observamos las métricas de desempeño y matriz de confusion"
      ],
      "metadata": {
        "id": "LNf_TOqnaj26"
      }
    },
    {
      "cell_type": "code",
      "source": [
        "print(confusion_matrix(y_test, y_pred))"
      ],
      "metadata": {
        "colab": {
          "base_uri": "https://localhost:8080/"
        },
        "id": "3zl45a9Jam8l",
        "outputId": "8925d4cd-f281-422b-ccfa-168cdf9a5831"
      },
      "execution_count": 397,
      "outputs": [
        {
          "output_type": "stream",
          "name": "stdout",
          "text": [
            "[[362  41]\n",
            " [198  55]]\n"
          ]
        }
      ]
    },
    {
      "cell_type": "code",
      "source": [
        "knn_cr = classification_report(y_test, y_pred, output_dict= True)\n",
        "\n",
        "print(classification_report(y_test, y_pred))"
      ],
      "metadata": {
        "colab": {
          "base_uri": "https://localhost:8080/"
        },
        "id": "k-JLXgtTap71",
        "outputId": "acdd7d7d-c298-450e-fc2b-cf66a5d5138b"
      },
      "execution_count": 398,
      "outputs": [
        {
          "output_type": "stream",
          "name": "stdout",
          "text": [
            "              precision    recall  f1-score   support\n",
            "\n",
            "           0       0.65      0.90      0.75       403\n",
            "           1       0.57      0.22      0.32       253\n",
            "\n",
            "    accuracy                           0.64       656\n",
            "   macro avg       0.61      0.56      0.53       656\n",
            "weighted avg       0.62      0.64      0.58       656\n",
            "\n"
          ]
        }
      ]
    },
    {
      "cell_type": "markdown",
      "source": [
        "Nuevamente observamos que los datos que tenemos no estan bien balanceados, tenemos 403 para clase **NO** y 253 para clase **SI**. Como la clase 1 no tiene tanta representación, tiene una sensibilidad y un recall bastante bajas. Teniendo en cuenta lo anterior podemos afirmar que el modelo no predice bien la clase 1 o **SI**. Sin embargo **el modelo construido clasifica bien la clase 0 o NO** con un 75% de sensibilidad."
      ],
      "metadata": {
        "id": "FeebhVyzbt8T"
      }
    },
    {
      "cell_type": "markdown",
      "source": [
        "# 5. Elaboración de una tabla comparativa mostrando el rendimiento sobre test de los dos modelos seleccionados"
      ],
      "metadata": {
        "id": "WFZVyvT99k_A"
      }
    },
    {
      "cell_type": "markdown",
      "source": [
        "A continuacion se muestra una tabla comparativa con los resultados de los 2 modelos creados:"
      ],
      "metadata": {
        "id": "bCxrD4BW9bXE"
      }
    },
    {
      "cell_type": "code",
      "source": [
        "from prettytable import PrettyTable\n",
        "t = PrettyTable(['Modelo','Clase', 'precision', 'recall', 'f1-score', 'accuracy'])\n",
        "t.add_row(['árboles de decisión','NO', '{0:.2f}'.format(dt_cr['0']['precision']), '{0:.2f}'.format(dt_cr['0']['recall']),\n",
        "           '{0:.2f}'.format(dt_cr['0']['f1-score']), '{0:.2f}'.format(dt_cr['accuracy'])])\n",
        "t.add_row(['árboles de decisión','SI', '{0:.2f}'.format(dt_cr['1']['precision']), '{0:.2f}'.format(dt_cr['1']['recall']),\n",
        "           '{0:.2f}'.format(dt_cr['1']['f1-score']), '{0:.2f}'.format(dt_cr['accuracy'])])\n",
        "t.add_row(['K-vecinos más cercanos','NO',  '{0:.2f}'.format(knn_cr['0']['precision']), '{0:.2f}'.format(knn_cr['0']['recall']),\n",
        "           '{0:.2f}'.format(knn_cr['0']['f1-score']), '{0:.2f}'.format(knn_cr['accuracy'])])\n",
        "t.add_row(['K-vecinos más cercanos','SI',  '{0:.2f}'.format(knn_cr['1']['precision']), '{0:.2f}'.format(knn_cr['1']['recall']),\n",
        "           '{0:.2f}'.format(knn_cr['1']['f1-score']), '{0:.2f}'.format(knn_cr['accuracy'])])\n",
        "print(t)"
      ],
      "metadata": {
        "colab": {
          "base_uri": "https://localhost:8080/"
        },
        "id": "-BVCPuiM9xEa",
        "outputId": "5827209a-52ed-4808-d6c4-004477aa2e08"
      },
      "execution_count": 399,
      "outputs": [
        {
          "output_type": "stream",
          "name": "stdout",
          "text": [
            "+------------------------+-------+-----------+--------+----------+----------+\n",
            "|         Modelo         | Clase | precision | recall | f1-score | accuracy |\n",
            "+------------------------+-------+-----------+--------+----------+----------+\n",
            "|  árboles de decisión   |   NO  |    0.63   |  0.97  |   0.76   |   0.63   |\n",
            "|  árboles de decisión   |   SI  |    0.63   |  0.09  |   0.15   |   0.63   |\n",
            "| K-vecinos más cercanos |   NO  |    0.65   |  0.90  |   0.75   |   0.64   |\n",
            "| K-vecinos más cercanos |   SI  |    0.57   |  0.22  |   0.32   |   0.64   |\n",
            "+------------------------+-------+-----------+--------+----------+----------+\n"
          ]
        }
      ]
    },
    {
      "cell_type": "markdown",
      "source": [
        "\n",
        "Por la poca representacion de la clase SI en el conjunto de datos, ambos modelos tienen baja sensibilidad y recall para esta clase. Sin embargo **si se va a utilizar uno de los modelos construidos para predecir con un alto recall sobre la clase NO**, entonces se recomendaria usar **el modelo de árboles de decisión pues tiene un recall mas alto**, osea que predice correctamente esta clase en un mayor porcentage."
      ],
      "metadata": {
        "id": "_Z6mb6jzBn8F"
      }
    },
    {
      "cell_type": "markdown",
      "source": [
        "# 6.  Reglas que indican cuándo el agua no es apta para el consumo humano"
      ],
      "metadata": {
        "id": "I7fKkXmM9r62"
      }
    },
    {
      "cell_type": "code",
      "source": [
        "importancia = mejor_modelo_dt.feature_importances_\n",
        "importancia"
      ],
      "metadata": {
        "colab": {
          "base_uri": "https://localhost:8080/"
        },
        "id": "99WkAV8sfjgY",
        "outputId": "fe28ee31-6894-4eba-93e2-ad454cf411ef"
      },
      "execution_count": 400,
      "outputs": [
        {
          "output_type": "execute_result",
          "data": {
            "text/plain": [
              "array([0.18777224, 0.19517116, 0.11498833, 0.        , 0.35294457,\n",
              "       0.        , 0.10367299, 0.        , 0.04545071])"
            ]
          },
          "metadata": {},
          "execution_count": 400
        }
      ]
    },
    {
      "cell_type": "code",
      "source": [
        "importancia_df = pd.DataFrame(data={'Variable':x_train.columns, 'Importancia':importancia})\n",
        "importancia_df.sort_values('Importancia', ascending=False)"
      ],
      "metadata": {
        "colab": {
          "base_uri": "https://localhost:8080/",
          "height": 331
        },
        "id": "MEt0d05Mg_tj",
        "outputId": "06a2e1bf-1213-4f0e-b909-61f7d5e9f3f8"
      },
      "execution_count": 401,
      "outputs": [
        {
          "output_type": "execute_result",
          "data": {
            "text/plain": [
              "           Variable  Importancia\n",
              "4          Sulfatos     0.352945\n",
              "1            Dureza     0.195171\n",
              "0                pH     0.187772\n",
              "2           Sólidos     0.114988\n",
              "6  Carbono_orgánico     0.103673\n",
              "8          Turbidez     0.045451\n",
              "3        Cloraminas     0.000000\n",
              "5     Conductividad     0.000000\n",
              "7    Trihalometanos     0.000000"
            ],
            "text/html": [
              "\n",
              "  <div id=\"df-02879d0e-8898-472e-824e-917aea09d08b\" class=\"colab-df-container\">\n",
              "    <div>\n",
              "<style scoped>\n",
              "    .dataframe tbody tr th:only-of-type {\n",
              "        vertical-align: middle;\n",
              "    }\n",
              "\n",
              "    .dataframe tbody tr th {\n",
              "        vertical-align: top;\n",
              "    }\n",
              "\n",
              "    .dataframe thead th {\n",
              "        text-align: right;\n",
              "    }\n",
              "</style>\n",
              "<table border=\"1\" class=\"dataframe\">\n",
              "  <thead>\n",
              "    <tr style=\"text-align: right;\">\n",
              "      <th></th>\n",
              "      <th>Variable</th>\n",
              "      <th>Importancia</th>\n",
              "    </tr>\n",
              "  </thead>\n",
              "  <tbody>\n",
              "    <tr>\n",
              "      <th>4</th>\n",
              "      <td>Sulfatos</td>\n",
              "      <td>0.352945</td>\n",
              "    </tr>\n",
              "    <tr>\n",
              "      <th>1</th>\n",
              "      <td>Dureza</td>\n",
              "      <td>0.195171</td>\n",
              "    </tr>\n",
              "    <tr>\n",
              "      <th>0</th>\n",
              "      <td>pH</td>\n",
              "      <td>0.187772</td>\n",
              "    </tr>\n",
              "    <tr>\n",
              "      <th>2</th>\n",
              "      <td>Sólidos</td>\n",
              "      <td>0.114988</td>\n",
              "    </tr>\n",
              "    <tr>\n",
              "      <th>6</th>\n",
              "      <td>Carbono_orgánico</td>\n",
              "      <td>0.103673</td>\n",
              "    </tr>\n",
              "    <tr>\n",
              "      <th>8</th>\n",
              "      <td>Turbidez</td>\n",
              "      <td>0.045451</td>\n",
              "    </tr>\n",
              "    <tr>\n",
              "      <th>3</th>\n",
              "      <td>Cloraminas</td>\n",
              "      <td>0.000000</td>\n",
              "    </tr>\n",
              "    <tr>\n",
              "      <th>5</th>\n",
              "      <td>Conductividad</td>\n",
              "      <td>0.000000</td>\n",
              "    </tr>\n",
              "    <tr>\n",
              "      <th>7</th>\n",
              "      <td>Trihalometanos</td>\n",
              "      <td>0.000000</td>\n",
              "    </tr>\n",
              "  </tbody>\n",
              "</table>\n",
              "</div>\n",
              "    <div class=\"colab-df-buttons\">\n",
              "\n",
              "  <div class=\"colab-df-container\">\n",
              "    <button class=\"colab-df-convert\" onclick=\"convertToInteractive('df-02879d0e-8898-472e-824e-917aea09d08b')\"\n",
              "            title=\"Convert this dataframe to an interactive table.\"\n",
              "            style=\"display:none;\">\n",
              "\n",
              "  <svg xmlns=\"http://www.w3.org/2000/svg\" height=\"24px\" viewBox=\"0 -960 960 960\">\n",
              "    <path d=\"M120-120v-720h720v720H120Zm60-500h600v-160H180v160Zm220 220h160v-160H400v160Zm0 220h160v-160H400v160ZM180-400h160v-160H180v160Zm440 0h160v-160H620v160ZM180-180h160v-160H180v160Zm440 0h160v-160H620v160Z\"/>\n",
              "  </svg>\n",
              "    </button>\n",
              "\n",
              "  <style>\n",
              "    .colab-df-container {\n",
              "      display:flex;\n",
              "      gap: 12px;\n",
              "    }\n",
              "\n",
              "    .colab-df-convert {\n",
              "      background-color: #E8F0FE;\n",
              "      border: none;\n",
              "      border-radius: 50%;\n",
              "      cursor: pointer;\n",
              "      display: none;\n",
              "      fill: #1967D2;\n",
              "      height: 32px;\n",
              "      padding: 0 0 0 0;\n",
              "      width: 32px;\n",
              "    }\n",
              "\n",
              "    .colab-df-convert:hover {\n",
              "      background-color: #E2EBFA;\n",
              "      box-shadow: 0px 1px 2px rgba(60, 64, 67, 0.3), 0px 1px 3px 1px rgba(60, 64, 67, 0.15);\n",
              "      fill: #174EA6;\n",
              "    }\n",
              "\n",
              "    .colab-df-buttons div {\n",
              "      margin-bottom: 4px;\n",
              "    }\n",
              "\n",
              "    [theme=dark] .colab-df-convert {\n",
              "      background-color: #3B4455;\n",
              "      fill: #D2E3FC;\n",
              "    }\n",
              "\n",
              "    [theme=dark] .colab-df-convert:hover {\n",
              "      background-color: #434B5C;\n",
              "      box-shadow: 0px 1px 3px 1px rgba(0, 0, 0, 0.15);\n",
              "      filter: drop-shadow(0px 1px 2px rgba(0, 0, 0, 0.3));\n",
              "      fill: #FFFFFF;\n",
              "    }\n",
              "  </style>\n",
              "\n",
              "    <script>\n",
              "      const buttonEl =\n",
              "        document.querySelector('#df-02879d0e-8898-472e-824e-917aea09d08b button.colab-df-convert');\n",
              "      buttonEl.style.display =\n",
              "        google.colab.kernel.accessAllowed ? 'block' : 'none';\n",
              "\n",
              "      async function convertToInteractive(key) {\n",
              "        const element = document.querySelector('#df-02879d0e-8898-472e-824e-917aea09d08b');\n",
              "        const dataTable =\n",
              "          await google.colab.kernel.invokeFunction('convertToInteractive',\n",
              "                                                    [key], {});\n",
              "        if (!dataTable) return;\n",
              "\n",
              "        const docLinkHtml = 'Like what you see? Visit the ' +\n",
              "          '<a target=\"_blank\" href=https://colab.research.google.com/notebooks/data_table.ipynb>data table notebook</a>'\n",
              "          + ' to learn more about interactive tables.';\n",
              "        element.innerHTML = '';\n",
              "        dataTable['output_type'] = 'display_data';\n",
              "        await google.colab.output.renderOutput(dataTable, element);\n",
              "        const docLink = document.createElement('div');\n",
              "        docLink.innerHTML = docLinkHtml;\n",
              "        element.appendChild(docLink);\n",
              "      }\n",
              "    </script>\n",
              "  </div>\n",
              "\n",
              "\n",
              "<div id=\"df-4a96e9ef-6bb8-421c-af1e-3b3feb7be0c6\">\n",
              "  <button class=\"colab-df-quickchart\" onclick=\"quickchart('df-4a96e9ef-6bb8-421c-af1e-3b3feb7be0c6')\"\n",
              "            title=\"Suggest charts\"\n",
              "            style=\"display:none;\">\n",
              "\n",
              "<svg xmlns=\"http://www.w3.org/2000/svg\" height=\"24px\"viewBox=\"0 0 24 24\"\n",
              "     width=\"24px\">\n",
              "    <g>\n",
              "        <path d=\"M19 3H5c-1.1 0-2 .9-2 2v14c0 1.1.9 2 2 2h14c1.1 0 2-.9 2-2V5c0-1.1-.9-2-2-2zM9 17H7v-7h2v7zm4 0h-2V7h2v10zm4 0h-2v-4h2v4z\"/>\n",
              "    </g>\n",
              "</svg>\n",
              "  </button>\n",
              "\n",
              "<style>\n",
              "  .colab-df-quickchart {\n",
              "      --bg-color: #E8F0FE;\n",
              "      --fill-color: #1967D2;\n",
              "      --hover-bg-color: #E2EBFA;\n",
              "      --hover-fill-color: #174EA6;\n",
              "      --disabled-fill-color: #AAA;\n",
              "      --disabled-bg-color: #DDD;\n",
              "  }\n",
              "\n",
              "  [theme=dark] .colab-df-quickchart {\n",
              "      --bg-color: #3B4455;\n",
              "      --fill-color: #D2E3FC;\n",
              "      --hover-bg-color: #434B5C;\n",
              "      --hover-fill-color: #FFFFFF;\n",
              "      --disabled-bg-color: #3B4455;\n",
              "      --disabled-fill-color: #666;\n",
              "  }\n",
              "\n",
              "  .colab-df-quickchart {\n",
              "    background-color: var(--bg-color);\n",
              "    border: none;\n",
              "    border-radius: 50%;\n",
              "    cursor: pointer;\n",
              "    display: none;\n",
              "    fill: var(--fill-color);\n",
              "    height: 32px;\n",
              "    padding: 0;\n",
              "    width: 32px;\n",
              "  }\n",
              "\n",
              "  .colab-df-quickchart:hover {\n",
              "    background-color: var(--hover-bg-color);\n",
              "    box-shadow: 0 1px 2px rgba(60, 64, 67, 0.3), 0 1px 3px 1px rgba(60, 64, 67, 0.15);\n",
              "    fill: var(--button-hover-fill-color);\n",
              "  }\n",
              "\n",
              "  .colab-df-quickchart-complete:disabled,\n",
              "  .colab-df-quickchart-complete:disabled:hover {\n",
              "    background-color: var(--disabled-bg-color);\n",
              "    fill: var(--disabled-fill-color);\n",
              "    box-shadow: none;\n",
              "  }\n",
              "\n",
              "  .colab-df-spinner {\n",
              "    border: 2px solid var(--fill-color);\n",
              "    border-color: transparent;\n",
              "    border-bottom-color: var(--fill-color);\n",
              "    animation:\n",
              "      spin 1s steps(1) infinite;\n",
              "  }\n",
              "\n",
              "  @keyframes spin {\n",
              "    0% {\n",
              "      border-color: transparent;\n",
              "      border-bottom-color: var(--fill-color);\n",
              "      border-left-color: var(--fill-color);\n",
              "    }\n",
              "    20% {\n",
              "      border-color: transparent;\n",
              "      border-left-color: var(--fill-color);\n",
              "      border-top-color: var(--fill-color);\n",
              "    }\n",
              "    30% {\n",
              "      border-color: transparent;\n",
              "      border-left-color: var(--fill-color);\n",
              "      border-top-color: var(--fill-color);\n",
              "      border-right-color: var(--fill-color);\n",
              "    }\n",
              "    40% {\n",
              "      border-color: transparent;\n",
              "      border-right-color: var(--fill-color);\n",
              "      border-top-color: var(--fill-color);\n",
              "    }\n",
              "    60% {\n",
              "      border-color: transparent;\n",
              "      border-right-color: var(--fill-color);\n",
              "    }\n",
              "    80% {\n",
              "      border-color: transparent;\n",
              "      border-right-color: var(--fill-color);\n",
              "      border-bottom-color: var(--fill-color);\n",
              "    }\n",
              "    90% {\n",
              "      border-color: transparent;\n",
              "      border-bottom-color: var(--fill-color);\n",
              "    }\n",
              "  }\n",
              "</style>\n",
              "\n",
              "  <script>\n",
              "    async function quickchart(key) {\n",
              "      const quickchartButtonEl =\n",
              "        document.querySelector('#' + key + ' button');\n",
              "      quickchartButtonEl.disabled = true;  // To prevent multiple clicks.\n",
              "      quickchartButtonEl.classList.add('colab-df-spinner');\n",
              "      try {\n",
              "        const charts = await google.colab.kernel.invokeFunction(\n",
              "            'suggestCharts', [key], {});\n",
              "      } catch (error) {\n",
              "        console.error('Error during call to suggestCharts:', error);\n",
              "      }\n",
              "      quickchartButtonEl.classList.remove('colab-df-spinner');\n",
              "      quickchartButtonEl.classList.add('colab-df-quickchart-complete');\n",
              "    }\n",
              "    (() => {\n",
              "      let quickchartButtonEl =\n",
              "        document.querySelector('#df-4a96e9ef-6bb8-421c-af1e-3b3feb7be0c6 button');\n",
              "      quickchartButtonEl.style.display =\n",
              "        google.colab.kernel.accessAllowed ? 'block' : 'none';\n",
              "    })();\n",
              "  </script>\n",
              "</div>\n",
              "\n",
              "    </div>\n",
              "  </div>\n"
            ],
            "application/vnd.google.colaboratory.intrinsic+json": {
              "type": "dataframe",
              "summary": "{\n  \"name\": \"importancia_df\",\n  \"rows\": 9,\n  \"fields\": [\n    {\n      \"column\": \"Variable\",\n      \"properties\": {\n        \"dtype\": \"string\",\n        \"num_unique_values\": 9,\n        \"samples\": [\n          \"Conductividad\",\n          \"Dureza\",\n          \"Turbidez\"\n        ],\n        \"semantic_type\": \"\",\n        \"description\": \"\"\n      }\n    },\n    {\n      \"column\": \"Importancia\",\n      \"properties\": {\n        \"dtype\": \"number\",\n        \"std\": 0.11876717125860636,\n        \"min\": 0.0,\n        \"max\": 0.3529445730906336,\n        \"num_unique_values\": 7,\n        \"samples\": [\n          0.3529445730906336,\n          0.195171155256706,\n          0.0454507080869722\n        ],\n        \"semantic_type\": \"\",\n        \"description\": \"\"\n      }\n    }\n  ]\n}"
            }
          },
          "metadata": {},
          "execution_count": 401
        }
      ]
    },
    {
      "cell_type": "markdown",
      "source": [
        "Podemos observar que la variable con mayor importancia es **Sulfatos**. Tambien se puede evidenciar que las variables Cloraminas, Conductividad y Trihalometanos no son de importancia para la prediccion usando este modelo."
      ],
      "metadata": {
        "id": "ZJSatIvryzoH"
      }
    },
    {
      "cell_type": "markdown",
      "source": [
        "Ahora construiremos una grafica para visualizar el árbol"
      ],
      "metadata": {
        "id": "zTFA0NygkH4I"
      }
    },
    {
      "cell_type": "code",
      "source": [
        "plt.figure(figsize=(25,10))\n",
        "tree_plt = plot_tree(mejor_modelo_dt, max_depth=3, feature_names=importancia_df['Variable'], class_names=['NO','SI'], filled=True, fontsize=9)"
      ],
      "metadata": {
        "colab": {
          "base_uri": "https://localhost:8080/",
          "height": 482
        },
        "id": "jMBL7vn5kihQ",
        "outputId": "0b1e66be-5ecf-46bb-fa8d-86255dc74f76"
      },
      "execution_count": 402,
      "outputs": [
        {
          "output_type": "display_data",
          "data": {
            "text/plain": [
              "<Figure size 2500x1000 with 1 Axes>"
            ],
            "image/png": "[encoded data removed]"
          },
          "metadata": {}
        }
      ]
    },
    {
      "cell_type": "markdown",
      "source": [
        "Podemos construir las reglas para determinar cuando el agua no es apta para el consumo humano con ayuda de la funcion ``export_text()``:\n"
      ],
      "metadata": {
        "id": "vnn6VJAHlo6E"
      }
    },
    {
      "cell_type": "code",
      "source": [
        "text_representation = tree.export_text(mejor_modelo_dt, max_depth=3, feature_names=['pH','Dureza','Sólidos','Cloraminas','Sulfatos','Conductividad','Carbono_orgánico','Trihalometanos','Turbidez'])\n",
        "print(text_representation)\n"
      ],
      "metadata": {
        "colab": {
          "base_uri": "https://localhost:8080/"
        },
        "id": "mnP8LGUd5o0C",
        "outputId": "962b9829-50bf-4dc4-ccbe-28d32816bd52"
      },
      "execution_count": 403,
      "outputs": [
        {
          "output_type": "stream",
          "name": "stdout",
          "text": [
            "|--- Sulfatos <= 258.97\n",
            "|   |--- Sólidos <= 21161.41\n",
            "|   |   |--- pH <= 7.95\n",
            "|   |   |   |--- Turbidez <= 4.36\n",
            "|   |   |   |   |--- class: 0\n",
            "|   |   |   |--- Turbidez >  4.36\n",
            "|   |   |   |   |--- class: 1\n",
            "|   |   |--- pH >  7.95\n",
            "|   |   |   |--- class: 1\n",
            "|   |--- Sólidos >  21161.41\n",
            "|   |   |--- Sulfatos <= 245.84\n",
            "|   |   |   |--- Dureza <= 190.92\n",
            "|   |   |   |   |--- class: 1\n",
            "|   |   |   |--- Dureza >  190.92\n",
            "|   |   |   |   |--- class: 1\n",
            "|   |   |--- Sulfatos >  245.84\n",
            "|   |   |   |--- pH <= 5.50\n",
            "|   |   |   |   |--- class: 1\n",
            "|   |   |   |--- pH >  5.50\n",
            "|   |   |   |   |--- class: 1\n",
            "|--- Sulfatos >  258.97\n",
            "|   |--- Sulfatos <= 409.76\n",
            "|   |   |--- Dureza <= 100.97\n",
            "|   |   |   |--- class: 1\n",
            "|   |   |--- Dureza >  100.97\n",
            "|   |   |   |--- Dureza <= 281.42\n",
            "|   |   |   |   |--- class: 0\n",
            "|   |   |   |--- Dureza >  281.42\n",
            "|   |   |   |   |--- class: 1\n",
            "|   |--- Sulfatos >  409.76\n",
            "|   |   |--- pH <= 7.46\n",
            "|   |   |   |--- Carbono_orgánico <= 10.19\n",
            "|   |   |   |   |--- class: 0\n",
            "|   |   |   |--- Carbono_orgánico >  10.19\n",
            "|   |   |   |   |--- class: 1\n",
            "|   |   |--- pH >  7.46\n",
            "|   |   |   |--- Carbono_orgánico <= 12.57\n",
            "|   |   |   |   |--- class: 1\n",
            "|   |   |   |--- Carbono_orgánico >  12.57\n",
            "|   |   |   |   |--- class: 0\n",
            "\n"
          ]
        }
      ]
    },
    {
      "cell_type": "markdown",
      "source": [
        "# 7. Análisis de resultados"
      ],
      "metadata": {
        "id": "FSbDLcxf93Cz"
      }
    },
    {
      "cell_type": "markdown",
      "source": [
        "### ¿Qué puedes decir de los valores de las métricas recall y precisión para cada una de las clases en cada modelo? ¿Cuál de estás métricas consideras que es más importante con base en la descripción del problema?\n",
        "\n",
        "Ambos modelos tienen un comportamiento parecido para la clase 0 o NO, donde el recall es muy alto, precision y f1 score por encima del 60%.\n",
        "\n",
        "Por otro lado para la clase 1 o SI, ambos resultados son muy bajos, pero siendo el algoritmo de arboles de decision el peor con  recall de 0.09 y f1 score 0.15 comparado con recall de 0.22 y f1 score de 0.32 para el algoritmo de k-vecinos mas cercanos."
      ],
      "metadata": {
        "id": "fRSRgmCzHzA4"
      }
    },
    {
      "cell_type": "markdown",
      "source": [
        "### ¿Consideras que el rendimiento de los modelos es adecuado? Si no es así, ¿Cómo podrían mejorarse los resultados?\n",
        "\n",
        "Se puede observar que los datos no estan bien balanceados, pues hay mas presencia de datos para la clase \"NO\". Para mejorar los resultados podriamos usar varias tecnicas:\n",
        "- Sobre muestreo: Aumentar el conjunto de datos de la clase minoritaria (SI) usando tecnicas como SMOTE\n",
        "- Sub muestreo: Disminuir el tamaño del conjunto de datos para la clase mayoritaria (NO) mediante una selección aleatoria de un subconjunto de instancias\n",
        "- Agregar pesos en el modelo para que las instancias de la clase minoritaria tengan mas valor. El algoritmo de arboles de decision tiene parametros que sirven para estos casos de datos imbalanceados.\n",
        "\n",
        "Tambien se podria considerar realizar mas muestreos para conseguir mas datos. La desicion de como mejorar los resultados debe ser tomada por un experto."
      ],
      "metadata": {
        "id": "VOl3h0e6H0_z"
      }
    },
    {
      "cell_type": "markdown",
      "source": [
        "### ¿Cuáles son las variables más significativas según el mejor modelo basado en árboles de decisión? Reflexiona sobre cómo este nuevo conocimiento podría ayudar a tomar decisiones en el contexto del problema.\n",
        "\n",
        "Segun el modelo de arboles de desicion las variables de mas valor y su importancia son:\n",
        "\n",
        "|Variable |\tImportancia|\n",
        "|------------|:-----------:|\n",
        "|Sulfatos |\t0.352945|\n",
        "|Dureza |\t0.195171|\n",
        "|pH |\t0.187772|\n",
        "|Sólidos |\t0.114988|\n",
        "|Carbono_orgánico |\t0.103673|\n",
        "|Turbidez |\t0.045451|\n",
        "\n",
        "Teniendo en cuenta este hallazgo, se puede tomar la desicion de investigar las fuentes de agua y escoger lugares apropiados donde el agua sea naturalmente potable o encontrar tratamientos para el agua no potable que regule principalmente los niveles de sulfatos, dureza y pH que son de mayor importancia."
      ],
      "metadata": {
        "id": "VrV_UWLJH8W2"
      }
    },
    {
      "cell_type": "markdown",
      "source": [
        "### Si los dos modelos proporcionan resultados similares en cuanto a las métricas de rendimiento ¿Cuál seleccionarías tomando en cuenta el contexto del problema?\n",
        "\n",
        "Creando la matriz de confusion tenemos:\n",
        "\n",
        "||C0 |\tC1|\n",
        "|------------|:-----------:|------------|\n",
        "|**C0** |TP | FP|\n",
        "|**C1** |FN | TN |\n",
        "\n",
        "- C0 = No es potable\n",
        "- C1 = Si es potable\n",
        "- TP = No es potable clasificada como No es potable\n",
        "- FP = Si es potable clasificada como No es potable\n",
        "- FN = No es potable clasificada como Si es potable\n",
        "- TN = Si es potable clasificada como Si es potable\n",
        "\n",
        "Teniendo en cuenta que estamos analizando la calidad del agua para consumo humano, **lo que mas importa es que las muestras que sean no potables no se clasifiquen como potables** pues trae riesgos para la salud, es decir, evitar los falsos negativos.\n",
        "\n",
        "Por esto lo fundamental es tener un alto recall y el modelo de arboles de desicion tiene el porcentaje mas alto con 97%."
      ],
      "metadata": {
        "id": "CUkLnr3uH_Dw"
      }
    }
  ]
}